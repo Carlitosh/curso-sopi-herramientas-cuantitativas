{
 "cells": [
  {
   "cell_type": "markdown",
   "metadata": {},
   "source": [
    "# Clase 1\n",
    "\n",
    "## Ploteo y convolucion de firmas espectrales.\n",
    "\n",
    "En esta clase veremos\n",
    "\n",
    "1. Como leer un archivo.\n",
    "2. Como hacer la convolucion entre una firma espectral y un sensor.\n",
    "3. Como graficar la firma espectral medida en una imagen.\n"
   ]
  },
  {
   "cell_type": "markdown",
   "metadata": {},
   "source": [
    "## Lectura de archivos\n",
    "\n",
    "Para leer los archivos trabajaremos con *numpy*. \n",
    "\n",
    "Abriremos firmas espectrales provenientes de la libreria de aster"
   ]
  },
  {
   "cell_type": "code",
   "execution_count": 1,
   "metadata": {
    "collapsed": false
   },
   "outputs": [],
   "source": [
    "# Cargamos numpy\n",
    "import numpy as np\n",
    "# Cargo las funciones necesarias para interpolar la firma\n",
    "import scipy as sp\n",
    "from scipy import interpolate\n",
    "# Ignoro ciertos warnings\n",
    "np.seterr(invalid='ignore');"
   ]
  },
  {
   "cell_type": "markdown",
   "metadata": {},
   "source": [
    "Abrimos y leemos una firma espectral"
   ]
  },
  {
   "cell_type": "code",
   "execution_count": 2,
   "metadata": {
    "collapsed": false
   },
   "outputs": [],
   "source": [
    "# Creamos una variable con la direccion del archivo\n",
    "firma_in = \"../material/firmas/B28_1.txt\"\n",
    "\n",
    "# Leemos la firma.\n",
    "# skip_header se usa para saltear el header del archivo\n",
    "firma = np.genfromtxt(firma_in,skip_header=7)\n",
    "# Convierto la firma a reflectancia entre 0 y 1\n",
    "firma[:,3] = firma[:,3]\n",
    "\n",
    "# Pongo como valor no valido los valores cero\n",
    "# Busco los valores cero\n",
    "mask = firma[:,3]<=0\n",
    "# Los enmascaro como nan\n",
    "firma[mask]=np.nan\n",
    "# Interpolo la firma en el intervalo de interes\n",
    "fi = interpolate.interp1d(firma[:,0], firma[:,3])\n",
    "mask = ~mask # Invierto la mascara"
   ]
  },
  {
   "cell_type": "markdown",
   "metadata": {},
   "source": [
    "Leemos la banda para hacer la convolucion"
   ]
  },
  {
   "cell_type": "code",
   "execution_count": 3,
   "metadata": {
    "collapsed": false
   },
   "outputs": [],
   "source": [
    "# Seleccionamos el archivo con la banda\n",
    "banda_in = \"../material/respuestas/landsat_8_B7.csv\"\n",
    "\n",
    "# Leemos la firma.\n",
    "# skip_header se usa para saltear el header del archivo, delimitador = ','\n",
    "banda = np.genfromtxt(banda_in,skip_header=1,delimiter=',')"
   ]
  },
  {
   "cell_type": "markdown",
   "metadata": {},
   "source": [
    "Leemos la irradiancia solar"
   ]
  },
  {
   "cell_type": "markdown",
   "metadata": {},
   "source": [
    "## Convolucion de una banda\n",
    "\n",
    "Para hacer la convolucion de una banda, tenemos que calcular\n",
    "\n",
    "$$ \\rho_b = \\frac{\\int_{\\lambda_{min}}^{\\lambda_{max}} \\rho_{\\lambda, sensor} f(\\lambda) d\\lambda}{\\int_{\\lambda_{min}}^{\\lambda_{max}} f(\\lambda)d\\lambda}$$\n",
    "\n",
    "1. el siguiente codigo compara las firmas espectrales con la respuesa del sensor\n",
    "2. calcula las funciones a integrar\n",
    "3. las integra por el metodo de simpson\n",
    "\n",
    "para el paso 3, utilizaremos la libreria scipy"
   ]
  },
  {
   "cell_type": "code",
   "execution_count": 4,
   "metadata": {
    "collapsed": false
   },
   "outputs": [],
   "source": [
    "# Creo los arrays vacios para guardar los datos\n",
    "wl = banda[:,0]\n",
    "f = banda[:,1]\n",
    "r = fi(wl)\n",
    "fL = f*r"
   ]
  },
  {
   "cell_type": "code",
   "execution_count": 5,
   "metadata": {
    "collapsed": false
   },
   "outputs": [],
   "source": [
    "# Importo scipy y las herramientas de integracion\n",
    "from scipy import integrate"
   ]
  },
  {
   "cell_type": "code",
   "execution_count": 6,
   "metadata": {
    "collapsed": false
   },
   "outputs": [
    {
     "data": {
      "text/plain": [
       "77.878408887434873"
      ]
     },
     "execution_count": 6,
     "metadata": {},
     "output_type": "execute_result"
    }
   ],
   "source": [
    "# Integro la funcion y hago el cociente\n",
    "rb = sp.integrate.simps(y=fL,x=wl)/sp.integrate.simps(y=f,x=wl)\n",
    "rb"
   ]
  },
  {
   "cell_type": "markdown",
   "metadata": {},
   "source": [
    "## Graficar una firma espectral\n",
    "\n",
    "Para graficar uan firma espectral volveremos a utilizar matplotlib con la opcion inline."
   ]
  },
  {
   "cell_type": "code",
   "execution_count": 7,
   "metadata": {
    "collapsed": false
   },
   "outputs": [],
   "source": [
    "import matplotlib.pyplot as plt\n",
    "%matplotlib inline"
   ]
  },
  {
   "cell_type": "markdown",
   "metadata": {},
   "source": [
    "*Ejemplo:* Firma espectral entre dos valores"
   ]
  },
  {
   "cell_type": "code",
   "execution_count": 8,
   "metadata": {
    "collapsed": false
   },
   "outputs": [
    {
     "data": {
      "text/plain": [
       "<matplotlib.text.Text at 0x7fce760efef0>"
      ]
     },
     "execution_count": 8,
     "metadata": {},
     "output_type": "execute_result"
    },
    {
     "data": {
      "image/png": "[encoded data removed]",
      "text/plain": [
       "<matplotlib.figure.Figure at 0x7fce7619ea20>"
      ]
     },
     "metadata": {},
     "output_type": "display_data"
    }
   ],
   "source": [
    "# Grafico la reflectancia contra la longitud de onda\n",
    "plt.plot(firma[:,0],firma[:,3], label=\"Vegetacion\", color=\"green\")\n",
    "# Pongo el limite en x e y\n",
    "plt.xlim(400,2500)\n",
    "plt.ylim(0,5000)\n",
    "\n",
    "# Incluyo la leyenda\n",
    "plt.legend()\n",
    "# Pongo nombres a los ejes\n",
    "plt.xlabel(\"Longitud de londa [nm]\")\n",
    "plt.ylabel(\"Relectancia [Arb.]\")\n",
    "# Pongo titulo\n",
    "plt.title(\"Firma espectral de la vegetacion\")"
   ]
  },
  {
   "cell_type": "markdown",
   "metadata": {},
   "source": [
    "*Ejemplo:* Firma espectral y respuesta del sensor"
   ]
  },
  {
   "cell_type": "code",
   "execution_count": 57,
   "metadata": {
    "collapsed": false
   },
   "outputs": [
    {
     "data": {
      "text/plain": [
       "<matplotlib.text.Text at 0x7f06cf038c50>"
      ]
     },
     "execution_count": 57,
     "metadata": {},
     "output_type": "execute_result"
    },
    {
     "data": {
      "image/png": "[encoded data removed]",
      "text/plain": [
       "<matplotlib.figure.Figure at 0x7f06cf095ef0>"
      ]
     },
     "metadata": {},
     "output_type": "display_data"
    }
   ],
   "source": [
    "# Grafico la respuesta del sensor\n",
    "plt.plot(wl,f, label=\"Sensor\")\n",
    "# Grafco la firma de la vegetacion\n",
    "plt.plot(wl,r, label=\"Vegetacion\")\n",
    "\n",
    "# Incluyo la leyenda\n",
    "plt.legend()\n",
    "# Pongo nombres a los ejes\n",
    "plt.xlabel(\"Longitud de londa [nm]\")\n",
    "plt.ylabel(\"Relectancia [Arb.]\")\n",
    "# Pongo titulo\n",
    "plt.title(\"Firma espectral de la vegetacion\")"
   ]
  },
  {
   "cell_type": "markdown",
   "metadata": {},
   "source": [
    "*Ejemplo:* Firma espectral y puntos tomados a partir de la imagen"
   ]
  },
  {
   "cell_type": "code",
   "execution_count": 185,
   "metadata": {
    "collapsed": false
   },
   "outputs": [
    {
     "data": {
      "text/plain": [
       "<matplotlib.text.Text at 0x7f06cdb44128>"
      ]
     },
     "execution_count": 185,
     "metadata": {},
     "output_type": "execute_result"
    },
    {
     "data": {
      "image/png": "[encoded data removed]",
      "text/plain": [
       "<matplotlib.figure.Figure at 0x7f06cdbc81d0>"
      ]
     },
     "metadata": {},
     "output_type": "display_data"
    }
   ],
   "source": [
    "# Grafico primero la firma espectral\n",
    "# Grafico la reflectancia contra la longitud de onda\n",
    "s2 = firma[:,4]-firma[:,2]\n",
    "plt.plot(firma[:,0],firma[:,3], label=\"Vegetacion\", color=\"green\")\n",
    "\n",
    "# Grafico los puntos tomados en la imagen\n",
    "# Fijo las longitudes de onda de cada banda\n",
    "l = [485,550,660,835,1650,2220]\n",
    "# Fijo la reflectancia medida en la imagen\n",
    "r = [128,329,185,3568,1219,442]\n",
    "# Grafico la reflectancia con puntos\n",
    "plt.plot(l,r,'o', color=\"red\", label=\"Puntos\")\n",
    "# Pongo el limite en x e y\n",
    "#plt.xlim(400,2500)\n",
    "#plt.ylim(0,5000)\n",
    "\n",
    "# Incluyo la leyenda\n",
    "plt.legend(numpoints=1)\n",
    "# Pongo nombres a los ejes\n",
    "plt.xlabel(\"Longitud de londa [nm]\")\n",
    "plt.ylabel(\"Relectancia [Arb.]\")\n",
    "# Pongo titulo\n",
    "plt.title(\"Firma espectral de la vegetacion\")"
   ]
  }
 ],
 "metadata": {
  "kernelspec": {
   "display_name": "Python 3",
   "language": "python",
   "name": "python3"
  },
  "language_info": {
   "codemirror_mode": {
    "name": "ipython",
    "version": 3
   },
   "file_extension": ".py",
   "mimetype": "text/x-python",
   "name": "python",
   "nbconvert_exporter": "python",
   "pygments_lexer": "ipython3",
   "version": "3.5.1"
  }
 },
 "nbformat": 4,
 "nbformat_minor": 0
}
