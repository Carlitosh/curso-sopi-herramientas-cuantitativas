{
 "cells": [
  {
   "cell_type": "markdown",
   "metadata": {},
   "source": [
    "# Clase 1\n",
    "\n",
    "## Ploteo y convolucion de firmas espectrales.\n",
    "\n",
    "En esta clase veremos\n",
    "\n",
    "1. Como leer un archivo.\n",
    "2. Como hacer la convolucion entre una firma espectral y un sensor.\n",
    "3. Como graficar la firma espectral medida en una imagen.\n"
   ]
  },
  {
   "cell_type": "markdown",
   "metadata": {},
   "source": [
    "## Lectura de archivos\n",
    "\n",
    "Para leer los archivos trabajaremos con *numpy*. \n",
    "\n",
    "Abriremos firmas espectrales provenientes de la libreria de aster"
   ]
  },
  {
   "cell_type": "code",
   "execution_count": 79,
   "metadata": {
    "collapsed": false
   },
   "outputs": [],
   "source": [
    "# Cargamos numpy\n",
    "import numpy as np\n",
    "# Cargo las funciones necesarias para interpolar la firma\n",
    "import scipy as sp\n",
    "from scipy import interpolate"
   ]
  },
  {
   "cell_type": "markdown",
   "metadata": {},
   "source": [
    "Abrimos y leemos una firma espectral"
   ]
  },
  {
   "cell_type": "code",
   "execution_count": 116,
   "metadata": {
    "collapsed": false
   },
   "outputs": [],
   "source": [
    "# Creamos una variable con la direccion del archivo\n",
    "firma_in = \"../material/firmas/A12_alto.txt\"\n",
    "\n",
    "# Leemos la firma.\n",
    "# skip_header se usa para saltear el header del archivo\n",
    "firma = np.genfromtxt(firma_in,skip_header=7)\n",
    "# Convierto la firma a reflectancia entre 0 y 1\n",
    "firma[:,3] = firma[:,3]/1e4\n",
    "\n",
    "# Pongo como valor no valido los valores cero\n",
    "# Busco los valores cero\n",
    "mask = firma[:,3]==0\n",
    "# Los enmascaro como nan\n",
    "firma[mask]=np.nan\n",
    "# Interpolo la firma en el intervalo de interes\n",
    "fi = interpolate.interp1d(firma[:,0], firma[:,3])\n",
    "mask = ~mask # Invierto la mascara"
   ]
  },
  {
   "cell_type": "markdown",
   "metadata": {},
   "source": [
    "Leemos la banda para hacer la convolucion"
   ]
  },
  {
   "cell_type": "code",
   "execution_count": 117,
   "metadata": {
    "collapsed": false
   },
   "outputs": [],
   "source": [
    "# Seleccionamos el archivo con la banda\n",
    "banda_in = \"../material/respuestas/landsat_8_B5_nir.csv\"\n",
    "\n",
    "# Leemos la firma.\n",
    "# skip_header se usa para saltear el header del archivo, delimitador = ','\n",
    "banda = np.genfromtxt(banda_in,skip_header=1,delimiter=',')"
   ]
  },
  {
   "cell_type": "markdown",
   "metadata": {},
   "source": [
    "Leemos la irradiancia solar"
   ]
  },
  {
   "cell_type": "markdown",
   "metadata": {},
   "source": [
    "## Convolucion de una banda\n",
    "\n",
    "Para hacer la convolucion de una banda, tenemos que calcular\n",
    "\n",
    "$$ \\rho_b = \\frac{\\int_{\\lambda_{min}}^{\\lambda_{max}} \\rho_{\\lambda, sensor} f(\\lambda) d\\lambda}{\\int_{\\lambda_{min}}^{\\lambda_{max}} f(\\lambda)d\\lambda}$$\n",
    "\n",
    "1. el siguiente codigo compara las firmas espectrales con la respuesa del sensor\n",
    "2. calcula las funciones a integrar\n",
    "3. las integra por el metodo de simpson\n",
    "\n",
    "para el paso 3, utilizaremos la libreria scipy"
   ]
  },
  {
   "cell_type": "code",
   "execution_count": 118,
   "metadata": {
    "collapsed": false
   },
   "outputs": [
    {
     "name": "stderr",
     "output_type": "stream",
     "text": [
      "/usr/lib/python3.5/site-packages/scipy/interpolate/interpolate.py:611: RuntimeWarning: invalid value encountered in greater\n",
      "  above_bounds = x_new > self.x[-1]\n"
     ]
    }
   ],
   "source": [
    "# Creo los arrays vacios para guardar los datos\n",
    "wl = banda[:,0]\n",
    "f = banda[:,1]\n",
    "r = fi(wl)\n",
    "\n",
    "# Filtro todo para los valores positivos (mayores a 0.001) de la firma espectral\n",
    "#wl = wl[mask]\n",
    "#f = f[mask]\n",
    "#L = L[mask]\n",
    "fL = f*r"
   ]
  },
  {
   "cell_type": "code",
   "execution_count": 110,
   "metadata": {
    "collapsed": false
   },
   "outputs": [],
   "source": [
    "# Importo scipy y las herramientas de integracion\n",
    "from scipy import integrate"
   ]
  },
  {
   "cell_type": "code",
   "execution_count": 119,
   "metadata": {
    "collapsed": false
   },
   "outputs": [
    {
     "data": {
      "text/plain": [
       "0.40340938836999102"
      ]
     },
     "execution_count": 119,
     "metadata": {},
     "output_type": "execute_result"
    }
   ],
   "source": [
    "# Integro la funcion y hago el cociente\n",
    "Lb = sp.integrate.simps(y=fL,x=wl)/sp.integrate.simps(y=f,x=wl)\n",
    "Lb"
   ]
  },
  {
   "cell_type": "markdown",
   "metadata": {},
   "source": [
    "## Graficar una firma espectral\n",
    "\n",
    "Para graficar uan firma espectral volveremos a utilizar matplotlib con la opcion inline."
   ]
  },
  {
   "cell_type": "code",
   "execution_count": 106,
   "metadata": {
    "collapsed": false
   },
   "outputs": [],
   "source": [
    "import matplotlib.pyplot as plt\n",
    "%matplotlib inline"
   ]
  },
  {
   "cell_type": "markdown",
   "metadata": {},
   "source": [
    "*Ejemplo:* Firma espectral entre dos valores"
   ]
  },
  {
   "cell_type": "code",
   "execution_count": 120,
   "metadata": {
    "collapsed": false
   },
   "outputs": [
    {
     "data": {
      "text/plain": [
       "<matplotlib.text.Text at 0x7fd5b8dbdac8>"
      ]
     },
     "execution_count": 120,
     "metadata": {},
     "output_type": "execute_result"
    },
    {
     "data": {
      "image/png": "[encoded data removed]",
      "text/plain": [
       "<matplotlib.figure.Figure at 0x7fd5b9267f28>"
      ]
     },
     "metadata": {},
     "output_type": "display_data"
    }
   ],
   "source": [
    "# Fijo lambda minimo y maximo\n",
    "lmin = 400\n",
    "lmax = 2500\n",
    "\n",
    "# Creo la mascara de los valores de interes\n",
    "#mask = (firma[:,0]<lmax) & (firma[:,0]>lmin)\n",
    "\n",
    "# Grafico la reflectancia contra la longitud de onda\n",
    "plt.plot(firma[:,0],firma[:,3], label=\"Vegetacion\", color=\"green\")\n",
    "\n",
    "# Incluyo la leyenda\n",
    "plt.legend()\n",
    "# Pongo nombres a los ejes\n",
    "plt.xlabel(\"Longitud de londa [nm]\")\n",
    "plt.ylabel(\"Relectancia [Arb.]\")\n",
    "# Pongo titulo\n",
    "plt.title(\"Firma espectral de la vegetacion\")"
   ]
  },
  {
   "cell_type": "markdown",
   "metadata": {},
   "source": [
    "*Ejemplo:* Firma espectral y respuesta del sensor"
   ]
  },
  {
   "cell_type": "code",
   "execution_count": 121,
   "metadata": {
    "collapsed": false
   },
   "outputs": [
    {
     "data": {
      "text/plain": [
       "<matplotlib.text.Text at 0x7fd5b8d35710>"
      ]
     },
     "execution_count": 121,
     "metadata": {},
     "output_type": "execute_result"
    },
    {
     "data": {
      "image/png": "[encoded data removed]",
      "text/plain": [
       "<matplotlib.figure.Figure at 0x7fd5b8f5a3c8>"
      ]
     },
     "metadata": {},
     "output_type": "display_data"
    }
   ],
   "source": [
    "# Grafico la respuesta del sensor\n",
    "plt.plot(wl,f, label=\"Sensor\")\n",
    "# Grafco la firma de la vegetacion\n",
    "plt.plot(wl,r, label=\"Vegetacion\")\n",
    "\n",
    "# Incluyo la leyenda\n",
    "plt.legend()\n",
    "# Pongo nombres a los ejes\n",
    "plt.xlabel(\"Longitud de londa [nm]\")\n",
    "plt.ylabel(\"Relectancia [Arb.]\")\n",
    "# Pongo titulo\n",
    "plt.title(\"Firma espectral de la vegetacion\")"
   ]
  },
  {
   "cell_type": "markdown",
   "metadata": {},
   "source": [
    "*Ejemplo:* Firma espectral y puntos tomados a partir de la imagen"
   ]
  },
  {
   "cell_type": "code",
   "execution_count": 122,
   "metadata": {
    "collapsed": false
   },
   "outputs": [
    {
     "data": {
      "text/plain": [
       "<matplotlib.text.Text at 0x7fd5b8cae710>"
      ]
     },
     "execution_count": 122,
     "metadata": {},
     "output_type": "execute_result"
    },
    {
     "data": {
      "image/png": "[encoded data removed]",
      "text/plain": [
       "<matplotlib.figure.Figure at 0x7fd5b8f57320>"
      ]
     },
     "metadata": {},
     "output_type": "display_data"
    }
   ],
   "source": [
    "# Grafico primero la firma espectral\n",
    "# Fijo lambda minimo y maximo\n",
    "lmin = 400\n",
    "lmax = 2500\n",
    "# Creo la mascara de los valores de interes\n",
    "mask = (firma[:,0]<lmax) & (firma[:,0]>lmin)\n",
    "# Grafico la reflectancia contra la longitud de onda\n",
    "plt.plot(firma[mask][:,0],firma[mask][:,3], label=\"Vegetacion\", color=\"green\")\n",
    "\n",
    "# Grafico los puntos tomados en la imagen\n",
    "# Fijo las longitudes de onda de cada banda\n",
    "l = [485,550,660,835,1650,2220]\n",
    "# Fijo la reflectancia medida en la imagen\n",
    "r = [0.04,0.09,0.05,0.49,0.3,0.15]\n",
    "# Grafico la reflectancia con puntos\n",
    "plt.plot(l,r,'o', color=\"red\", label=\"Puntos\")\n",
    "\n",
    "# Incluyo la leyenda\n",
    "plt.legend(numpoints=1)\n",
    "# Pongo nombres a los ejes\n",
    "plt.xlabel(\"Longitud de londa [nm]\")\n",
    "plt.ylabel(\"Relectancia [Arb.]\")\n",
    "# Pongo titulo\n",
    "plt.title(\"Firma espectral de la vegetacion\")"
   ]
  }
 ],
 "metadata": {
  "kernelspec": {
   "display_name": "Python 3",
   "language": "python",
   "name": "python3"
  },
  "language_info": {
   "codemirror_mode": {
    "name": "ipython",
    "version": 3
   },
   "file_extension": ".py",
   "mimetype": "text/x-python",
   "name": "python",
   "nbconvert_exporter": "python",
   "pygments_lexer": "ipython3",
   "version": "3.5.1"
  }
 },
 "nbformat": 4,
 "nbformat_minor": 0
}
