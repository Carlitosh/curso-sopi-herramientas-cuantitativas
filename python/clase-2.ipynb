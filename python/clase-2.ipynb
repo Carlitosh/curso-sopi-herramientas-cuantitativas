{
 "cells": [
  {
   "cell_type": "markdown",
   "metadata": {},
   "source": [
    "# Clase 2\n",
    "\n",
    "## Correccion de imagenes satelitales\n",
    "\n",
    "Es esta clase veremos\n",
    "\n",
    "1. Como abrir una imagen con python\n",
    "2. Como escribir una imagen con python\n",
    "3. Como realizar operaciones sobre las imagenes\n",
    "4. Como utilizar el modulo py6s"
   ]
  },
  {
   "cell_type": "markdown",
   "metadata": {},
   "source": [
    "### Apertura de imagenes\n",
    "\n",
    "Para abrir imagenes en python utilizaremos el modulo de [gdal](www.gdal.org]) de python.\n",
    "\n",
    "Comenzamos cargandolo, junto con los modulos de numpy."
   ]
  },
  {
   "cell_type": "code",
   "execution_count": 1,
   "metadata": {
    "collapsed": true
   },
   "outputs": [],
   "source": [
    "# Cargo gdal y numpt\n",
    "import gdal\n",
    "import numpy as np"
   ]
  },
  {
   "cell_type": "markdown",
   "metadata": {},
   "source": [
    "Veremos ahora como\n",
    "\n",
    "- Abrir la imagen"
   ]
  },
  {
   "cell_type": "code",
   "execution_count": 2,
   "metadata": {
    "collapsed": true
   },
   "outputs": [],
   "source": [
    "# Ponemos el nombre de la imagen\n",
    "\n",
    "imagen_in = \"../coberturas/imagenes/l8_oli_2013-08-19.tif\"\n",
    "\n",
    "# cargo la imagen como un handle\n",
    "\n",
    "imagen_ha = gdal.Open(imagen_in)"
   ]
  },
  {
   "cell_type": "markdown",
   "metadata": {},
   "source": [
    "- Leer los parametros de la imagen"
   ]
  },
  {
   "cell_type": "code",
   "execution_count": 9,
   "metadata": {
    "collapsed": false
   },
   "outputs": [
    {
     "data": {
      "text/plain": [
       "6"
      ]
     },
     "execution_count": 9,
     "metadata": {},
     "output_type": "execute_result"
    }
   ],
   "source": [
    "# Leo la cantidad de filas y columnas\n",
    "Nx = imagen_ha.RasterXSize\n",
    "Ny = imagen_ha.RasterYSize\n",
    "N  = imagen_ha.RasterCount\n",
    "\n",
    "# Lectura de parametros geoespaciales\n",
    "geo  = imagen_ha.GetGeoTransform()\n",
    "proj = imagen_ha.GetProjection()"
   ]
  },
  {
   "cell_type": "markdown",
   "metadata": {},
   "source": [
    "- Cargar la imagen como un array de numpy"
   ]
  },
  {
   "cell_type": "code",
   "execution_count": 13,
   "metadata": {
    "collapsed": false
   },
   "outputs": [],
   "source": [
    "# Creo el array de con el numero de bandas elementos vacios\n",
    "imagen = [[]]*N\n",
    "# Leo la banda como array\n",
    "# Sumamos +1 a i para obtener el numero de banda correcto\n",
    "for i in range(N):\n",
    "    imagen[i] = imagen_ha.GetRasterBand(i+1).ReadAsArray() \n",
    "    \n",
    "# Para trabajar mas facilmente con la imagen la convertimos en float\n",
    "# Convertimos la imagen en float32\n",
    "imagen = np.array(imagen, dtype=np.float32)"
   ]
  },
  {
   "cell_type": "markdown",
   "metadata": {},
   "source": [
    "### Escritura de imagenes\n",
    "\n",
    "Veremos aqui como escribir un array de numpy en una imagen.\n",
    "\n",
    "Usaremos todos los datos leidos de la imagen original"
   ]
  },
  {
   "cell_type": "code",
   "execution_count": 17,
   "metadata": {
    "collapsed": true
   },
   "outputs": [],
   "source": [
    "# Nombro el archivo de salida\n",
    "file_out = \"salida.tif\"\n",
    "\n",
    "# Obtengo el driver para el tipo de imagena utilizar\n",
    "# En este caso, geotiff\n",
    "driver = gdal.GetDriverByName(\"GTiff\")\n",
    "\n",
    "# Creo la imagen a de destino de Nx*Ny con N bandas y de tipo Float32\n",
    "dst_ds = driver.Create(file_out,Nx,Ny,N,gdal.GDT_Float32)\n",
    "\n",
    "# Asigno la proyeccion a la imagen\n",
    "dst_ds.SetGeoTransform( geo )\n",
    "dst_ds.SetProjection( proj )\n",
    "\n",
    "# Guardo los arrays como bandas\n",
    "for i in range(N):\n",
    "    dst_ds.GetRasterBand(i+1).WriteArray(imagen[i])\n",
    "\n",
    "# Guardo y cierro el archivo\n",
    "dst_ds = None"
   ]
  }
 ],
 "metadata": {
  "kernelspec": {
   "display_name": "Python 3",
   "language": "python",
   "name": "python3"
  },
  "language_info": {
   "codemirror_mode": {
    "name": "ipython",
    "version": 3
   },
   "file_extension": ".py",
   "mimetype": "text/x-python",
   "name": "python",
   "nbconvert_exporter": "python",
   "pygments_lexer": "ipython3",
   "version": "3.5.1"
  }
 },
 "nbformat": 4,
 "nbformat_minor": 0
}
