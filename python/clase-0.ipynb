{
 "cells": [
  {
   "cell_type": "markdown",
   "metadata": {},
   "source": [
    "# Clase 0\n",
    "\n",
    "Introduccion a python. Veremos en esta clase:\n",
    "\n",
    "1. Conceptos basicos de *python*\n",
    "2. Como una el paquete *numpy*\n",
    "3. Como usar el paquete *matplotlib*"
   ]
  },
  {
   "cell_type": "markdown",
   "metadata": {},
   "source": [
    "## 1. Conceptos basicos de python\n",
    "\n",
    "Veremos en esta seccion como definir variables en python y que tipos de variables tenemos para trabajar."
   ]
  },
  {
   "cell_type": "markdown",
   "metadata": {},
   "source": [
    "### Tipos de objetos\n",
    "\n",
    "Vamos a trabajar con 3 tipos de objetos\n",
    "\n",
    "- **integer** : Numeros sin coma.\n",
    "- **floating point** : Numeros con coma.\n",
    "- **string** : Cadenas de letras y numeros.\n",
    "\n",
    "En python, para definir el tipo de una variable alcanza con definirla.\n",
    "\n",
    "*Observacion:* Los nombres de las variables pueden tener letras o numeros, pero no empezar con un numero.\n",
    "\n",
    "*Por ejemplo:*"
   ]
  },
  {
   "cell_type": "code",
   "execution_count": 25,
   "metadata": {
    "collapsed": false
   },
   "outputs": [],
   "source": [
    "# Variables de tipo int\n",
    "i = 1\n",
    "j = 8\n",
    "\n",
    "# Variable de tipo float\n",
    "tiempo = 1.0\n",
    "velocidad_luz = 2.99792458e8\n",
    "g = 9.8\n",
    "\n",
    "# Variable de tipo string\n",
    "saludo = \"Hola mundo!\"\n",
    "mi_nombre = \"Fran\""
   ]
  },
  {
   "cell_type": "markdown",
   "metadata": {},
   "source": [
    "### Operaciones y funciones\n",
    "Se pueden realizar operaciones entre las distintas variables\n",
    "\n",
    "- \\+ : suma\n",
    "- \\- : resta\n",
    "- \\* : multiplicacion\n",
    "- / : division\n",
    "- \\*\\* : potencia\n",
    "\n",
    "Cada una aplica de forma distinta a las distintas variables"
   ]
  },
  {
   "cell_type": "code",
   "execution_count": 33,
   "metadata": {
    "collapsed": false
   },
   "outputs": [],
   "source": [
    "# Cuentas con numeros\n",
    "distancia = velocidad_luz*tiempo\n",
    "caida = 0.5*g*tiempo**2\n",
    "\n",
    "# Concatenar strings\n",
    "presentacion = saludo+\" soy \"+mi_nombre"
   ]
  },
  {
   "cell_type": "markdown",
   "metadata": {},
   "source": [
    "### Funciones\n",
    "\n",
    "Las funciones son del tiempo nombre(argumentos). \n",
    "\n",
    "*Por ejemplo:*\n",
    "\n",
    "- print(variable) : imprime las variables que le pasemos\n",
    "- len(variable) : nos dice la longitud de un objeto"
   ]
  },
  {
   "cell_type": "code",
   "execution_count": 27,
   "metadata": {
    "collapsed": false
   },
   "outputs": [
    {
     "name": "stdout",
     "output_type": "stream",
     "text": [
      "Hola mundo! soy Fran\n"
     ]
    }
   ],
   "source": [
    "# Me presento\n",
    "print(presentacion)"
   ]
  },
  {
   "cell_type": "code",
   "execution_count": 28,
   "metadata": {
    "collapsed": false
   },
   "outputs": [
    {
     "name": "stdout",
     "output_type": "stream",
     "text": [
      "En 1.0 s la luz se mueve 3.00e+08 m y un objeto cae 4.9 m\n"
     ]
    }
   ],
   "source": [
    "# Digo algo interesante \n",
    "# %d imprime un entero\n",
    "# %e imprime en notacion cientifica\n",
    "# %f imprime en punto plotante\n",
    "# %.nf imprime en punto flotante con n decimales\n",
    "\n",
    "print(\"En %.1f s la luz se mueve %.2e m y un objeto cae %.1f m\" % (tiempo, distancia, caida))"
   ]
  },
  {
   "cell_type": "code",
   "execution_count": 44,
   "metadata": {
    "collapsed": false
   },
   "outputs": [
    {
     "name": "stdout",
     "output_type": "stream",
     "text": [
      "La longitud de 'Hola mundo! soy Fran' es 20 caracteres.\n",
      "El largo de 'Fran' es 4 caracteres.\n"
     ]
    }
   ],
   "source": [
    "# Calculo la longitud de un objeto\n",
    "longitud = len(presentacion)\n",
    "print(\"La longitud de '%s' es %d caracteres.\"% (presentacion, longitud))\n",
    "\n",
    "# Tambien puedo llamar a una funcion de adentro de otra funcion\n",
    "print(\"El largo de '%s' es %d caracteres.\"% (mi_nombre, len(mi_nombre)))"
   ]
  },
  {
   "cell_type": "markdown",
   "metadata": {},
   "source": [
    "### Mas variables\n",
    "\n",
    "Existen en python mas tipos de variables que las que vimos antes que permiten extender el comportamiento\n",
    "\n",
    "- **list** : Una lista de objetos. La puedo actualizar.\n",
    "- **tuple** : Otra lista de objetos. No la puedo actualizar.\n",
    "- **diccionario** : Otra lista de objetos mas. Referencio por nombres."
   ]
  },
  {
   "cell_type": "code",
   "execution_count": 51,
   "metadata": {
    "collapsed": false
   },
   "outputs": [],
   "source": [
    "# List\n",
    "nombres = [\"Fran\", \"Diego\", \"Laura\"]\n",
    "numeros = [4,14,15,28,42]\n",
    "\n",
    "# Tuple\n",
    "dias = (\"Domingo\", \"Lunes\", \"Martes\", \"Miercoles\", \"Jueves\", \"Viernes\", \"Sabado\")\n",
    "\n",
    "# Diccionario\n",
    "meses = {'Enero' : 31, 'Febrero' : 28 , 'Marzo' :31 , \n",
    "       'Abril' : 30, 'Mayo' : 31, 'Junio' : 30, \n",
    "       'Julio' : 31, 'Agosto' : 31, 'Septiembre' : 30, \n",
    "       'Octubre' : 31, 'Noviembre' : 30, 'Diciembre' : 31}"
   ]
  },
  {
   "cell_type": "markdown",
   "metadata": {},
   "source": [
    "### Referencia\n",
    "\n",
    "Puedo referenciar a un elemento de una lista poniendo entre corchetes el que deseo.\n",
    "\n",
    "*observacion:* empezando de cero."
   ]
  },
  {
   "cell_type": "code",
   "execution_count": 56,
   "metadata": {
    "collapsed": false
   },
   "outputs": [
    {
     "name": "stdout",
     "output_type": "stream",
     "text": [
      "Fran\n"
     ]
    }
   ],
   "source": [
    "# Imprimo el primer nombre\n",
    "print(nombres[0])"
   ]
  },
  {
   "cell_type": "code",
   "execution_count": 57,
   "metadata": {
    "collapsed": false
   },
   "outputs": [
    {
     "name": "stdout",
     "output_type": "stream",
     "text": [
      "Martes\n"
     ]
    }
   ],
   "source": [
    "# Imprimo el 3er dia de la semana\n",
    "print(dias[2])"
   ]
  },
  {
   "cell_type": "code",
   "execution_count": 58,
   "metadata": {
    "collapsed": false
   },
   "outputs": [
    {
     "name": "stdout",
     "output_type": "stream",
     "text": [
      "31\n"
     ]
    }
   ],
   "source": [
    "# Imprimo la longitud del mes de Marzo\n",
    "print(meses['Marzo'])"
   ]
  },
  {
   "cell_type": "markdown",
   "metadata": {},
   "source": [
    "### Metodos y atributos\n",
    "Para acceder a los metodos y atributos mas comunes sobre un objeto ponemos un punto despues de la variable."
   ]
  },
  {
   "cell_type": "code",
   "execution_count": 63,
   "metadata": {
    "collapsed": false
   },
   "outputs": [],
   "source": [
    "# Agrego un nombre a la lista\n",
    "nombres.append('Cecilia')"
   ]
  },
  {
   "cell_type": "markdown",
   "metadata": {},
   "source": [
    "### Ciclos y condicionales\n",
    "\n",
    "Una de las herramientas mas utilizadas al programar son los distintos tipos de ciclos y condicionales.\n",
    "\n",
    "Para poder utilizarlos\n",
    "\n",
    "- **for** - Ciclo que se repite para todos los de algun iterable (lista, tupla, etc)\n",
    "- **if** - Condicional para hacer una tarea si se cumple una condicion"
   ]
  },
  {
   "cell_type": "code",
   "execution_count": 114,
   "metadata": {
    "collapsed": false
   },
   "outputs": [
    {
     "name": "stdout",
     "output_type": "stream",
     "text": [
      "0\n",
      "1\n",
      "2\n",
      "3\n"
     ]
    }
   ],
   "source": [
    "# Ejemplo de ciclo for\n",
    "# Imprimo todos los numeros de 1 a N\n",
    "\n",
    "for i in range(4):\n",
    "    print(i)"
   ]
  },
  {
   "cell_type": "code",
   "execution_count": 115,
   "metadata": {
    "collapsed": false
   },
   "outputs": [
    {
     "name": "stdout",
     "output_type": "stream",
     "text": [
      "Chau mundo\n"
     ]
    }
   ],
   "source": [
    "# Ejemplo de if\n",
    "# Si i == 3 imprimo hola mundo, sino, chau mundo\n",
    "\n",
    "i = 2\n",
    "if i==3:\n",
    "    print(\"Hola mundo!\")\n",
    "else:\n",
    "    print(\"Chau mundo\")"
   ]
  },
  {
   "cell_type": "markdown",
   "metadata": {},
   "source": [
    "## Numpy\n",
    "\n",
    "[numpy](http://www.numpy.org/) es una extencion de python que ofrece soporte para trabajar con arrays y matrices.\n",
    "\n",
    "Ademas el mismo incorpora una serie de funciones matematicas de gran utilidad.\n",
    "\n",
    "El primer paso para usar cualquier extension es importarlo"
   ]
  },
  {
   "cell_type": "code",
   "execution_count": 64,
   "metadata": {
    "collapsed": true
   },
   "outputs": [],
   "source": [
    "# Importamos el modulo numpy como np para llamarlo mas facilmente\n",
    "import numpy as np"
   ]
  },
  {
   "cell_type": "markdown",
   "metadata": {},
   "source": [
    "*numpy* incorpora un nuevo tipo de variable, el array de numpy que utilizaremos \n",
    "\n",
    "Para crear uno, usamos la funcion **np.array(.)**."
   ]
  },
  {
   "cell_type": "code",
   "execution_count": 67,
   "metadata": {
    "collapsed": false
   },
   "outputs": [
    {
     "name": "stdout",
     "output_type": "stream",
     "text": [
      "[1 2 3 4]\n"
     ]
    }
   ],
   "source": [
    "# Array con 8 numeros\n",
    "puntos = np.array([1,2,3,4])\n",
    "\n",
    "# Lo mostramos\n",
    "print(puntos)"
   ]
  },
  {
   "cell_type": "markdown",
   "metadata": {},
   "source": [
    "### Funciones\n",
    "\n",
    "*numpy* incorpora una serie de funciones matematicas que sueles resultar utiles. \n",
    "\n",
    "*Ejemplo:*: Veamos un programa que calcula el seno y el coseno para distintos angulos"
   ]
  },
  {
   "cell_type": "code",
   "execution_count": 108,
   "metadata": {
    "collapsed": false
   },
   "outputs": [
    {
     "name": "stdout",
     "output_type": "stream",
     "text": [
      "   Ang       sin()     cos() \n",
      " [[   0.       0.       1.   ]\n",
      " [  45.       0.707    0.707]\n",
      " [  90.       1.       0.   ]\n",
      " [ 135.       0.707   -0.707]\n",
      " [ 180.       0.      -1.   ]\n",
      " [ 225.      -0.707   -0.707]\n",
      " [ 270.      -1.      -0.   ]\n",
      " [ 315.      -0.707    0.707]]\n"
     ]
    }
   ],
   "source": [
    "# Definimos el array de numpy con los angulos\n",
    "angulos_deg = np.array([0.0,45.0,90.0,135.0,180.0,225.0,270.0,315.0])\n",
    "\n",
    "# Convertimos los angulos a radiaciones\n",
    "# Vemos que el valor de pi se obtiene como np.pi\n",
    "\n",
    "angulos_rad = np.pi*angulos_deg/180.0\n",
    "\n",
    "# Calculamos el seno y el coseno como\n",
    "# np.sin y np.cos\n",
    "\n",
    "seno = np.sin(angulos_rad)\n",
    "cose = np.cos(angulos_rad)\n",
    "\n",
    "# Armo un array con los angulos su seno y coseno\n",
    "tabla = np.array([angulos_deg,seno,cose])\n",
    "\n",
    "# Transpongo el array para obtener una tabla de \n",
    "# angulo, seno, coseno\n",
    "\n",
    "tabla = tabla.T\n",
    "\n",
    "# Pongo 3 decimales de presision usando la funcion\n",
    "# set_printoptions de numpy\n",
    "np.set_printoptions(precision=3, suppress=True)\n",
    "print(\"   Ang       sin()     cos() \\n\" , tabla)"
   ]
  },
  {
   "cell_type": "markdown",
   "metadata": {},
   "source": [
    "## matplotlib\n",
    "[matplotlib](http://matplotlib.org/) es una libreria de python para crear y graficar cosas.\n",
    "\n",
    "Veremos como usarla en una serie de ejemplos sencillos"
   ]
  },
  {
   "cell_type": "code",
   "execution_count": 116,
   "metadata": {
    "collapsed": true
   },
   "outputs": [],
   "source": [
    "# importamos pyplot\n",
    "import matplotlib.pyplot as plt\n",
    "\n",
    "# Configuramos pyplot para que los graficos aparezcan dentro del notebook\n",
    "%matplotlib inline "
   ]
  },
  {
   "cell_type": "markdown",
   "metadata": {},
   "source": [
    "### Graficos con pyplot\n",
    "\n",
    "Veamos 3 ejemplos de interes:\n",
    "\n",
    "*ejemplo:* Graficar una linea"
   ]
  },
  {
   "cell_type": "code",
   "execution_count": 120,
   "metadata": {
    "collapsed": false
   },
   "outputs": [
    {
     "data": {
      "text/plain": [
       "[<matplotlib.lines.Line2D at 0x7fa16b302a58>]"
      ]
     },
     "execution_count": 120,
     "metadata": {},
     "output_type": "execute_result"
    },
    {
     "data": {
      "image/png": "[encoded data removed]",
      "text/plain": [
       "<matplotlib.figure.Figure at 0x7fa16b379390>"
      ]
     },
     "metadata": {},
     "output_type": "display_data"
    }
   ],
   "source": [
    "# Creamos los vectores de puntos a graficar\n",
    "x = np.linspace(0,5,10)\n",
    "y = np.linspace(0,5,10)\n",
    "\n",
    "# Lo graficamos como linea\n",
    "plt.plot(x,y,'-')"
   ]
  },
  {
   "cell_type": "markdown",
   "metadata": {},
   "source": [
    "*ejemplo:* Graficar puntos y lineas"
   ]
  },
  {
   "cell_type": "code",
   "execution_count": 166,
   "metadata": {
    "collapsed": false
   },
   "outputs": [
    {
     "data": {
      "text/plain": [
       "[<matplotlib.lines.Line2D at 0x7fa16ad43358>]"
      ]
     },
     "execution_count": 166,
     "metadata": {},
     "output_type": "execute_result"
    },
    {
     "data": {
      "image/png": "[encoded data removed]",
      "text/plain": [
       "<matplotlib.figure.Figure at 0x7fa16ad43f60>"
      ]
     },
     "metadata": {},
     "output_type": "display_data"
    }
   ],
   "source": [
    "# Creamos los vectores de puntos a graficar\n",
    "x = np.linspace(0,5,10)\n",
    "y = np.linspace(0,5,10)\n",
    "# Creco el vector de puntos aleatorios entorno a y\n",
    "z = y + np.random.normal(loc=0, scale=0.4, size=10)\n",
    "\n",
    "# Lo graficamos como puntos y lineas\n",
    "plt.plot(x,y,'-')\n",
    "plt.plot(x,z,'o')"
   ]
  },
  {
   "cell_type": "markdown",
   "metadata": {},
   "source": [
    "*ejemplo:* graficar una funcion"
   ]
  },
  {
   "cell_type": "code",
   "execution_count": 135,
   "metadata": {
    "collapsed": false
   },
   "outputs": [
    {
     "data": {
      "text/plain": [
       "<matplotlib.text.Text at 0x7fa16b07b9e8>"
      ]
     },
     "execution_count": 135,
     "metadata": {},
     "output_type": "execute_result"
    },
    {
     "data": {
      "image/png": "[encoded data removed]",
      "text/plain": [
       "<matplotlib.figure.Figure at 0x7fa16b033d68>"
      ]
     },
     "metadata": {},
     "output_type": "display_data"
    }
   ],
   "source": [
    "# Creamos los vectores de puntos a graficar\n",
    "x = np.linspace(0,2*np.pi,100)\n",
    "# Aplico la funcion\n",
    "y = np.sin(x)\n",
    "\n",
    "# Lo graficamos como puntos y lineas\n",
    "# Incluyo label para la etiqueta\n",
    "plt.plot(x,y,'-',label=\"linea\")\n",
    "# Incluyo la leyenda\n",
    "plt.legend()\n",
    "# Pongo nombres a los ejes\n",
    "plt.xlabel(\"Eje X\")\n",
    "plt.ylabel(\"Eje Y\")\n",
    "# Pongo titulo\n",
    "plt.title(\"Titulo\")"
   ]
  }
 ],
 "metadata": {
  "kernelspec": {
   "display_name": "Python 3",
   "language": "python",
   "name": "python3"
  },
  "language_info": {
   "codemirror_mode": {
    "name": "ipython",
    "version": 3
   },
   "file_extension": ".py",
   "mimetype": "text/x-python",
   "name": "python",
   "nbconvert_exporter": "python",
   "pygments_lexer": "ipython3",
   "version": "3.5.1"
  }
 },
 "nbformat": 4,
 "nbformat_minor": 0
}
