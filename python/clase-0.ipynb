{
 "cells": [
  {
   "cell_type": "markdown",
   "metadata": {},
   "source": [
    "# Clase 0\n",
    "\n",
    "Introduccion a python. Veremos en esta clase:\n",
    "\n",
    "1. Como definir una variable en python.\n",
    "2. Como hacer un ciclo en python.\n",
    "3. Como cargar modulos en python.\n",
    "4. Como usar numpy para realizar operaciones matematicas.\n",
    "5. Como usar matplotlib para realizar graficos."
   ]
  },
  {
   "cell_type": "markdown",
   "metadata": {},
   "source": [
    "## 1. Variables en python\n",
    "\n",
    "Veremos en esta seccion como definir variables en python y que tipos de variables tenemos para trabajar."
   ]
  },
  {
   "cell_type": "markdown",
   "metadata": {},
   "source": [
    "### Tipos de variables\n",
    "\n",
    "Vamos a trabajar con 3 tipos de variables\n",
    "\n",
    "- **integer** : Numeros sin coma.\n",
    "- **floating point** : Numeros con coma.\n",
    "- **string** : Cadenas de letras y numeros.\n",
    "\n",
    "En python, para definir el tipo de una variable alcanza con definirla.\n",
    "\n",
    "*Observacion:* Los nombres de las variables pueden tener letras o numeros, pero no empezar con un numero.\n",
    "\n",
    "*Por ejemplo:*"
   ]
  },
  {
   "cell_type": "code",
   "execution_count": 25,
   "metadata": {
    "collapsed": false
   },
   "outputs": [],
   "source": [
    "# Variables de tipo int\n",
    "i = 1\n",
    "j = 8\n",
    "\n",
    "# Variable de tipo float\n",
    "tiempo = 1.0\n",
    "velocidad_luz = 2.99792458e8\n",
    "g = 9.8\n",
    "\n",
    "# Variable de tipo string\n",
    "saludo = \"Hola mundo!\"\n",
    "mi_nombre = \"Fran\""
   ]
  },
  {
   "cell_type": "markdown",
   "metadata": {},
   "source": [
    "### Operaciones y funciones\n",
    "Se pueden realizar operaciones entre las distintas variables\n",
    "\n",
    "- \\+ : suma\n",
    "- \\- : resta\n",
    "- \\* : multiplicacion\n",
    "- / : division\n",
    "- \\*\\* : potencia\n",
    "\n",
    "Cada una aplica de forma distinta a las distintas variables"
   ]
  },
  {
   "cell_type": "code",
   "execution_count": 33,
   "metadata": {
    "collapsed": false
   },
   "outputs": [],
   "source": [
    "# Cuentas con numeros\n",
    "distancia = velocidad_luz*tiempo\n",
    "caida = 0.5*g*tiempo**2\n",
    "\n",
    "# Concatenar strings\n",
    "presentacion = saludo+\" soy \"+mi_nombre"
   ]
  },
  {
   "cell_type": "markdown",
   "metadata": {},
   "source": [
    "### Funciones\n",
    "\n",
    "Las funciones son del tiempo nombre(argumentos). \n",
    "\n",
    "*Por ejemplo:*\n",
    "\n",
    "- print(variable) : imprime las variables que le pasemos\n",
    "- len(variable) : nos dice la longitud de un objeto"
   ]
  },
  {
   "cell_type": "code",
   "execution_count": 27,
   "metadata": {
    "collapsed": false
   },
   "outputs": [
    {
     "name": "stdout",
     "output_type": "stream",
     "text": [
      "Hola mundo! soy Fran\n"
     ]
    }
   ],
   "source": [
    "# Me presento\n",
    "print(presentacion)"
   ]
  },
  {
   "cell_type": "code",
   "execution_count": 28,
   "metadata": {
    "collapsed": false
   },
   "outputs": [
    {
     "name": "stdout",
     "output_type": "stream",
     "text": [
      "En 1.0 s la luz se mueve 3.00e+08 m y un objeto cae 4.9 m\n"
     ]
    }
   ],
   "source": [
    "# Digo algo interesante \n",
    "# %d imprime un entero\n",
    "# %e imprime en notacion cientifica\n",
    "# %f imprime en punto plotante\n",
    "# %.nf imprime en punto flotante con n decimales\n",
    "\n",
    "print(\"En %.1f s la luz se mueve %.2e m y un objeto cae %.1f m\" % (tiempo, distancia, caida))"
   ]
  },
  {
   "cell_type": "code",
   "execution_count": 44,
   "metadata": {
    "collapsed": false
   },
   "outputs": [
    {
     "name": "stdout",
     "output_type": "stream",
     "text": [
      "La longitud de 'Hola mundo! soy Fran' es 20 caracteres.\n",
      "El largo de 'Fran' es 4 caracteres.\n"
     ]
    }
   ],
   "source": [
    "# Calculo la longitud de un objeto\n",
    "longitud = len(presentacion)\n",
    "print(\"La longitud de '%s' es %d caracteres.\"% (presentacion, longitud))\n",
    "\n",
    "# Tambien puedo llamar a una funcion de adentro de otra funcion\n",
    "print(\"El largo de '%s' es %d caracteres.\"% (mi_nombre, len(mi_nombre)))"
   ]
  }
 ],
 "metadata": {
  "kernelspec": {
   "display_name": "Python 3",
   "language": "python",
   "name": "python3"
  },
  "language_info": {
   "codemirror_mode": {
    "name": "ipython",
    "version": 3
   },
   "file_extension": ".py",
   "mimetype": "text/x-python",
   "name": "python",
   "nbconvert_exporter": "python",
   "pygments_lexer": "ipython3",
   "version": "3.5.1"
  }
 },
 "nbformat": 4,
 "nbformat_minor": 0
}
