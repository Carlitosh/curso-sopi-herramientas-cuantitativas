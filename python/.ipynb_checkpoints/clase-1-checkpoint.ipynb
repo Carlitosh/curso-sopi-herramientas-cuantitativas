{
 "cells": [
  {
   "cell_type": "markdown",
   "metadata": {},
   "source": [
    "# Clase 1\n",
    "\n",
    "## Ploteo y convolucion de firmas espectrales.\n",
    "\n",
    "En esta clase veremos\n",
    "\n",
    "1. Como leer un archivo.\n",
    "2. Como hacer la convolucion entre una firma espectral y un sensor.\n",
    "3. Como graficar la firma espectral medida en una imagen.\n"
   ]
  },
  {
   "cell_type": "markdown",
   "metadata": {},
   "source": [
    "## Lectura de archivos\n",
    "\n",
    "Para leer los archivos trabajaremos con *numpy*. \n",
    "\n",
    "Abriremos firmas espectrales provenientes de la libreria de aster"
   ]
  },
  {
   "cell_type": "code",
   "execution_count": 1,
   "metadata": {
    "collapsed": false
   },
   "outputs": [],
   "source": [
    "# Cargamos numpy\n",
    "import numpy as np"
   ]
  },
  {
   "cell_type": "markdown",
   "metadata": {},
   "source": [
    "Abrimos y leemos una firma espectral"
   ]
  },
  {
   "cell_type": "code",
   "execution_count": 18,
   "metadata": {
    "collapsed": true
   },
   "outputs": [],
   "source": [
    "# Creamos una variable con la direccion del archivo\n",
    "firma_in = \"../coberturas/firmas/jhu.becknic.vegetation.grass.green.solid.gras.spectrum.txt\"\n",
    "\n",
    "# Leemos la firma.\n",
    "# skip_header se usa para saltear el header del archivo\n",
    "firma = np.genfromtxt(firma_in,skip_header=25)\n",
    "# Convertimos la longitud de onda a nanometros\n",
    "firma[:,0] = 1000*firma[:,0]\n",
    "# Convierto la firma a reflectancia entre 0 y 1\n",
    "firma[:,1] = firma[:,1]/100"
   ]
  },
  {
   "cell_type": "markdown",
   "metadata": {},
   "source": [
    "Leemos la banda para hacer la convolucion"
   ]
  },
  {
   "cell_type": "code",
   "execution_count": 139,
   "metadata": {
    "collapsed": false
   },
   "outputs": [],
   "source": [
    "# Seleccionamos el archivo con la banda\n",
    "banda_in = \"../coberturas/firmas/landsat_45/band5.txt\"\n",
    "\n",
    "# Leemos la firma.\n",
    "# skip_header se usa para saltear el header del archivo\n",
    "banda = np.genfromtxt(banda_in)"
   ]
  },
  {
   "cell_type": "markdown",
   "metadata": {},
   "source": [
    "## Convolucion de una banda\n",
    "\n",
    "Para hacer la convolucion de una banda, tenemos que calcular\n",
    "\n",
    "$$ L_b = \\frac{\\int_{\\lambda_{min}}^{\\lambda_{max}} L_{\\lambda, sensor} f(\\lambda) d\\lambda}{\\int_{\\lambda_{min}}^{\\lambda_{max}} L_{\\lambda, sensor}d\\lambda}$$\n",
    "\n",
    "1. el siguiente codigo compara las firmas espectrales con la respuesa del sensor\n",
    "2. calcula las funciones a integrar\n",
    "3. las integra por el metodo de simpson\n",
    "\n",
    "para el paso 3, utilizaremos la libreria scipy"
   ]
  },
  {
   "cell_type": "code",
   "execution_count": 149,
   "metadata": {
    "collapsed": false
   },
   "outputs": [],
   "source": [
    "# Creo los arrays vacios para guardar los datos\n",
    "wl = np.empty(len(banda))\n",
    "L = np.empty(len(banda))\n",
    "f = np.empty(len(banda))\n",
    "\n",
    "# Itero en todo el archivo de la banda\n",
    "for i in range(len(banda)):\n",
    "    # Guardo la longitud de onda\n",
    "    wl[i] = banda[i,0]\n",
    "    # Guardo la respuesta del sensor\n",
    "    f[i]  = banda[i,1]\n",
    "    # Guardo, si corresponde, el valor de la firma espectra\n",
    "    elemento = firma[firma[:,0]==banda[i,0]]\n",
    "    if elemento.size!=0:\n",
    "        L[i] = elemento[0][1]\n",
    "        \n",
    "# Creo la mascara para filtrar valores erroneos\n",
    "mascara = (L>0.000001)*(L<1e3)\n",
    "\n",
    "# Filtro todo para los valores positivos (mayores a 0.001) de la firma espectral\n",
    "wl = wl[mascara]\n",
    "f = f[mascara]\n",
    "L = L[mascara]\n",
    "fL = f*L"
   ]
  },
  {
   "cell_type": "code",
   "execution_count": 150,
   "metadata": {
    "collapsed": false
   },
   "outputs": [],
   "source": [
    "# Importo scipy y las herramientas de integracion\n",
    "import scipy as sp\n",
    "from scipy import integrate"
   ]
  },
  {
   "cell_type": "code",
   "execution_count": 151,
   "metadata": {
    "collapsed": false
   },
   "outputs": [],
   "source": [
    "# Integro la funcion y hago el cociente\n",
    "Lb = sp.integrate.simps(y=fL,x=wl)/sp.integrate.simps(y=f,x=wl)"
   ]
  },
  {
   "cell_type": "code",
   "execution_count": 152,
   "metadata": {
    "collapsed": false
   },
   "outputs": [
    {
     "data": {
      "text/plain": [
       "[<matplotlib.lines.Line2D at 0x7ff85e394e48>]"
      ]
     },
     "execution_count": 152,
     "metadata": {},
     "output_type": "execute_result"
    },
    {
     "data": {
      "image/png": "[encoded data removed]",
      "text/plain": [
       "<matplotlib.figure.Figure at 0x7ff85e220048>"
      ]
     },
     "metadata": {},
     "output_type": "display_data"
    }
   ],
   "source": [
    "import matplotlib.pyplot as plt\n",
    "%matplotlib inline\n",
    "plt.plot(wl,L)\n",
    "plt.plot(wl,f)"
   ]
  },
  {
   "cell_type": "code",
   "execution_count": 172,
   "metadata": {
    "collapsed": false
   },
   "outputs": [
    {
     "data": {
      "text/plain": [
       "[<matplotlib.lines.Line2D at 0x7ff85da1af60>]"
      ]
     },
     "execution_count": 172,
     "metadata": {},
     "output_type": "execute_result"
    },
    {
     "data": {
      "image/png": "[encoded data removed]",
      "text/plain": [
       "<matplotlib.figure.Figure at 0x7ff85da1acc0>"
      ]
     },
     "metadata": {},
     "output_type": "display_data"
    }
   ],
   "source": [
    "x = [485,550,660,835,1650,2220]\n",
    "y = [0.04,0.09,0.05,0.49,0.3,0.15]\n",
    "plt.plot(x,y,'o')\n",
    "plt.plot(firma[firma[:,0]<2500][:,0],firma[firma[:,0]<2500][:,1])"
   ]
  }
 ],
 "metadata": {
  "kernelspec": {
   "display_name": "Python 3",
   "language": "python",
   "name": "python3"
  },
  "language_info": {
   "codemirror_mode": {
    "name": "ipython",
    "version": 3
   },
   "file_extension": ".py",
   "mimetype": "text/x-python",
   "name": "python",
   "nbconvert_exporter": "python",
   "pygments_lexer": "ipython3",
   "version": "3.5.1"
  }
 },
 "nbformat": 4,
 "nbformat_minor": 0
}
