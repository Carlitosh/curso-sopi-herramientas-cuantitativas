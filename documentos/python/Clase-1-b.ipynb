{
 "cells": [
  {
   "cell_type": "markdown",
   "metadata": {},
   "source": [
    "Clase 1(b) - Análisis de Firmas Espectrales\n",
    "============================================\n",
    "\n",
    "### SoPI II: Herramientas de teledetección cuantitativa"
   ]
  },
  {
   "cell_type": "markdown",
   "metadata": {},
   "source": [
    "En esta clase nos centraremos en el análisis de firmas espectrales. \n",
    "\n",
    "Se utilizara este notebook de python para ayudar en el procesamiento y la visualización de las mismas.\n",
    "\n",
    "Los notebooks se dividen de la siguiente manera\n",
    "\n",
    "- (a) - Grafico de valores de reflectancia por banda\n",
    "- **(b)** - Grafico de firmas espectrales\n",
    "- (c) - Descomposición de firmas especrales"
   ]
  },
  {
   "cell_type": "markdown",
   "metadata": {},
   "source": [
    "### Carga de librerias\n",
    "\n",
    "Recuerde que debe ejecutar **siempre** primero la celda que carga las librerias para ejecutar los procesos."
   ]
  },
  {
   "cell_type": "code",
   "execution_count": 11,
   "metadata": {
    "collapsed": true
   },
   "outputs": [],
   "source": [
    "# Cargamos las librerais\n",
    "import numpy as np\n",
    "import matplotlib.pyplot as plt\n",
    "\n",
    "# Fijamos que muestre los graficos dentro de la linea\n",
    "%matplotlib inline"
   ]
  },
  {
   "cell_type": "markdown",
   "metadata": {},
   "source": [
    "### Grafico de firmas espectrales\n",
    "\n",
    "En este caso graficaremos la firma espectral a partir de un archivo que contiene la reflectancia en funcion de la longitud de onda.\n",
    "\n",
    "Comenzamos cargando la localización de dicho archivo"
   ]
  },
  {
   "cell_type": "code",
   "execution_count": 12,
   "metadata": {
    "collapsed": true
   },
   "outputs": [],
   "source": [
    "# Nombre del archivo con la firma espectral a utilizar\n",
    "firma_in = \"../../material/firmas/A11_2.txt\""
   ]
  },
  {
   "cell_type": "markdown",
   "metadata": {},
   "source": [
    "Lo leemos luego utilizando la funcion `np.genfromtxt()`. En este caso, como las primeras 7 filas no son relevantes le diremos al script que las ignore con el parametro `skipheader=`"
   ]
  },
  {
   "cell_type": "code",
   "execution_count": 13,
   "metadata": {
    "collapsed": false
   },
   "outputs": [],
   "source": [
    "# Lectura de la firma espectral\n",
    "firma = np.genfromtxt(firma_in,skip_header=7)"
   ]
  },
  {
   "cell_type": "markdown",
   "metadata": {},
   "source": [
    "Enmascaremos finalmente los valores que sean negativos (valores no validos) creando una mascara a partir de la columna 3 y poniendolos como valor no valido con `np.nan`"
   ]
  },
  {
   "cell_type": "code",
   "execution_count": 14,
   "metadata": {
    "collapsed": true
   },
   "outputs": [],
   "source": [
    "# Busco los valores cero\n",
    "mask = firma[:,3]<=0\n",
    "# Los enmascaro como nan\n",
    "firma[mask]=np.nan"
   ]
  },
  {
   "cell_type": "markdown",
   "metadata": {},
   "source": [
    "una vez cargada la firma espectral podemos graficar los valores como hicimos en el caso anterior. \n",
    "\n",
    "En esta oportunidad, las longitudes de onda se obtendran de la columna cero de la variable firma como `firma[:,0]` y las reflectancias de la columna 3 como `firma[:,3]`."
   ]
  },
  {
   "cell_type": "code",
   "execution_count": 15,
   "metadata": {
    "collapsed": false
   },
   "outputs": [
    {
     "data": {
      "image/png": "[encoded data removed]",
      "text/plain": [
       "<matplotlib.figure.Figure at 0x7f4ea8050668>"
      ]
     },
     "metadata": {},
     "output_type": "display_data"
    }
   ],
   "source": [
    "# Grafico la reflectancia contra la longitud de onda\n",
    "plt.plot(firma[:,0],firma[:,3], label=\"Vegetacion\", color=\"green\")\n",
    "\n",
    "# Puede descomendar este bloque de codigo para graficar los valores tomados\n",
    "# a partir de la imagen junto con la firma espectral\n",
    "#x = [482,561,655,864,1608,2200]\n",
    "#y = [128,329,185,3568,1219,442]\n",
    "#plt.plot(x,y,linestyle = \"None\", marker='o', color=\"green\", label=\"Vegetacion\")\n",
    "\n",
    "# Configuraciones de ploteo. \n",
    "# Cambiar bajo su propio riesto\n",
    "# Pongo el limite en x e y\n",
    "plt.xlim(450,2300)\n",
    "plt.ylim(0,5000)\n",
    "# Incluyo la leyenda\n",
    "plt.legend(numpoints=1)\n",
    "# Pongo nombres a los ejes\n",
    "plt.xlabel(\"Longitud de londa [nm]\")\n",
    "plt.ylabel(\"Relectancia [Arb.]\")\n",
    "# Pongo titulo\n",
    "plt.title(\"Firmas espectrales\")\n",
    "\n",
    "# Muestro el grafico\n",
    "plt.show()"
   ]
  }
 ],
 "metadata": {
  "anaconda-cloud": {},
  "kernelspec": {
   "display_name": "Python [default]",
   "language": "python",
   "name": "python3"
  },
  "language_info": {
   "codemirror_mode": {
    "name": "ipython",
    "version": 3
   },
   "file_extension": ".py",
   "mimetype": "text/x-python",
   "name": "python",
   "nbconvert_exporter": "python",
   "pygments_lexer": "ipython3",
   "version": "3.5.2"
  }
 },
 "nbformat": 4,
 "nbformat_minor": 0
}
