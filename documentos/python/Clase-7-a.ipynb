{
 "cells": [
  {
   "cell_type": "markdown",
   "metadata": {},
   "source": [
    "Clase 7(a) - Validación de clasificaciones\n",
    "===========================================\n",
    "\n",
    "### SoPI II: Herramientas de teledetección cuantitativa"
   ]
  },
  {
   "cell_type": "markdown",
   "metadata": {},
   "source": [
    "En esta clase nos centraremos en el calculo de índices espectrales y la obtención de variables biofísicas a partir de los mismos.\n",
    "\n",
    "Se utilizara este notebook de python para ayudar en el procesamiento.\n",
    "\n",
    "Los notebooks se dividen de la siguiente manera\n",
    "\n",
    "- **(a)** - Estimación del error a partir de la matriz de confusión"
   ]
  },
  {
   "cell_type": "markdown",
   "metadata": {},
   "source": [
    "### Carga de librerias\n",
    "\n",
    "Recuerde que debe ejecutar **siempre** primero la celda que carga las librerias para ejecutar los procesos.\n",
    "\n",
    "Durante esta clase utilizaremos las librerias\n",
    "\n",
    "- [matplotlib](http://matplotlib.org/) para generación de gráficos.\n",
    "- [numpy](http://www.numpy.org/) para el procesamiento numérico y matricial.\n",
    "- [scipy](http://www.scipy.org) para realizar los ajustees lineales.\n",
    "- [datetime](https://docs.python.org/2/library/datetime.html) para manejo de fechas."
   ]
  },
  {
   "cell_type": "code",
   "execution_count": 3,
   "metadata": {
    "collapsed": false
   },
   "outputs": [],
   "source": [
    "# Cargamos las librerais\n",
    "import numpy as np\n",
    "import matplotlib.pyplot as plt\n",
    "from matplotlib import dates\n",
    "import datetime\n",
    "\n",
    "# Fijamos que muestre los graficos dentro de la linea\n",
    "%matplotlib inline"
   ]
  },
  {
   "cell_type": "markdown",
   "metadata": {},
   "source": [
    "Comenzamos cargando el array de la matriz de confución"
   ]
  },
  {
   "cell_type": "code",
   "execution_count": null,
   "metadata": {
    "collapsed": true
   },
   "outputs": [],
   "source": [
    "# Matriz de confución\n",
    "matrix = np.array([\n",
    "         [15364,529,9146,0,0],\n",
    "         [620,35970,591,6,0],\n",
    "         [300,0,5745,0,0],\n",
    "         [0,0,0,11038,613],\n",
    "         [0,0,0,1,8393]\n",
    "            ])"
   ]
  },
  {
   "cell_type": "markdown",
   "metadata": {},
   "source": [
    "Y los valores de las áreas de cada categoría. En este caso realizaremos la carga de áreas en píxeles. \n",
    "\n",
    "Además, ingresamos el tamaño de píxel para la imagen."
   ]
  },
  {
   "cell_type": "code",
   "execution_count": null,
   "metadata": {
    "collapsed": true
   },
   "outputs": [],
   "source": [
    "# Cargo las areas en pixeles de cada region\n",
    "areas = np.array([1601644,2553783,80261,96414,91453])\n",
    "psize = 30"
   ]
  },
  {
   "cell_type": "markdown",
   "metadata": {},
   "source": [
    "Finalmente, calculamos los estimadores para el area y su desvio teniendo en cuenta el valor de la matriz de confusion. Valores que impr"
   ]
  },
  {
   "cell_type": "code",
   "execution_count": null,
   "metadata": {
    "collapsed": true
   },
   "outputs": [],
   "source": [
    "# Calculamos los porcentajes de areas\n",
    "percent = areas/sum(areas)\n",
    "\n",
    "# Convierto las areas a km^2\n",
    "areas = areas*psize*psize/1e6\n",
    "\n",
    "# Convierto la matriz de confusion a probabilidades\n",
    "m = []\n",
    "for i in range(len(matrix)):\n",
    "    for j in range(len(matrix)):\n",
    "        m.append(matrix[i,j]/sum(matrix[i,:])*percent[i])\n",
    "m = np.array(m)\n",
    "m.shape = (len(matrix),len(matrix))\n",
    "print(m)\n",
    "# Calculo las areas y desvios para cada componente\n",
    "area = []\n",
    "desvio = []\n",
    "for i in range(len(matrix)):\n",
    "    area.append(sum(areas)*sum(m[:,i]))\n",
    "    suma = 0\n",
    "    for j in range(len(matrix)):\n",
    "        suma = suma + (percent[j]*m[j,i]-m[j,i]**2)/(sum(matrix[i,:])-1)\n",
    "    desvio.append(sum(areas)*np.sqrt(suma))\n",
    "area = np.array(area)\n",
    "desvio = np.array(desvio)\n",
    "# Imprimo las areas y su error standar\n",
    "print(\"   Area    Error\")\n",
    "print(\"  [km^2]   [km^2]\")\n",
    "print(\"-----------------\")\n",
    "for i in range(6):\n",
    "    print('%8.2f %8.2f' % (area[i], 1.96*desvio[i]))"
   ]
  }
 ],
 "metadata": {
  "kernelspec": {
   "display_name": "Python 3",
   "language": "python",
   "name": "python3"
  },
  "language_info": {
   "codemirror_mode": {
    "name": "ipython",
    "version": 3
   },
   "file_extension": ".py",
   "mimetype": "text/x-python",
   "name": "python",
   "nbconvert_exporter": "python",
   "pygments_lexer": "ipython3",
   "version": "3.5.2"
  }
 },
 "nbformat": 4,
 "nbformat_minor": 0
}
