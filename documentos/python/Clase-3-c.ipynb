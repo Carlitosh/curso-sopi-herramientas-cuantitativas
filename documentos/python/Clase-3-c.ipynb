{
 "cells": [
  {
   "cell_type": "markdown",
   "metadata": {},
   "source": [
    "Clase 3(c) - Calculo de índices espectrales\n",
    "===========================================\n",
    "\n",
    "### SoPI II: Herramientas de teledetección cuantitativa"
   ]
  },
  {
   "cell_type": "markdown",
   "metadata": {},
   "source": [
    "En esta clase nos centraremos en la validación de clasificaciones de imágenes satelitales y la mejor estimación de áreas a partir de dicha validación.\n",
    "\n",
    "Se utilizara este notebook de python para ayudar en el procesamiento.\n",
    "\n",
    "Los notebooks se dividen de la siguiente manera\n",
    "\n",
    "- (a) - Estimación de la linea de suelo para una imagen.\n",
    "- (b) - Estimación de variables biofísicas.\n",
    "- **(c)** - Grafica de la variación temporal de un índice."
   ]
  },
  {
   "cell_type": "markdown",
   "metadata": {},
   "source": [
    "### Carga de librerias\n",
    "\n",
    "Recuerde que debe ejecutar **siempre** primero la celda que carga las librerias para ejecutar los procesos.\n",
    "\n",
    "Durante esta clase utilizaremos las librerias\n",
    "\n",
    "- [matplotlib](http://matplotlib.org/) para generación de gráficos.\n",
    "- [numpy](http://www.numpy.org/) para el procesamiento numérico y matricial.\n",
    "- [scipy](http://www.scipy.org) para realizar los ajustees lineales.\n",
    "- [datetime](https://docs.python.org/2/library/datetime.html) para manejo de fechas."
   ]
  },
  {
   "cell_type": "code",
   "execution_count": 1,
   "metadata": {
    "collapsed": false
   },
   "outputs": [],
   "source": [
    "# Cargamos las librerais\n",
    "import numpy as np\n",
    "import matplotlib.pyplot as plt\n",
    "from matplotlib import dates\n",
    "import datetime\n",
    "\n",
    "# Fijamos que muestre los graficos dentro de la linea\n",
    "%matplotlib inline"
   ]
  },
  {
   "cell_type": "markdown",
   "metadata": {},
   "source": [
    "Comenzamos configurando las fechas para las cuales realizaremos las graficas."
   ]
  },
  {
   "cell_type": "code",
   "execution_count": 2,
   "metadata": {
    "collapsed": false
   },
   "outputs": [],
   "source": [
    "# Valores de dias donde se adquirieron las imagenes\n",
    "# Creo el vector de dias para graficar\n",
    "dias = []\n",
    "# Separacion entre dias\n",
    "delta = datetime.timedelta(days=16)\n",
    "# Agrego los dias de 2013\n",
    "init1 = datetime.date(2013, 7, 28)\n",
    "end1 = datetime.date(2013,12,20)\n",
    "# Agrego los dias de 2014\n",
    "dias.extend(dates.drange(init1,end1,delta))\n",
    "init2 = datetime.date(2014, 1, 1)\n",
    "end2 = datetime.date(2014,8,30)\n",
    "dias.extend(dates.drange(init2,end2,delta))\n"
   ]
  },
  {
   "cell_type": "markdown",
   "metadata": {},
   "source": [
    "Definimos los valores del indice de vegetacion"
   ]
  },
  {
   "cell_type": "code",
   "execution_count": 3,
   "metadata": {
    "collapsed": false
   },
   "outputs": [],
   "source": [
    "# Valores obtenidos para el NDVI\n",
    "VI = [8646,8253,8465,8069,8625,9045,8871,8968,8998,8944,\n",
    "       9096,8949,8808,8875,8971,8936,8924,9158,8954,8854,\n",
    "       8625,8721,8614,8599,8056,8654]"
   ]
  },
  {
   "cell_type": "markdown",
   "metadata": {},
   "source": [
    "Graficamos las firmas para distintas fechas"
   ]
  },
  {
   "cell_type": "code",
   "execution_count": 6,
   "metadata": {
    "collapsed": false
   },
   "outputs": [
    {
     "data": {
      "image/png": "[encoded data removed]",
      "text/plain": [
       "<matplotlib.figure.Figure at 0x7f87b7694668>"
      ]
     },
     "metadata": {},
     "output_type": "display_data"
    }
   ],
   "source": [
    "# Creo el grafico con las figuras\n",
    "fig, ax= plt.subplots()\n",
    "plt.plot(dias,VI,label=\"Vegetation Index\")\n",
    "\n",
    "# Configuraciones de ploteo. \n",
    "# Cambiar bajo su propio riesto\n",
    "# Configure las divisiones\n",
    "mayor = dates.MonthLocator(interval=3)  # cada 3 meses\n",
    "menor = dates.MonthLocator()            # cada 1 meses\n",
    "formato = dates.DateFormatter('%m-%Y')  # formato de fechas\n",
    "# format the ticks\n",
    "ax.xaxis.set_major_locator(mayor)\n",
    "ax.xaxis.set_major_formatter(formato)\n",
    "ax.xaxis.set_minor_locator(menor)\n",
    "datemin = datetime.date(2013, 6, 1)\n",
    "datemax = datetime.date(2014, 12, 1)\n",
    "# Pongo los limites a las fechas\n",
    "ax.set_xlim(datemin, datemax)\n",
    "# Configure el eje y\n",
    "plt.ylim(-5000,12000)\n",
    "# Incluyo la leyenda\n",
    "plt.legend(numpoints=1)\n",
    "# Pongo nombres a los ejes\n",
    "plt.xlabel(\"Mes del año\")\n",
    "plt.ylabel(\"Arb. x 10 000\")\n",
    "# Pongo titulo\n",
    "plt.title(\"Variacion del indice\")\n",
    "# Muestro el grafico\n",
    "plt.show()"
   ]
  }
 ],
 "metadata": {
  "anaconda-cloud": {},
  "kernelspec": {
   "display_name": "Python [Root]",
   "language": "python",
   "name": "Python [Root]"
  },
  "language_info": {
   "codemirror_mode": {
    "name": "ipython",
    "version": 3
   },
   "file_extension": ".py",
   "mimetype": "text/x-python",
   "name": "python",
   "nbconvert_exporter": "python",
   "pygments_lexer": "ipython3",
   "version": "3.5.2"
  }
 },
 "nbformat": 4,
 "nbformat_minor": 0
}
