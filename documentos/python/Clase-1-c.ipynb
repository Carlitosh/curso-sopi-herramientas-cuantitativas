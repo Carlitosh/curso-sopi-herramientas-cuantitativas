{
 "cells": [
  {
   "cell_type": "markdown",
   "metadata": {},
   "source": [
    "Clase 1(d) - Análisis de Firmas Espectrales\n",
    "============================================\n",
    "\n",
    "### SoPI II: Herramientas de teledetección cuantitativa"
   ]
  },
  {
   "cell_type": "markdown",
   "metadata": {},
   "source": [
    "En esta clase nos centraremos en el análisis de firmas espectrales. \n",
    "\n",
    "Se utilizara este notebook de python para ayudar en el procesamiento y la visualización de las mismas.\n",
    "\n",
    "Los notebooks se dividen de la siguiente manera\n",
    "\n",
    "- (a) - Grafico de valores de reflectancia por banda\n",
    "- (b) - Grafico de firmas espectrales\n",
    "- (c) - Calculo de $\\rho_i$ a partir de una firma espectral\n",
    "- **(d)** - Descomposición de firmas especrales"
   ]
  },
  {
   "cell_type": "markdown",
   "metadata": {},
   "source": [
    "### Carga de librerias\n",
    "\n",
    "Recuerde que debe ejecutar **siempre** primero la celda que carga las librerias para ejecutar los procesos."
   ]
  },
  {
   "cell_type": "code",
   "execution_count": 1,
   "metadata": {
    "collapsed": true
   },
   "outputs": [],
   "source": [
    "# Cargamos las librerais\n",
    "import numpy as np\n",
    "import matplotlib.pyplot as plt\n",
    "\n",
    "# Fijamos que muestre los graficos dentro de la linea\n",
    "%matplotlib inline"
   ]
  },
  {
   "cell_type": "markdown",
   "metadata": {},
   "source": [
    "### Descomposición de firmas espectrales\n",
    "\n",
    "Apuntamos ahora a descomponer la firma espectral de un pixel a partir de conocer las firmas espectrales puras para la zona.\n",
    "\n",
    "Debemos en primer lugar cargar cada una de ellas como un vector para poder utilizarlas"
   ]
  },
  {
   "cell_type": "code",
   "execution_count": 11,
   "metadata": {
    "collapsed": false
   },
   "outputs": [],
   "source": [
    "# Cargamos las firmas espectrales como arrays de numpy\n",
    "\n",
    "a = np.array([0.08,0.03,0.01,0.00,0.00,0.00])\n",
    "n = np.array([0.95,1.00,1.00,0.78,0.02,0.01])\n",
    "s = np.array([0.08,0.11,0.14,0.18,0.22,0.20])\n",
    "v = np.array([0.01,0.03,0.02,0.28,0.11,0.04])"
   ]
  },
  {
   "cell_type": "markdown",
   "metadata": {},
   "source": [
    "y a partir de estos vectores crear la matriz que relaciona las coberturas con la firma espectral"
   ]
  },
  {
   "cell_type": "code",
   "execution_count": 13,
   "metadata": {
    "collapsed": false
   },
   "outputs": [],
   "source": [
    "# Creamos la matriz de vectores\n",
    "M = np.array([v,s,a,n])\n",
    "# Fijamos que la suma de  las 3 variables sea siempre 1\n",
    "o = np.ones(M.shape[0])\n",
    "M = np.vstack((M.T,o))\n",
    "M = np.matrix(M)"
   ]
  },
  {
   "cell_type": "code",
   "execution_count": 14,
   "metadata": {
    "collapsed": false
   },
   "outputs": [],
   "source": [
    "# Cargamos el vector de mediciones\n",
    "pixel = np.array([0.5,0.2,0.1,0.3,0.2,0.1])\n",
    "# Le agregamos el valor uno al final. Esto es importante para forzar la suma a 1\n",
    "pixel = np.append(pixel,1)\n",
    "pixel = np.matrix(pixel)"
   ]
  },
  {
   "cell_type": "code",
   "execution_count": 15,
   "metadata": {
    "collapsed": false
   },
   "outputs": [
    {
     "data": {
      "text/plain": [
       "matrix([[ 0.11770807],\n",
       "        [ 0.40956208],\n",
       "        [ 0.27792042],\n",
       "        [ 0.21055827]])"
      ]
     },
     "execution_count": 15,
     "metadata": {},
     "output_type": "execute_result"
    }
   ],
   "source": [
    "np.linalg.pinv(M)*pixel.T"
   ]
  },
  {
   "cell_type": "code",
   "execution_count": 16,
   "metadata": {
    "collapsed": false
   },
   "outputs": [
    {
     "data": {
      "text/plain": [
       "matrix([[ 1.01574884]])"
      ]
     },
     "execution_count": 16,
     "metadata": {},
     "output_type": "execute_result"
    }
   ],
   "source": [
    "sum(np.linalg.pinv(M)*pixel.T)"
   ]
  },
  {
   "cell_type": "code",
   "execution_count": 19,
   "metadata": {
    "collapsed": false
   },
   "outputs": [
    {
     "data": {
      "text/plain": [
       "(matrix([[ 0.11770807],\n",
       "         [ 0.40956208],\n",
       "         [ 0.27792042],\n",
       "         [ 0.21055827]]),\n",
       " matrix([[ 0.10374967]]),\n",
       " 4,\n",
       " array([ 2.48574703,  1.22575889,  0.24415079,  0.17368718]))"
      ]
     },
     "execution_count": 19,
     "metadata": {},
     "output_type": "execute_result"
    }
   ],
   "source": [
    "np.linalg.lstsq(M,pixel.T)"
   ]
  },
  {
   "cell_type": "code",
   "execution_count": null,
   "metadata": {
    "collapsed": true
   },
   "outputs": [],
   "source": []
  }
 ],
 "metadata": {
  "kernelspec": {
   "display_name": "Python 3",
   "language": "python",
   "name": "python3"
  },
  "language_info": {
   "codemirror_mode": {
    "name": "ipython",
    "version": 3
   },
   "file_extension": ".py",
   "mimetype": "text/x-python",
   "name": "python",
   "nbconvert_exporter": "python",
   "pygments_lexer": "ipython3",
   "version": "3.5.2"
  }
 },
 "nbformat": 4,
 "nbformat_minor": 0
}
