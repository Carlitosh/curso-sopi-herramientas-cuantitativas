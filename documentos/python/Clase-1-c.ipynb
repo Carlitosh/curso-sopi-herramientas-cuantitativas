{
 "cells": [
  {
   "cell_type": "markdown",
   "metadata": {},
   "source": [
    "Clase 1(c) - Análisis de Firmas Espectrales\n",
    "============================================\n",
    "\n",
    "### SoPI II: Herramientas de teledetección cuantitativa"
   ]
  },
  {
   "cell_type": "markdown",
   "metadata": {},
   "source": [
    "En esta clase nos centraremos en el análisis de firmas espectrales. \n",
    "\n",
    "Se utilizara este notebook de python para ayudar en el procesamiento y la visualización de las mismas.\n",
    "\n",
    "Los notebooks se dividen de la siguiente manera\n",
    "\n",
    "- (a) - Grafico de valores de reflectancia por banda\n",
    "- (b) - Grafico de firmas espectrales\n",
    "- **(c)** - Calculo de $\\rho_i$ a partir de una firma espectral\n",
    "- (d) - Descomposición de firmas especrales"
   ]
  },
  {
   "cell_type": "markdown",
   "metadata": {},
   "source": [
    "### Carga de librerias\n",
    "\n",
    "Recuerde que debe ejecutar **siempre** primero la celda que carga las librerias para ejecutar los procesos."
   ]
  },
  {
   "cell_type": "code",
   "execution_count": 1,
   "metadata": {
    "collapsed": true
   },
   "outputs": [],
   "source": [
    "# Cargamos las librerais\n",
    "import numpy as np"
   ]
  },
  {
   "cell_type": "markdown",
   "metadata": {},
   "source": [
    "### Convolución espectral\n",
    "\n",
    "En este caso calcularemos el valor de reflectancia para un sensor a partir de la firma espectral, la respuesta del sensor y la curva de irradiancia solar."
   ]
  },
  {
   "cell_type": "markdown",
   "metadata": {},
   "source": [
    "Comenzamos cargando la localización de cada archivo y leyendolos"
   ]
  },
  {
   "cell_type": "code",
   "execution_count": null,
   "metadata": {
    "collapsed": true
   },
   "outputs": [],
   "source": [
    "# Nombre del archivo con la firma espectral a utilizar\n",
    "firma_in = \"../material/firmas/A12_1.txt\"\n",
    "respu_in = \"\"\n",
    "irrad_in = \"\"\n",
    "\n",
    "firma = np.genfromtxt(firma_in,skip_header=7)\n",
    "respu = np.genfromtxt()\n",
    "irrad = np.genfromtxt()"
   ]
  },
  {
   "cell_type": "markdown",
   "metadata": {},
   "source": [
    "Enmascaremos finalmente los valores que sean negativos (valores no validos) creando una mascara a partir de la columna 3 y poniendolos como valor no valido con `np.nan`"
   ]
  },
  {
   "cell_type": "code",
   "execution_count": null,
   "metadata": {
    "collapsed": true
   },
   "outputs": [],
   "source": [
    "# Busco los valores cero\n",
    "mask = firma[:,3]<=0\n",
    "# Los enmascaro como nan\n",
    "firma[mask]=np.nan"
   ]
  }
 ],
 "metadata": {
  "kernelspec": {
   "display_name": "Python 3",
   "language": "python",
   "name": "python3"
  },
  "language_info": {
   "codemirror_mode": {
    "name": "ipython",
    "version": 3
   },
   "file_extension": ".py",
   "mimetype": "text/x-python",
   "name": "python",
   "nbconvert_exporter": "python",
   "pygments_lexer": "ipython3",
   "version": "3.5.1"
  }
 },
 "nbformat": 4,
 "nbformat_minor": 0
}
