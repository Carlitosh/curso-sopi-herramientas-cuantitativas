{
 "cells": [
  {
   "cell_type": "markdown",
   "metadata": {},
   "source": [
    "Clase 2(a) - Corrección Radiométrica de Imágenes Satelitales\n",
    "===========================================\n",
    "\n",
    "### SoPI II: Herramientas de teledetección cuantitativa"
   ]
  },
  {
   "cell_type": "markdown",
   "metadata": {},
   "source": [
    "En esta clase nos centraremos en la corrección radiométrica de firmas espectrales \n",
    "\n",
    "Se utilizara este notebook de python para ayudar en el procesamiento y la visualización de las mismas.\n",
    "\n",
    "Los notebooks se dividen de la siguiente manera\n",
    "\n",
    "- **(a)** Ajustar el valor mínimo del histograma a una curva $L_0\\times\\lambda^{-\\gamma}$\n",
    "- (b) Calcular los parámetros de corrección con Py6S\n",
    "- (c) Graficar las firmas espectrales con varias correcciones\n"
   ]
  },
  {
   "cell_type": "markdown",
   "metadata": {},
   "source": [
    "### Carga de librerias\n",
    "\n",
    "Recuerde que debe ejecutar **siempre** primero la celda que carga las librerias para ejecutar los procesos.\n",
    "\n",
    "Durante esta clase utilizaremos las librerias\n",
    "\n",
    "- [matplotlib](http://matplotlib.org/) para generación de gráficos.\n",
    "- [numpy](http://www.numpy.org/) para el procesamiento numérico y matricial.\n",
    "- [scipy](http://www.scipy.org) para realizar los ajustes\n",
    "\n",
    "Para graficar firmas espectrales con `matplotlib` debemos darle dos arrays con valores. El primero de ellos son las posiciones de `x` para el grafico y el segundo son las posiciones de `y`."
   ]
  },
  {
   "cell_type": "code",
   "execution_count": 1,
   "metadata": {
    "collapsed": true
   },
   "outputs": [],
   "source": [
    "# Cargamos las librerais\n",
    "import numpy as np\n",
    "import matplotlib.pyplot as plt\n",
    "from scipy import stats\n",
    "\n",
    "# Fijamos que muestre los graficos dentro de la linea\n",
    "%matplotlib inline"
   ]
  },
  {
   "cell_type": "markdown",
   "metadata": {},
   "source": [
    "### Ajuste de firmas espectrales\n",
    "\n",
    "Para ajustar los minimos con `scipy` debemos primero cargar los mimos para cada longitud de onda"
   ]
  },
  {
   "cell_type": "code",
   "execution_count": 2,
   "metadata": {
    "collapsed": false
   },
   "outputs": [],
   "source": [
    "# Valores de longitud de onda para landsat 8\n",
    "x = np.array([482,561,655,864,1608,2200])\n",
    "# Valores de reflectancia\n",
    "y = np.array([8075,6626,5833,5357,5057,5033])*(2e-5)-0.1"
   ]
  },
  {
   "cell_type": "markdown",
   "metadata": {},
   "source": [
    "podemos luego graficar a los mismos"
   ]
  },
  {
   "cell_type": "code",
   "execution_count": 3,
   "metadata": {
    "collapsed": false
   },
   "outputs": [
    {
     "data": {
      "image/png": "[encoded data removed]",
      "text/plain": [
       "<matplotlib.figure.Figure at 0x7f2967f97f60>"
      ]
     },
     "metadata": {},
     "output_type": "display_data"
    }
   ],
   "source": [
    "# Grafico\n",
    "plt.plot(x,y,linestyle = \"None\", marker='o', color=\"red\", label=\"Minimo\")\n",
    "\n",
    "# Configuraciones de ploteo. \n",
    "# Cambiar bajo su propio riesgo\n",
    "# Incluyo la leyenda\n",
    "plt.legend(numpoints=1)\n",
    "# Pongo nombres a los ejes\n",
    "plt.xlabel(\"Longitud de londa [nm]\")\n",
    "plt.ylabel(\"Relectancia [Arb.]\")\n",
    "# Pongo titulo\n",
    "plt.title(\"Firmas espectrales\")\n",
    "\n",
    "# Muestro el grafico\n",
    "plt.show()"
   ]
  },
  {
   "cell_type": "markdown",
   "metadata": {},
   "source": [
    "Si calculamos el logaritmo de la expresión anterior obtenemos\n",
    "\n",
    "$$ \\log L_{min} = -\\gamma \\log \\lambda + \\log L_0 $$\n",
    "\n",
    "por lo tanto, si graficamos $\\log L_{min}$ contra $\\log \\lambda$ tenemos una recta de pendiente negativa"
   ]
  },
  {
   "cell_type": "code",
   "execution_count": 4,
   "metadata": {
    "collapsed": false
   },
   "outputs": [
    {
     "data": {
      "image/png": "[encoded data removed]",
      "text/plain": [
       "<matplotlib.figure.Figure at 0x7f2965bd8400>"
      ]
     },
     "metadata": {},
     "output_type": "display_data"
    }
   ],
   "source": [
    "# Grafico\n",
    "plt.loglog(x,y,linestyle = \"None\", marker='o', color=\"red\", label=\"Minimo\")\n",
    "\n",
    "# Configuraciones de ploteo. \n",
    "# Cambiar bajo su propio riesgo\n",
    "# Incluyo la leyenda\n",
    "plt.legend(numpoints=1)\n",
    "# Pongo nombres a los ejes\n",
    "plt.xlabel(\"Log Longitud de londa [nm]\")\n",
    "plt.ylabel(\"Log Relectancia [Arb.]\")\n",
    "# Pongo titulo\n",
    "plt.title(\"Firmas espectrales\")\n",
    "\n",
    "# Muestro el grafico\n",
    "plt.show()"
   ]
  },
  {
   "cell_type": "markdown",
   "metadata": {},
   "source": [
    "para hacer el ajuste, utilizaremos la funcion linregress de scipy como `stats.linregress()` donde los valores de `x` y de `y` serán los correspondientes logaritmos. Mostramos luego los valores obtenidos"
   ]
  },
  {
   "cell_type": "code",
   "execution_count": 5,
   "metadata": {
    "collapsed": false
   },
   "outputs": [
    {
     "name": "stdout",
     "output_type": "stream",
     "text": [
      "γ:   3.0 ± 0.0\n",
      "L₀: 15.4 ± 0.1\n"
     ]
    }
   ],
   "source": [
    "# Hago el ajuste\n",
    "# Ajustamos log x ~ log y\n",
    "slope, intercept, r_value, p_value, std_err = stats.linregress(np.log(x),np.log(y))\n",
    "# Calculamos los errores\n",
    "mx = x.mean()\n",
    "sx2 = ((x-mx)**2).sum()\n",
    "sd_intercept = std_err * np.sqrt(1./len(x) + mx*mx/sx2)\n",
    "sd_slope = std_err * np.sqrt(1./sx2)\n",
    "# {:1f} escribe un numero decimal con 1 decimal\n",
    "# Muestro los valores obtenidos\n",
    "print(\"γ:   {:.1f} ± {:.1f}\".format(-slope,sd_slope))\n",
    "print(\"L₀: {:.1f} ± {:.1f}\".format(intercept,sd_intercept))"
   ]
  },
  {
   "cell_type": "markdown",
   "metadata": {
    "collapsed": true
   },
   "source": [
    "por lo tanto podemos calcular los valores ajustados como y mostrarlos como"
   ]
  },
  {
   "cell_type": "code",
   "execution_count": 6,
   "metadata": {
    "collapsed": false
   },
   "outputs": [],
   "source": [
    "# Calculo el ajuste de valores a x\n",
    "z = np.exp(intercept) * x ** (slope)"
   ]
  },
  {
   "cell_type": "markdown",
   "metadata": {},
   "source": [
    "para mostrarlos, crearemos una pequeña tabla usando un ciclo `for` en todos los valores"
   ]
  },
  {
   "cell_type": "code",
   "execution_count": 7,
   "metadata": {
    "collapsed": false
   },
   "outputs": [
    {
     "name": "stdout",
     "output_type": "stream",
     "text": [
      "  λ[nm]  ρ[arb.]\n",
      "----------------\n",
      "   482 \t  0.049\n",
      "   561 \t  0.031\n",
      "   655 \t  0.020\n",
      "   864 \t  0.009\n",
      "  1608 \t  0.001\n",
      "  2200 \t  0.001\n"
     ]
    }
   ],
   "source": [
    "# Imprimimos la tabla de valores obtenidos\n",
    "print(\"  λ[nm]  ρ[arb.]\")\n",
    "print(\"----------------\")\n",
    "# \\t incerta un tabulador\n",
    "for i in range(len(x)):\n",
    "    print(\"{:6d} \\t  {:0.3f}\".format(x[i],z[i]))"
   ]
  },
  {
   "cell_type": "markdown",
   "metadata": {},
   "source": [
    "Graficamos los valores obtenidos y los valores ajustados"
   ]
  },
  {
   "cell_type": "code",
   "execution_count": 8,
   "metadata": {
    "collapsed": false
   },
   "outputs": [
    {
     "data": {
      "image/png": "[encoded data removed]",
      "text/plain": [
       "<matplotlib.figure.Figure at 0x7f2965591908>"
      ]
     },
     "metadata": {},
     "output_type": "display_data"
    }
   ],
   "source": [
    "# Grafico\n",
    "plt.plot(x,y,linestyle = \"None\", marker='o', color=\"red\", label=\"Minimo\")\n",
    "plt.plot(x,z,linestyle = \"None\", marker='o', color=\"blue\", label=\"Ajustado\")\n",
    "\n",
    "# Configuraciones de ploteo. \n",
    "# Cambiar bajo su propio riesgo\n",
    "# Incluyo la leyenda\n",
    "plt.legend(numpoints=1)\n",
    "# Pongo nombres a los ejes\n",
    "plt.xlabel(\"Longitud de londa [nm]\")\n",
    "plt.ylabel(\"Relectancia [Arb.]\")\n",
    "# Pongo titulo\n",
    "plt.title(\"Firmas espectrales\")\n",
    "\n",
    "# Muestro el grafico\n",
    "plt.show()"
   ]
  },
  {
   "cell_type": "markdown",
   "metadata": {},
   "source": [
    "O en un grafico `log-log`"
   ]
  },
  {
   "cell_type": "code",
   "execution_count": 9,
   "metadata": {
    "collapsed": false
   },
   "outputs": [
    {
     "data": {
      "image/png": "[encoded data removed]",
      "text/plain": [
       "<matplotlib.figure.Figure at 0x7f29654af198>"
      ]
     },
     "metadata": {},
     "output_type": "display_data"
    }
   ],
   "source": [
    "# Grafico\n",
    "plt.loglog(x,y,linestyle = \"None\", marker='o', color=\"red\", label=\"Minimo\")\n",
    "plt.loglog(x,z,linestyle = \"-\", marker='None', color=\"blue\", label=\"Ajustado\")\n",
    "\n",
    "# Configuraciones de ploteo. \n",
    "# Cambiar bajo su propio riesgo\n",
    "# Incluyo la leyenda\n",
    "plt.legend(numpoints=1)\n",
    "# Pongo nombres a los ejes\n",
    "plt.xlabel(\"Longitud de londa [nm]\")\n",
    "plt.ylabel(\"Relectancia [Arb.]\")\n",
    "# Pongo titulo\n",
    "plt.title(\"Firmas espectrales\")\n",
    "\n",
    "# Muestro el grafico\n",
    "plt.show()"
   ]
  }
 ],
 "metadata": {
  "anaconda-cloud": {},
  "kernelspec": {
   "display_name": "Python [Root]",
   "language": "python",
   "name": "Python [Root]"
  },
  "language_info": {
   "codemirror_mode": {
    "name": "ipython",
    "version": 3
   },
   "file_extension": ".py",
   "mimetype": "text/x-python",
   "name": "python",
   "nbconvert_exporter": "python",
   "pygments_lexer": "ipython3",
   "version": "3.5.2"
  }
 },
 "nbformat": 4,
 "nbformat_minor": 0
}
