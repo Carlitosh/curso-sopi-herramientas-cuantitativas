{
 "cells": [
  {
   "cell_type": "markdown",
   "metadata": {},
   "source": [
    "Clase 2(a) - Corrección Radiométrica de Imágenes Satelitales\n",
    "===========================================\n",
    "\n",
    "### SoPI II: Herramientas de teledetección cuantitativa"
   ]
  },
  {
   "cell_type": "markdown",
   "metadata": {},
   "source": [
    "En esta clase nos centraremos en la corrección radiométrica de firmas espectrales \n",
    "\n",
    "Se utilizara este notebook de python para ayudar en el procesamiento y la visualización de las mismas.\n",
    "\n",
    "Los notebooks se dividen de la siguiente manera\n",
    "\n",
    "- (a) Ajustar el valor mínimo del histograma a una curva $L_0\\times\\lambda^{-\\gamma}$\n",
    "- (b) Calcular los parámetros de corrección con Py6S\n",
    "- (c) Graficar las firmas espectrales con varias correcciones\n"
   ]
  },
  {
   "cell_type": "markdown",
   "metadata": {},
   "source": [
    "### Carga de librerias\n",
    "\n",
    "Recuerde que debe ejecutar **siempre** primero la celda que carga las librerias para ejecutar los procesos.\n",
    "\n",
    "Durante esta clase utilizaremos las librerias\n",
    "\n",
    "- [matplotlib](http://matplotlib.org/) para generación de gráficos.\n",
    "- [numpy](http://www.numpy.org/) para el procesamiento numérico y matricial.\n",
    "- [scipy](http://www.scipy.org) para realizar los ajustes### Grafico de firmas espectrales\n",
    "\n",
    "Para graficar firmas espectrales con `matplotlib` debemos darle dos arrays con valores. El primero de ellos son las posiciones de `x` para el grafico y el segundo son las posiciones de `y`."
   ]
  },
  {
   "cell_type": "code",
   "execution_count": 1,
   "metadata": {
    "collapsed": true
   },
   "outputs": [],
   "source": [
    "# Cargamos las librerais\n",
    "import numpy as np\n",
    "import matplotlib.pyplot as plt\n",
    "from scipy import stats\n",
    "\n",
    "# Fijamos que muestre los graficos dentro de la linea\n",
    "%matplotlib inline"
   ]
  },
  {
   "cell_type": "markdown",
   "metadata": {},
   "source": [
    "### Ajuste de firmas espectrales\n",
    "\n",
    "Para ajustar los minimos con `scipy` debemos primero cargar los mimos para cada longitud de onda"
   ]
  },
  {
   "cell_type": "code",
   "execution_count": 9,
   "metadata": {
    "collapsed": true
   },
   "outputs": [],
   "source": [
    "# Valores de longitud de onda para landsat 8\n",
    "x = [482,561,655,864,1608,2200]\n",
    "# Valores de reflectancia\n",
    "y = [700,400,150,50,5,1]"
   ]
  },
  {
   "cell_type": "markdown",
   "metadata": {},
   "source": [
    "podemos luego graficar a los mismos"
   ]
  },
  {
   "cell_type": "code",
   "execution_count": 12,
   "metadata": {
    "collapsed": false
   },
   "outputs": [
    {
     "data": {
      "image/png": "[encoded data removed]",
      "text/plain": [
       "<matplotlib.figure.Figure at 0x7f17e4ba8588>"
      ]
     },
     "metadata": {},
     "output_type": "display_data"
    }
   ],
   "source": [
    "# Grafico\n",
    "plt.plot(x,y,linestyle = \"None\", marker='o', color=\"green\", label=\"Minimo\")\n",
    "\n",
    "# Configuraciones de ploteo. \n",
    "# Cambiar bajo su propio riesgo\n",
    "# Incluyo la leyenda\n",
    "plt.legend(numpoints=1)\n",
    "# Pongo nombres a los ejes\n",
    "plt.xlabel(\"Longitud de londa [nm]\")\n",
    "plt.ylabel(\"Relectancia [Arb.]\")\n",
    "# Pongo titulo\n",
    "plt.title(\"Firmas espectrales\")\n",
    "\n",
    "# Muestro el grafico\n",
    "plt.show()"
   ]
  },
  {
   "cell_type": "markdown",
   "metadata": {},
   "source": [
    "o en un grafico loglog"
   ]
  },
  {
   "cell_type": "code",
   "execution_count": 11,
   "metadata": {
    "collapsed": false
   },
   "outputs": [
    {
     "data": {
      "image/png": "[encoded data removed]",
      "text/plain": [
       "<matplotlib.figure.Figure at 0x7f17e4f39400>"
      ]
     },
     "metadata": {},
     "output_type": "display_data"
    }
   ],
   "source": [
    "# Grafico\n",
    "plt.loglog(x,y,linestyle = \"None\", marker='o', color=\"green\", label=\"Minimo\")\n",
    "\n",
    "# Configuraciones de ploteo. \n",
    "# Cambiar bajo su propio riesgo\n",
    "# Incluyo la leyenda\n",
    "plt.legend(numpoints=1)\n",
    "# Pongo nombres a los ejes\n",
    "plt.xlabel(\"Log Longitud de londa [nm]\")\n",
    "plt.ylabel(\"Log Relectancia [Arb.]\")\n",
    "# Pongo titulo\n",
    "plt.title(\"Firmas espectrales\")\n",
    "\n",
    "# Muestro el grafico\n",
    "plt.show()"
   ]
  },
  {
   "cell_type": "markdown",
   "metadata": {},
   "source": [
    "para hacer el ajuste, utilizaremos la funcion linregress de scipy como `stats.linregress()` donde los valores de `x` y de `y` serán los correspondientes logaritmos. Mostramos luego los valores obtenidos"
   ]
  },
  {
   "cell_type": "code",
   "execution_count": 17,
   "metadata": {
    "collapsed": false
   },
   "outputs": [
    {
     "name": "stdout",
     "output_type": "stream",
     "text": [
      "$\\gamma$ 4.21874535552 32.5563269873 -0.998189312758 4.91491418127e-06 0.127110210323\n"
     ]
    }
   ],
   "source": [
    "slope, intercept, r_value, p_value, std_err = stats.linregress(np.log(x),np.log(y))\n",
    "print(\"$\\gamma$\",-slope, intercept, r_value, p_value, std_err)"
   ]
  },
  {
   "cell_type": "code",
   "execution_count": null,
   "metadata": {
    "collapsed": true
   },
   "outputs": [],
   "source": []
  },
  {
   "cell_type": "code",
   "execution_count": 16,
   "metadata": {
    "collapsed": false
   },
   "outputs": [
    {
     "name": "stdout",
     "output_type": "stream",
     "text": [
      "-4.21874535552 32.5563269873 -0.998189312758 4.91491418127e-06 0.127110210323\n"
     ]
    }
   ],
   "source": []
  }
 ],
 "metadata": {
  "kernelspec": {
   "display_name": "Python 3",
   "language": "python",
   "name": "python3"
  },
  "language_info": {
   "codemirror_mode": {
    "name": "ipython",
    "version": 3
   },
   "file_extension": ".py",
   "mimetype": "text/x-python",
   "name": "python",
   "nbconvert_exporter": "python",
   "pygments_lexer": "ipython3",
   "version": "3.5.1"
  }
 },
 "nbformat": 4,
 "nbformat_minor": 0
}
