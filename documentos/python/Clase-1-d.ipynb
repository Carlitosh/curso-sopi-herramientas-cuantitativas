{
 "cells": [
  {
   "cell_type": "markdown",
   "metadata": {},
   "source": [
    "Clase 1(d) - Análisis de Firmas Espectrales\n",
    "============================================\n",
    "\n",
    "### SoPI II: Herramientas de teledetección cuantitativa"
   ]
  },
  {
   "cell_type": "markdown",
   "metadata": {},
   "source": [
    "En esta clase nos centraremos en el análisis de firmas espectrales. \n",
    "\n",
    "Se utilizara este notebook de python para ayudar en el procesamiento y la visualización de las mismas.\n",
    "\n",
    "Los notebooks se dividen de la siguiente manera\n",
    "\n",
    "- (a) - Grafico de valores de reflectancia por banda\n",
    "- (b) - Grafico de firmas espectrales\n",
    "- (c) - Calculo de $\\rho_i$ a partir de una firma espectral\n",
    "- **(d)** - Descomposición de firmas especrales"
   ]
  },
  {
   "cell_type": "markdown",
   "metadata": {},
   "source": [
    "### Carga de librerias\n",
    "\n",
    "Recuerde que debe ejecutar **siempre** primero la celda que carga las librerias para ejecutar los procesos."
   ]
  },
  {
   "cell_type": "code",
   "execution_count": 4,
   "metadata": {
    "collapsed": true
   },
   "outputs": [],
   "source": [
    "# Cargamos las librerais\n",
    "import numpy as np\n",
    "import matplotlib.pyplot as plt\n",
    "\n",
    "# Fijamos que muestre los graficos dentro de la linea\n",
    "%matplotlib inline"
   ]
  },
  {
   "cell_type": "markdown",
   "metadata": {},
   "source": [
    "### Descomposición de firmas espectrales\n",
    "\n",
    "Apuntamos ahora a descomponer la firma espectral de un pixel a partir de conocer las firmas espectrales puras para la zona.\n",
    "\n",
    "Debemos en primer lugar cargar cada una de ellas como un vector para poder utilizarlas"
   ]
  },
  {
   "cell_type": "code",
   "execution_count": 36,
   "metadata": {
    "collapsed": false
   },
   "outputs": [],
   "source": [
    "# Cargamos las firmas espectrales como arrays de numpy\n",
    "\n",
    "v = np.array([0.05,0.1,0.05,0.4,0.2,0.1,1])\n",
    "s = np.array([0.05,0.1,0.15,0.2,0.3,0.4,1])\n",
    "a = np.array([0.05,0.04,0.01,0.,0.,0.,1])"
   ]
  },
  {
   "cell_type": "code",
   "execution_count": 37,
   "metadata": {
    "collapsed": false
   },
   "outputs": [],
   "source": [
    "# Fijamos que la suma de  las 3 variables sea siempre 1\n",
    "M = np.matrix([v,s,a])\n",
    "a = M.T*np.matrix([0.5,0.3,0.2]).T"
   ]
  },
  {
   "cell_type": "code",
   "execution_count": 41,
   "metadata": {
    "collapsed": false
   },
   "outputs": [
    {
     "data": {
      "text/plain": [
       "(matrix([[ 0.72464613],\n",
       "         [ 0.14365878],\n",
       "         [ 0.15880631]]),\n",
       " matrix([[ 0.21646228]]),\n",
       " 3,\n",
       " array([ 1.82854536,  0.38118034,  0.25558443]))"
      ]
     },
     "execution_count": 41,
     "metadata": {},
     "output_type": "execute_result"
    }
   ],
   "source": [
    "a = np.matrix([0.5,0.2,0.1,0.3,0.2,0.1,1])\n",
    "np.linalg.lstsq(M.T,a.T)"
   ]
  }
 ],
 "metadata": {
  "kernelspec": {
   "display_name": "Python 3",
   "language": "python",
   "name": "python3"
  },
  "language_info": {
   "codemirror_mode": {
    "name": "ipython",
    "version": 3
   },
   "file_extension": ".py",
   "mimetype": "text/x-python",
   "name": "python",
   "nbconvert_exporter": "python",
   "pygments_lexer": "ipython3",
   "version": "3.5.1"
  }
 },
 "nbformat": 4,
 "nbformat_minor": 0
}
