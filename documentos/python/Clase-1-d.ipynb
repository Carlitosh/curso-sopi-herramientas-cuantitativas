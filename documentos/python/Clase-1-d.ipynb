{
 "cells": [
  {
   "cell_type": "markdown",
   "metadata": {},
   "source": [
    "Clase 1(d) - Análisis de Firmas Espectrales\n",
    "============================================\n",
    "\n",
    "### SoPI II: Herramientas de teledetección cuantitativa"
   ]
  },
  {
   "cell_type": "markdown",
   "metadata": {},
   "source": [
    "En esta clase nos centraremos en el análisis de firmas espectrales. \n",
    "\n",
    "Se utilizara este notebook de python para ayudar en el procesamiento y la visualización de las mismas.\n",
    "\n",
    "Los notebooks se dividen de la siguiente manera\n",
    "\n",
    "- (a) - Grafico de valores de reflectancia por banda\n",
    "- (b) - Grafico de firmas espectrales\n",
    "- (c) - Calculo de $\\rho_i$ a partir de una firma espectral\n",
    "- **(d)** - Descomposición de firmas especrales"
   ]
  },
  {
   "cell_type": "markdown",
   "metadata": {},
   "source": [
    "### Carga de librerias\n",
    "\n",
    "Recuerde que debe ejecutar **siempre** primero la celda que carga las librerias para ejecutar los procesos."
   ]
  },
  {
   "cell_type": "code",
   "execution_count": null,
   "metadata": {
    "collapsed": true
   },
   "outputs": [],
   "source": [
    "# Cargamos las librerais\n",
    "import numpy as np\n",
    "import matplotlib.pyplot as plt\n",
    "\n",
    "# Fijamos que muestre los graficos dentro de la linea\n",
    "%matplotlib inline"
   ]
  },
  {
   "cell_type": "markdown",
   "metadata": {},
   "source": [
    "### Descomposición de firmas espectrales\n",
    "\n",
    "Apuntamos ahora a descomponer la firma espectral de un pixel a partir de conocer las firmas espectrales puras para la zona.\n",
    "\n",
    "Debemos en primer lugar cargar cada una de ellas como un vector para poder utilizarlas"
   ]
  },
  {
   "cell_type": "code",
   "execution_count": 1,
   "metadata": {
    "collapsed": true
   },
   "outputs": [],
   "source": [
    "# Cargamos las firmas espectrales como arrays de numpy\n",
    "\n",
    "v = [0.05,0.1,0.05,0.4,0.2,0.1]"
   ]
  }
 ],
 "metadata": {
  "kernelspec": {
   "display_name": "Python 3",
   "language": "python",
   "name": "python3"
  },
  "language_info": {
   "codemirror_mode": {
    "name": "ipython",
    "version": 3
   },
   "file_extension": ".py",
   "mimetype": "text/x-python",
   "name": "python",
   "nbconvert_exporter": "python",
   "pygments_lexer": "ipython3",
   "version": "3.5.1"
  }
 },
 "nbformat": 4,
 "nbformat_minor": 0
}
