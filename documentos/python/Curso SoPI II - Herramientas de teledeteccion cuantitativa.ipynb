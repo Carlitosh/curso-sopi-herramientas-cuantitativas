{
 "cells": [
  {
   "cell_type": "markdown",
   "metadata": {},
   "source": [
    "SoPI II : Herramientas de teledeteccion cuantitativas\n",
    "=====================================================\n",
    "\n",
    "Introduccion\n",
    "------------\n",
    "\n",
    "Dentro del curso usaremos distintas herramientas de python junto con el software [SoPI](http://sopi.conae.gov.ar) de la [CONAE](http://www.conae.gov.ar).\n",
    "\n",
    "El notebook contara con pequeñas explicaciones sobre el proceso realizado junto con el codigo a ejecutar.\n",
    "\n",
    "Cada sección del documento estará asociada a una sección de la guía de actividades o preguntas en caso de ser necesario."
   ]
  },
  {
   "cell_type": "markdown",
   "metadata": {},
   "source": [
    "### Bibliotecas adicionales\n",
    "\n",
    "Dentro de python utilizaremos distintas herramientas para procesar imágenes\n",
    "\n",
    "- [numpy](http://www.numpy.org/) para el procesamiento numérico y matricial.\n",
    "- [scipy](http://scipy.org/) para cálculos estadísticos.\n",
    "- [gdal](http://www.gdal.org/) para manipulación de imágenes.\n",
    "- [matplotlib](http://matplotlib.org/) para generación de gráficos.\n",
    "- [sklearn](http://scikit-learn.org/) para procesos de machine learning.\n",
    "- [datetime](https://pymotw.com/2/datetime/) para manejar las fechas.\n",
    "- [random]() para elegir valores al azar."
   ]
  },
  {
   "cell_type": "code",
   "execution_count": null,
   "metadata": {
    "collapsed": false,
    "scrolled": true
   },
   "outputs": [],
   "source": [
    "#Importo las librerias necesarias\n",
    "import numpy as np\n",
    "import scipy as sp\n",
    "import matplotlib.pyplot as plt\n",
    "import gdal\n",
    "import datetime\n",
    "import random\n",
    "# Importo las herramientas de interpolacion e integracions\n",
    "from scipy import interpolate\n",
    "from scipy import integrate\n",
    "from scipy import stats\n",
    "from matplotlib import dates\n",
    "from matplotlib import cm\n",
    "# Ignoro ciertos warnings\n",
    "np.seterr(invalid='ignore');\n",
    "# Configuro los graficos como inline\n",
    "%matplotlib inline"
   ]
  },
  {
   "cell_type": "markdown",
   "metadata": {},
   "source": [
    "1. Análisis de Firmas Espectrales\n",
    "---------------------------------\n",
    "\n",
    "Dentro de los objetivos de esta práctica se encuentra graficar firmas espectrales. Las siguientes funciones de python lo ayudaran en ese sentido."
   ]
  },
  {
   "cell_type": "markdown",
   "metadata": {},
   "source": [
    "### 1.1.3. Utilizando la herramienta...\n",
    "\n",
    "Se pretende en esta seccion graficar firmas espectrales. Dividiremos a la misma en dos. \n",
    "\n",
    "1. Graficar las firmas medidas con SoPI sin una firma de fondo.\n",
    "2. Graficar las firmas medidas con SoPI con una firma de fondo."
   ]
  },
  {
   "cell_type": "markdown",
   "metadata": {},
   "source": [
    "#### 1.1.3.A. Gráfico sin firmas de fondo"
   ]
  },
  {
   "cell_type": "code",
   "execution_count": null,
   "metadata": {
    "collapsed": false,
    "scrolled": true
   },
   "outputs": [],
   "source": [
    "# Cargo y grafico los puntos de la imagen. \n",
    "# Valores de longitud de onda para landsat 8\n",
    "x = [482,561,655,864,1608,2200]\n",
    "\n",
    "# Repitiendo estas dos lineas se pueden graficar varios puntos\n",
    "r1 = [128,329,185,3568,1219,442]\n",
    "plt.plot(x,r1,'o', color=\"red\", label=\"Vegetacion\")\n",
    "r2 = [150,100,75,50,25,25]\n",
    "plt.plot(x,r2,'o', color=\"blue\", label=\"Agua\")\n",
    "\n",
    "# Configuraciones de ploteo. \n",
    "# Cambiar bajo su propio riesto\n",
    "# Pongo el limite en x e y\n",
    "plt.xlim(450,2300)\n",
    "plt.ylim(0,5000)\n",
    "# Incluyo la leyenda\n",
    "plt.legend(numpoints=1)\n",
    "# Pongo nombres a los ejes\n",
    "plt.xlabel(\"Longitud de londa [nm]\")\n",
    "plt.ylabel(\"Relectancia [Arb.]\")\n",
    "# Pongo titulo\n",
    "plt.title(\"Firmas espectrales\")\n",
    "# Muestro el grafico\n",
    "plt.show()"
   ]
  },
  {
   "cell_type": "markdown",
   "metadata": {},
   "source": [
    "#### 1.1.3.B. Gráfico con firmas de fondo"
   ]
  },
  {
   "cell_type": "code",
   "execution_count": null,
   "metadata": {
    "collapsed": false,
    "scrolled": true
   },
   "outputs": [],
   "source": [
    "# Valores de longitud de onda para landsat 8\n",
    "x = [482,561,655,864,1608,2200]\n",
    "\n",
    "# Repitiendo estas dos lineas se pueden graficar varios puntos\n",
    "r1 = [128,329,185,3568,1219,442]\n",
    "plt.plot(x,r1,'o', color=\"red\", label=\"Vegetacion\")\n",
    "\n",
    "# Nombre del archivo con la firma espectral a utilizar\n",
    "firma_in = \"../material/firmas/A12_1.txt\"\n",
    "\n",
    "# Lectura de la firma espectral\n",
    "# skip_header se usa para saltear el header del archivo\n",
    "firma = np.genfromtxt(firma_in,skip_header=7)\n",
    "# Busco los valores cero\n",
    "mask = firma[:,3]<=0\n",
    "# Los enmascaro como nan\n",
    "firma[mask]=np.nan\n",
    "\n",
    "# Grafico la reflectancia contra la longitud de onda\n",
    "plt.plot(firma[:,0],firma[:,3], label=\"Vegetacion\", color=\"green\")\n",
    "\n",
    "# Configuraciones de ploteo. \n",
    "# Cambiar bajo su propio riesto\n",
    "# Pongo el limite en x e y\n",
    "plt.xlim(450,2300)\n",
    "plt.ylim(0,5000)\n",
    "# Incluyo la leyenda\n",
    "plt.legend(numpoints=1)\n",
    "# Pongo nombres a los ejes\n",
    "plt.xlabel(\"Longitud de londa [nm]\")\n",
    "plt.ylabel(\"Relectancia [Arb.]\")\n",
    "# Pongo titulo\n",
    "plt.title(\"Firmas espectrales\")\n",
    "# Muestro el grafico\n",
    "plt.show()"
   ]
  },
  {
   "cell_type": "markdown",
   "metadata": {},
   "source": [
    "2. Correción Radiométrica de Imágenes Satelitales\n",
    "-------------------------------------------------\n",
    "\n",
    "Dentro de los objetivos de esta práctica se encuentra abrir imágenes y calcular histogramas sobre las mismas."
   ]
  },
  {
   "cell_type": "markdown",
   "metadata": {},
   "source": [
    "### 2.1.3 Grafique el histograma...\n",
    "\n",
    "Se pretende en esta sección graficar el histograma para todas las bandas de la imagen seleccionada para poder asi calcular el valor mínimo de las mismas"
   ]
  },
  {
   "cell_type": "code",
   "execution_count": null,
   "metadata": {
    "collapsed": false,
    "scrolled": true
   },
   "outputs": [],
   "source": [
    "# Nombre de la imagen\n",
    "imagen_in = \"../material/imagenes/l1_l8_oli_20130819.tif\"\n",
    "\n",
    "# cargo la imagen como un handle\n",
    "imagen_ha = gdal.Open(imagen_in)\n",
    "# Leo la cantidad de filas y columnas\n",
    "Nx = imagen_ha.RasterXSize\n",
    "Ny = imagen_ha.RasterYSize\n",
    "N  = imagen_ha.RasterCount\n",
    "# Creo el array de con el numero de bandas elementos vacios\n",
    "imagen = [[]]*N\n",
    "# Leo la banda como array\n",
    "for i in range(N):\n",
    "    imagen[i] = imagen_ha.GetRasterBand(i+1).ReadAsArray()\n",
    "# Calculo los histogramas por banda\n",
    "for i in range(N):\n",
    "    # Reshapeo el array para hacerlo mas rapido\n",
    "    imagen[i].shape = Nx*Ny\n",
    "    # Busco el minimo y el maximo fijando el paso\n",
    "    mi = np.min(imagen[i])\n",
    "    ma = np.percentile(imagen[i],10)\n",
    "    step = (ma-mi)/10\n",
    "    #Grafico el histograma y lo muestro\n",
    "    plt.hist(imagen[i],bins=np.arange(mi,ma,step))\n",
    "    plt.xlabel('Reflectancia')\n",
    "    plt.ylabel('Cuentas')\n",
    "    plt.title('Histograma para la banda '+str(i)+\" - minimo:\"+str(mi))\n",
    "    plt.show()"
   ]
  },
  {
   "cell_type": "markdown",
   "metadata": {},
   "source": [
    "### 3. Cálculo de Índices Espectrales\n",
    "-------------------------------------------------\n",
    "\n",
    "Dentro de los objetivos de esta practica se graficar series temporales de índices y scatterplots de bandas"
   ]
  },
  {
   "cell_type": "markdown",
   "metadata": {},
   "source": [
    "### 2.1.3 Abra la imagen...\n",
    "\n",
    "Se pretende en esta sección grafica el indice de vegetación como función del tiempo."
   ]
  },
  {
   "cell_type": "code",
   "execution_count": null,
   "metadata": {
    "collapsed": false,
    "scrolled": false
   },
   "outputs": [],
   "source": [
    "# Valores obtenidos para el NDVI\n",
    "NDVI = [8646,8253,8465,8069,8625,9045,8871,8968,8998,8944,\n",
    "       9096,8949,8808,8875,8971,8936,8924,9158,8954,8854,\n",
    "       8625,8721,8614,8599,8056,8654]\n",
    "EVI  = [4194,4259,4539,4950,5479,5167,6092,6040,5902,5245,\n",
    "        5513,5477,5321,5501,5516,5204,5612,5332,4863,4500,\n",
    "       4488,4558,4103,4743,4332,5064]\n",
    "NDVI_label = \"NDVI\" #Etiqueta del NDVI\n",
    "EVI_label = \"EVI\" #Etiqueta del EVI\n",
    "\n",
    "# Valores de dias donde se adquirieron las imagenes\n",
    "# Creo el vector de dias para graficar\n",
    "dias = []\n",
    "# Separacion entre dias\n",
    "delta = datetime.timedelta(days=16)\n",
    "# Agrego los dias de 2013\n",
    "init1 = datetime.date(2013, 7, 28)\n",
    "end1 = datetime.date(2013,12,20)\n",
    "# Agrego los dias de 2014\n",
    "dias.extend(dates.drange(init1,end1,delta))\n",
    "init2 = datetime.date(2014, 1, 1)\n",
    "end2 = datetime.date(2014,8,30)\n",
    "dias.extend(dates.drange(init2,end2,delta))\n",
    "# Creo el grafico con las figuras\n",
    "fig, ax= plt.subplots()\n",
    "plt.plot(dias,NDVI,label=NDVI_label)\n",
    "plt.plot(dias,EVI,label=EVI_label)\n",
    "\n",
    "# Configuraciones de ploteo. \n",
    "# Cambiar bajo su propio riesto\n",
    "# Configure las divisiones\n",
    "mayor = dates.MonthLocator(interval=3)  # cada 3 meses\n",
    "menor = dates.MonthLocator()            # cada 1 meses\n",
    "formato = dates.DateFormatter('%m-%Y')  # formato de fechas\n",
    "# format the ticks\n",
    "ax.xaxis.set_major_locator(mayor)\n",
    "ax.xaxis.set_major_formatter(formato)\n",
    "ax.xaxis.set_minor_locator(menor)\n",
    "datemin = datetime.date(2013, 6, 1)\n",
    "datemax = datetime.date(2014, 12, 1)\n",
    "# Pongo los limites a las fechas\n",
    "ax.set_xlim(datemin, datemax)\n",
    "# Configure el eje y\n",
    "plt.ylim(-5000,10000)\n",
    "# Incluyo la leyenda\n",
    "plt.legend(numpoints=1)\n",
    "# Pongo nombres a los ejes\n",
    "plt.xlabel(\"Mes del año\")\n",
    "plt.ylabel(\"Arb. x 10 000\")\n",
    "# Pongo titulo\n",
    "plt.title(\"Variacion del indice\")\n",
    "# Muestro el grafico\n",
    "plt.show()"
   ]
  },
  {
   "cell_type": "markdown",
   "metadata": {},
   "source": [
    "### 2.1.4 Estime la pendiente...\n",
    "Se pretende en esta seccion estimar y graficar la linea de suelo en un scatterplot NIR-ROJO"
   ]
  },
  {
   "cell_type": "code",
   "execution_count": null,
   "metadata": {
    "collapsed": false,
    "scrolled": true
   },
   "outputs": [],
   "source": [
    "# Nombre de la imagen\n",
    "imagen_in = \"../../../199.tif\"\n",
    "\n",
    "# Numero de puntos para hacer el scatterplot\n",
    "Nd = 20000\n",
    "\n",
    "# cargo la imagen como un handle\n",
    "imagen_ha = gdal.Open(imagen_in)\n",
    "# Leo la cantidad de filas y columnas\n",
    "Nx = imagen_ha.RasterXSize\n",
    "Ny = imagen_ha.RasterYSize\n",
    "N  = imagen_ha.RasterCount\n",
    "# Leo las bandas 3 y 4 a dos arrays\n",
    "rojo = imagen_ha.GetRasterBand(1).ReadAsArray()\n",
    "nir = imagen_ha.GetRasterBand(2).ReadAsArray()\n",
    "# Convierto los arrays a 1D\n",
    "rojo.shape = Nx*Ny\n",
    "nir.shape = Nx*Ny\n",
    "\n",
    "# Creo dos vectores con los puntos entre los percentiles\n",
    "# upper y lower. Despues ajusto dichos puntos por regresion\n",
    "# lineal para obtener los valores de L y b para\n",
    "# la linea de suelo.\n",
    "# Percentil inferior y superior\n",
    "upper = 8\n",
    "lower = 1\n",
    "lamin = 1000 # Longitud de onda minima\n",
    "# Vectores a usar\n",
    "rojo2 = []\n",
    "nir2 = []\n",
    "# Itero para todas las longitudes de onda\n",
    "for i in range(2000):\n",
    "    idx = rojo==i+lamin\n",
    "    if len(nir[idx])>100: #cantidad minima de datos para considerar la fila\n",
    "        # Me quedo solo con los valores que complen estar en el percentil mas bajo\n",
    "        idx2 = (nir[idx] < np.percentile(nir[idx],upper))& (nir[idx] > np.percentile(nir[idx],lower))\n",
    "        rojo2.extend(rojo[idx][idx2])\n",
    "        nir2.extend(nir[idx][idx2])\n",
    "# Hago la regresion lineal\n",
    "L = sp.stats.linregress(x=rojo2,y=nir2)\n",
    "\n",
    "# Muestreo valores para hacer el scatterplot mas rapido\n",
    "idx=random.sample(range(len(nir)),Nd)\n",
    "# Grafico el scatterplot coloreando distinto en la direccion de N-R\n",
    "plt.scatter(rojo[idx],nir[idx],c=(nir[idx]-rojo[idx]),alpha=0.2, cmap=cm.Paired,label='Valores de la imagen')\n",
    "# Grafico la linea de suelo\n",
    "x = np.arange(0,3000,10)# Percentil inferior y superior\n",
    "upper = 8\n",
    "lower = 1\n",
    "lamin = 1000 # Longitud de onda minima\n",
    "# Vectores a usar\n",
    "rojo2 = []\n",
    "nir2 = []\n",
    "# Itero para todas las longitudes de onda\n",
    "for i in range(2000):\n",
    "    idx = rojo==i+lamin\n",
    "    if len(nir[idx])>100: #cantidad minima de datos para considerar la fila\n",
    "        # Me quedo solo con los valores que complen estar en el percentil mas bajo\n",
    "        idx2 = (nir[idx] < np.percentile(nir[idx],upper))& (nir[idx] > np.percentile(nir[idx],lower))\n",
    "        rojo2.extend(rojo[idx][idx2])\n",
    "        nir2.extend(nir[idx][idx2])\n",
    "# Hago la regresion lineal\n",
    "L = sp.stats.linregress(x=rojo2,y=nir2)\n",
    "y = L[0]*x+L[1]\n",
    "plt.plot(x,y,label='Linea de suelo\\n L = '+str(int(1e2*L[0])/1e2)+\n",
    "         '\\n b = '+str(int(L[1]))+'\\n r2 = '+str(str(int(1e5*L[2])/1e5)))\n",
    "plt.legend(numpoints=1)\n",
    "# Pongo el limite en x e y fijo la relacion de aspecto en 1\n",
    "plt.axis('equal')\n",
    "plt.axis([0, 5000, 0, 5000])\n",
    "# Pongo nombres a los ejes\n",
    "plt.xlabel(\"Rojo\")\n",
    "plt.ylabel(\"NIR\")\n",
    "# Pongo titulo\n",
    "plt.title(\"Scatterplot NIR-Rojo\")\n",
    "# Muestro el scatterplot\n",
    "plt.show()"
   ]
  },
  {
   "cell_type": "markdown",
   "metadata": {},
   "source": [
    "7. Validación de clasificaciones\n",
    "--------------------------------\n",
    "\n",
    "Dentro de los objetivos de esta práctica es extraer información adicional a partir de la matriz de confusión y otros datos de la imagen"
   ]
  },
  {
   "cell_type": "markdown",
   "metadata": {},
   "source": [
    "### 7.1.4 A partir de las matrices...\n",
    "\n",
    "Calcularemos en este apartado informacion adicional obtenida de las matrices de confusión"
   ]
  },
  {
   "cell_type": "code",
   "execution_count": null,
   "metadata": {
    "collapsed": false,
    "scrolled": true
   },
   "outputs": [],
   "source": [
    "# Cargo la matriz de confusion\n",
    "matrix = np.array([\n",
    "         [50, 10, 20],\n",
    "         [ 5,100, 15],\n",
    "         [10, 10, 80]])\n",
    "# Cargo las areas en pixeles de cada region\n",
    "areas = np.array([500.,500.,1000.])\n",
    "percent = areas/sum(areas)\n",
    "\n",
    "# Convierto las areas a km^2\n",
    "areas = areas\n",
    "\n",
    "# Convierto la matriz de confusion a probabilidades\n",
    "m = []\n",
    "for i in range(len(matrix)):\n",
    "    for j in range(len(matrix)):\n",
    "        m.append(matrix[i,j]/sum(matrix[i,:])*percent[i])\n",
    "m = np.array(m)\n",
    "m.shape = (len(matrix),len(matrix))\n",
    "print(m)\n",
    "# Calculo las areas y desvios para cada componente\n",
    "area = []\n",
    "desvio = []\n",
    "for i in range(len(matrix)):\n",
    "    area.append(sum(areas)*sum(m[:,i]))\n",
    "    suma = 0\n",
    "    for j in range(len(matrix)):\n",
    "        suma = suma + (percent[j]*m[j,i]-m[j,i]**2)/(sum(matrix[i,:])-1)\n",
    "    desvio.append(sum(areas)*np.sqrt(suma))\n",
    "area = np.array(area)\n",
    "desvio = np.array(desvio)\n",
    "# Imprimo las areas y su error standar\n",
    "print(\"   Area    Error\")\n",
    "print(\"  [km^2]   [km^2]\")\n",
    "print(\"-----------------\")\n",
    "for i in range(3):\n",
    "    print('%8.2f %8.2f' % (area[i], 1.96*desvio[i]))"
   ]
  },
  {
   "cell_type": "code",
   "execution_count": null,
   "metadata": {
    "collapsed": true
   },
   "outputs": [],
   "source": []
  }
 ],
 "metadata": {
  "kernelspec": {
   "display_name": "Python 3",
   "language": "python",
   "name": "python3"
  },
  "language_info": {
   "codemirror_mode": {
    "name": "ipython",
    "version": 3
   },
   "file_extension": ".py",
   "mimetype": "text/x-python",
   "name": "python",
   "nbconvert_exporter": "python",
   "pygments_lexer": "ipython3",
   "version": "3.5.1"
  }
 },
 "nbformat": 4,
 "nbformat_minor": 0
}
