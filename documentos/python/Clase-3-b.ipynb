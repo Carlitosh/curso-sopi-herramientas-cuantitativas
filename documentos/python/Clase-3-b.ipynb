{
 "cells": [
  {
   "cell_type": "markdown",
   "metadata": {},
   "source": [
    "Clase 3(b) - Calculo de índices espectrales\n",
    "===========================================\n",
    "\n",
    "### SoPI II: Herramientas de teledetección cuantitativa"
   ]
  },
  {
   "cell_type": "markdown",
   "metadata": {},
   "source": [
    "En esta clase nos centraremos en el calculo de índices espectrales y la obtención de variables biofísicas a partir de los mismos.\n",
    "\n",
    "Se utilizara este notebook de python para ayudar en el procesamiento.\n",
    "\n",
    "Los notebooks se dividen de la siguiente manera\n",
    "\n",
    "- (a) - Estimación de la linea de suelo para una imagen.\n",
    "- **(b)** - Estimación de variables biofísicas.\n",
    "- (c) - Grafica de la variación temporal de un índice."
   ]
  },
  {
   "cell_type": "markdown",
   "metadata": {},
   "source": [
    "### Carga de librerias\n",
    "\n",
    "Recuerde que debe ejecutar **siempre** primero la celda que carga las librerias para ejecutar los procesos.\n",
    "\n",
    "Durante esta clase utilizaremos las librerias\n",
    "\n",
    "- [matplotlib](http://matplotlib.org/) para generación de gráficos.\n",
    "- [numpy](http://www.numpy.org/) para el procesamiento numérico y matricial.\n",
    "- [scipy](http://www.scipy.org) para realizar los ajustees lineales."
   ]
  },
  {
   "cell_type": "code",
   "execution_count": 1,
   "metadata": {
    "collapsed": false
   },
   "outputs": [],
   "source": [
    "# Cargamos las librerais\n",
    "import numpy as np\n",
    "import matplotlib.pyplot as plt\n",
    "from scipy.optimize import curve_fit\n",
    "\n",
    "# Fijamos que muestre los graficos dentro de la linea\n",
    "%matplotlib inline"
   ]
  },
  {
   "cell_type": "markdown",
   "metadata": {},
   "source": [
    "Ingresamos los valores medidos para el indice de vegetación a partir de la imagen y para la variable biofísica."
   ]
  },
  {
   "cell_type": "code",
   "execution_count": 2,
   "metadata": {
    "collapsed": true
   },
   "outputs": [],
   "source": [
    "VI = np.array([1,2,3,4])\n",
    "VF = np.array([1.2,3.2,5.6,9.8])"
   ]
  },
  {
   "cell_type": "markdown",
   "metadata": {},
   "source": [
    "Definimos el modelo al que queremos ajustar"
   ]
  },
  {
   "cell_type": "code",
   "execution_count": 3,
   "metadata": {
    "collapsed": true
   },
   "outputs": [],
   "source": [
    "def func(x, a, b, c):\n",
    "    return a * x**2 + b * x + c"
   ]
  },
  {
   "cell_type": "markdown",
   "metadata": {},
   "source": [
    "Ajustamos el modelo"
   ]
  },
  {
   "cell_type": "code",
   "execution_count": 4,
   "metadata": {
    "collapsed": false
   },
   "outputs": [],
   "source": [
    "popt, pcov = curve_fit(func, VI, VF)"
   ]
  },
  {
   "cell_type": "markdown",
   "metadata": {},
   "source": [
    "Finalmente graficamos los valores obtenidos junto con la curva del modelo"
   ]
  },
  {
   "cell_type": "code",
   "execution_count": 5,
   "metadata": {
    "collapsed": false
   },
   "outputs": [
    {
     "data": {
      "image/png": "[encoded data removed]",
      "text/plain": [
       "<matplotlib.figure.Figure at 0x7f152b14ee80>"
      ]
     },
     "metadata": {},
     "output_type": "display_data"
    }
   ],
   "source": [
    "# Graficamos los valores del ajuste\n",
    "plt.plot(VI,VF,linestyle = \"None\", marker='o', color=\"green\", label=\"Variable Biofísica\")\n",
    "\n",
    "# Graficamos la funcion obtenida\n",
    "x = np.linspace(np.min(VI), np.max(VI),100)\n",
    "plt.plot(x,func(x,popt[0],popt[1],popt[2]),label=\"Ajuste\")\n",
    "\n",
    "# Configuraciones de ploteo. \n",
    "# Cambiar bajo su propio riesgo\n",
    "# Pongo el limite en x e y\n",
    "plt.xlim(0,5)\n",
    "plt.ylim(0,12)\n",
    "# Incluyo la leyenda\n",
    "plt.legend(numpoints=1,loc=2)\n",
    "# Pongo nombres a los ejes\n",
    "plt.xlabel(\"Longitud de londa [nm]\")\n",
    "plt.ylabel(\"Relectancia [Arb.]\")\n",
    "# Pongo titulo\n",
    "plt.title(\"Firmas espectrales\")\n",
    "\n",
    "# Muestro el grafico\n",
    "plt.show()"
   ]
  }
 ],
 "metadata": {
  "anaconda-cloud": {},
  "kernelspec": {
   "display_name": "Python [Root]",
   "language": "python",
   "name": "Python [Root]"
  },
  "language_info": {
   "codemirror_mode": {
    "name": "ipython",
    "version": 3
   },
   "file_extension": ".py",
   "mimetype": "text/x-python",
   "name": "python",
   "nbconvert_exporter": "python",
   "pygments_lexer": "ipython3",
   "version": "3.5.2"
  }
 },
 "nbformat": 4,
 "nbformat_minor": 0
}
