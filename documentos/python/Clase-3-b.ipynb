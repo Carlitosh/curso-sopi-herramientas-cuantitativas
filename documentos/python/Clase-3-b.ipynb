{
 "cells": [
  {
   "cell_type": "markdown",
   "metadata": {},
   "source": [
    "Clase 3(b) - Calculo de índices espectrales\n",
    "===========================================\n",
    "\n",
    "### SoPI II: Herramientas de teledetección cuantitativa"
   ]
  },
  {
   "cell_type": "markdown",
   "metadata": {},
   "source": [
    "En esta clase nos centraremos en el calculo de índices espectrales y la obtención de variables biofísicas a partir de los mismos.\n",
    "\n",
    "Se utilizara este notebook de python para ayudar en el procesamiento.\n",
    "\n",
    "Los notebooks se dividen de la siguiente manera\n",
    "\n",
    "- (a) - Estimación de la linea de suelo para una imagen.\n",
    "- **(b)** - Estimación de variables biofísicas.\n",
    "- (c) - Grafica de la variación temporal de un índice."
   ]
  },
  {
   "cell_type": "markdown",
   "metadata": {},
   "source": [
    "### Carga de librerias\n",
    "\n",
    "Recuerde que debe ejecutar **siempre** primero la celda que carga las librerias para ejecutar los procesos.\n",
    "\n",
    "Durante esta clase utilizaremos las librerias\n",
    "\n",
    "- [matplotlib](http://matplotlib.org/) para generación de gráficos.\n",
    "- [numpy](http://www.numpy.org/) para el procesamiento numérico y matricial.\n",
    "- [scipy](http://www.scipy.org) para realizar los ajustees lineales."
   ]
  },
  {
   "cell_type": "code",
   "execution_count": 38,
   "metadata": {
    "collapsed": false
   },
   "outputs": [],
   "source": [
    "# Cargamos las librerais\n",
    "import numpy as np\n",
    "import matplotlib.pyplot as plt\n",
    "from scipy import stats\n",
    "# Fijamos que muestre los graficos dentro de la linea\n",
    "%matplotlib inline"
   ]
  },
  {
   "cell_type": "markdown",
   "metadata": {},
   "source": [
    "Ingresamos los valores medidos para el indice de vegetación a partir de la imagen y para la variable biofísica."
   ]
  },
  {
   "cell_type": "code",
   "execution_count": 52,
   "metadata": {
    "collapsed": false
   },
   "outputs": [],
   "source": [
    "VI = np.array([21577,\n",
    "18452,\n",
    "22294,\n",
    "22531,\n",
    "21433,\n",
    "10559,\n",
    "21937,\n",
    "13683,\n",
    "23189,\n",
    "23668,\n",
    "23733,\n",
    "23567,\n",
    "23567,\n",
    "23418,\n",
    "22728,\n",
    "23431,\n",
    "23279,\n",
    "23459,\n",
    "23338,\n",
    "22929,\n",
    "22209,\n",
    "23811,\n",
    "23215,\n",
    "23336,\n",
    "23867,\n",
    "22445,\n",
    "23386,\n",
    "22879,\n",
    "22368,\n",
    "23103\n",
    "])\n",
    "VF = np.array([9,\n",
    "8.3,\n",
    "8.7,\n",
    "8.3,\n",
    "7.2,\n",
    "5.5,\n",
    "8.8,\n",
    "5.9,\n",
    "8.6,\n",
    "7.7,\n",
    "8,\n",
    "8.1,\n",
    "9.1,\n",
    "7.6,\n",
    "8.5,\n",
    "9,\n",
    "9.1,\n",
    "7.5,\n",
    "9.4,\n",
    "7.4,\n",
    "8.8,\n",
    "9.3,\n",
    "8.9,\n",
    "9.1,\n",
    "8.9,\n",
    "8,\n",
    "7.7,\n",
    "7.4,\n",
    "7.5,\n",
    "9\n",
    "])"
   ]
  },
  {
   "cell_type": "markdown",
   "metadata": {},
   "source": [
    "Ajustamos el modelo"
   ]
  },
  {
   "cell_type": "code",
   "execution_count": 56,
   "metadata": {
    "collapsed": false
   },
   "outputs": [
    {
     "name": "stdout",
     "output_type": "stream",
     "text": [
      "LinregressResult(slope=0.00022624604208252525, intercept=3.2070137298943839, rvalue=0.70227401671351941, pvalue=1.5204828764400796e-05, stderr=4.3342951177525997e-05)\n"
     ]
    }
   ],
   "source": [
    "fit = stats.linregress(x=VI,y=VF)\n",
    "print(fit)"
   ]
  },
  {
   "cell_type": "markdown",
   "metadata": {},
   "source": [
    "Finalmente graficamos los valores obtenidos junto con la curva del modelo"
   ]
  },
  {
   "cell_type": "code",
   "execution_count": 57,
   "metadata": {
    "collapsed": false
   },
   "outputs": [
    {
     "data": {
      "image/png": "[encoded data removed]",
      "text/plain": [
       "<matplotlib.figure.Figure at 0x7f7d6acffba8>"
      ]
     },
     "metadata": {},
     "output_type": "display_data"
    }
   ],
   "source": [
    "# Graficamos los valores del ajuste\n",
    "plt.plot(VI,VF,linestyle = \"None\", marker='o', color=\"green\", label=\"Variable Biofísica\")\n",
    "\n",
    "# Graficamos la funcion obtenida\n",
    "x = np.linspace(np.min(VI), np.max(VI),100)\n",
    "plt.plot(x,fit.slope*x+fit.intercept,label=\"Ajuste\")\n",
    "\n",
    "# Configuraciones de ploteo. \n",
    "# Cambiar bajo su propio riesgo\n",
    "# Pongo el limite en x e y\n",
    "#plt.xlim(0,5)\n",
    "#plt.ylim(0,12)\n",
    "# Incluyo la leyenda\n",
    "plt.legend(numpoints=1,loc=2)\n",
    "# Pongo nombres a los ejes\n",
    "plt.xlabel(\"Índice de vegetación\")\n",
    "plt.ylabel(\"LAI\")\n",
    "\n",
    "# Muestro el grafico\n",
    "plt.show()"
   ]
  }
 ],
 "metadata": {
  "anaconda-cloud": {},
  "kernelspec": {
   "display_name": "Python 3",
   "language": "python",
   "name": "python3"
  },
  "language_info": {
   "codemirror_mode": {
    "name": "ipython",
    "version": 3
   },
   "file_extension": ".py",
   "mimetype": "text/x-python",
   "name": "python",
   "nbconvert_exporter": "python",
   "pygments_lexer": "ipython3",
   "version": "3.5.2"
  }
 },
 "nbformat": 4,
 "nbformat_minor": 0
}
