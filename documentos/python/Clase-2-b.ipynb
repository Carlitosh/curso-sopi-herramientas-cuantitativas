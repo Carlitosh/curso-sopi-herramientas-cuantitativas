{
 "cells": [
  {
   "cell_type": "markdown",
   "metadata": {},
   "source": [
    "Clase 2(a) - Corrección Radiométrica de Imágenes Satelitales\n",
    "===========================================\n",
    "\n",
    "### SoPI II: Herramientas de teledetección cuantitativa"
   ]
  },
  {
   "cell_type": "markdown",
   "metadata": {},
   "source": [
    "En esta clase nos centraremos en la corrección radiométrica de firmas espectrales \n",
    "\n",
    "Se utilizara este notebook de python para ayudar en el procesamiento y la visualización de las mismas.\n",
    "\n",
    "Los notebooks se dividen de la siguiente manera\n",
    "\n",
    "- (a) Ajustar el valor mínimo del histograma a una curva $L_0\\times\\lambda^{-\\gamma}$\n",
    "- **(b)** Calcular los parámetros de corrección con Py6S\n",
    "- (c) Graficar las firmas espectrales con varias correcciones\n"
   ]
  },
  {
   "cell_type": "markdown",
   "metadata": {},
   "source": [
    "### Carga de librerias\n",
    "\n",
    "Recuerde que debe ejecutar **siempre** primero la celda que carga las librerias para ejecutar los procesos.\n",
    "\n",
    "Durante esta clase utilizaremos las librerias\n",
    "\n",
    "- [Py6S](http://www.py6s.rtwilson.com/) para utilizar 6S desde python.\n",
    "\n",
    "Para graficar firmas espectrales con `matplotlib` debemos darle dos arrays con valores. El primero de ellos son las posiciones de `x` para el grafico y el segundo son las posiciones de `y`."
   ]
  },
  {
   "cell_type": "code",
   "execution_count": 1,
   "metadata": {
    "collapsed": true
   },
   "outputs": [],
   "source": [
    "# Cargamos las librerias\n",
    "import Py6S"
   ]
  },
  {
   "cell_type": "markdown",
   "metadata": {},
   "source": [
    "### Calculo de correcciones con 6S\n",
    "\n",
    "Para utilizar el [6S](http://6s.ltdri.org/) desde una interfaz mas comoda, utilizaremos el `Py6S` que nos permitira realizar varias simulaciones sin la necesidaad de correr directamente dicho software.\n",
    "\n",
    "comenzamos creando el objeto `6S`"
   ]
  },
  {
   "cell_type": "code",
   "execution_count": 2,
   "metadata": {
    "collapsed": true
   },
   "outputs": [],
   "source": [
    "s = Py6S.SixS()"
   ]
  },
  {
   "cell_type": "markdown",
   "metadata": {},
   "source": [
    "Luego debemos configurarlo con las opciones atmosfericas de interes. Es decir, definir la atmosfera.\n",
    "\n",
    "En este caso fijaremos:\n",
    "\n",
    "- La cantidad de agua y ozono\n",
    "- El tipo de modelo de aerosoles\n",
    "- La fecha y la hora\n",
    "- La visibilidad"
   ]
  },
  {
   "cell_type": "code",
   "execution_count": 3,
   "metadata": {
    "collapsed": false
   },
   "outputs": [],
   "source": [
    "# Cantidad de vapor de agua y Ozono\n",
    "s.atmos_profile = Py6S.AtmosProfile.UserWaterAndOzone(3.6, 0.9)\n",
    "# Geometria incluyendo fecha y parametros de inclinacion\n",
    "s.geometry = Py6S.Geometry.User()\n",
    "s.geometry.month = 12\n",
    "s.geometry.day = 1\n",
    "s.geometry.solar_a = 62.64\n",
    "s.geometry.solar_z = 90.0 - 57.3\n",
    "# Modelo de aerosoles\n",
    "s.aero_profile = Py6S.AeroProfile.PredefinedType(Py6S.AeroProfile.Continental)\n",
    "# Visibilidad\n",
    "s.visibility = 50"
   ]
  },
  {
   "cell_type": "markdown",
   "metadata": {},
   "source": [
    "Por ultimo, antes de correr el modelo debemos elegir para que longitud de onda o rango de longitudes de onda hacerlo."
   ]
  },
  {
   "cell_type": "code",
   "execution_count": 4,
   "metadata": {
    "collapsed": false
   },
   "outputs": [],
   "source": [
    "# Elegimos la longitud de onda para trabajar\n",
    "s.wavelength = Py6S.Wavelength(Py6S.PredefinedWavelengths.LANDSAT_OLI_B2)"
   ]
  },
  {
   "cell_type": "markdown",
   "metadata": {},
   "source": [
    "Finalmente el comando `s.run()` corre el modelo de simulacion."
   ]
  },
  {
   "cell_type": "code",
   "execution_count": 5,
   "metadata": {
    "collapsed": false
   },
   "outputs": [],
   "source": [
    "s.run()"
   ]
  },
  {
   "cell_type": "markdown",
   "metadata": {},
   "source": [
    "Podemos mostrar el resultado completo a partir de ejecutar "
   ]
  },
  {
   "cell_type": "code",
   "execution_count": 6,
   "metadata": {
    "collapsed": true
   },
   "outputs": [
    {
     "name": "stdout",
     "output_type": "stream",
     "text": [
      "\n",
      "\n",
      "\n",
      "\n",
      "\n",
      "******************************* 6SV version 1.1 *******************************\n",
      "*                                                                             *\n",
      "*                       geometrical conditions identity                       *\n",
      "*                       -------------------------------                       *\n",
      "*                       user defined conditions                               *\n",
      "*                                                                             *\n",
      "*   month: 12 day :   1                                                       *\n",
      "*   solar zenith angle:   32.70 deg  solar azimuthal angle:       62.64 deg   *\n",
      "*   view zenith angle:     0.00 deg  view azimuthal angle:         0.00 deg   *\n",
      "*   scattering angle:    147.30 deg  azimuthal angle difference:  62.64 deg   *\n",
      "*                                                                             *\n",
      "*                       atmospheric model description                         *\n",
      "*                       -----------------------------                         *\n",
      "*           atmospheric model identity :                                      *\n",
      "*             user defined water content : uh2o= 3.600 g/cm2                  *\n",
      "*             user defined ozone content : uo3 = 0.900 cm-atm                 *\n",
      "*           aerosols type identity :                                          *\n",
      "*               Continental aerosol model                                     *\n",
      "*           optical condition identity :                                      *\n",
      "*               visibility :  8.49 km  opt. thick. 550 nm :  0.5000           *\n",
      "*                                                                             *\n",
      "*                       spectral condition                                    *\n",
      "*                       ------------------                                    *\n",
      "*           user s                                                            *\n",
      "*               value of filter function :                                    *\n",
      "*                wl inf= 0.436 mic   wl sup= 0.526 mic                        *\n",
      "*                                                                             *\n",
      "*                       Surface polarization parameters                       *\n",
      "*                       ----------------------------------                    *\n",
      "*                                                                             *\n",
      "*                                                                             *\n",
      "* Surface Polarization Q,U,Rop,Chi    0.00000  0.00000  0.00000     0.00      *\n",
      "*                                                                             *\n",
      "*                                                                             *\n",
      "*                       target type                                           *\n",
      "*                       -----------                                           *\n",
      "*           homogeneous ground                                                *\n",
      "*             constant reflectance over the spectra  0.300                    *\n",
      "*                                                                             *\n",
      "*                       target elevation description                          *\n",
      "*                       ----------------------------                          *\n",
      "*           ground pressure  [mb] 1013.00                                     *\n",
      "*           ground altitude  [km] 0.000                                       *\n",
      "*                                                                             *\n",
      "*                       plane simulation description                          *\n",
      "*                       ----------------------------                          *\n",
      "*           plane  pressure          [mb] 1013.00                             *\n",
      "*           plane  altitude absolute [km]  0.000                              *\n",
      "*                atmosphere under plane description:                          *\n",
      "*                ozone content             0.000                              *\n",
      "*                h2o   content             0.000                              *\n",
      "*               aerosol opt. thick. 550nm  0.000                              *\n",
      "*                                                                             *\n",
      "*******************************************************************************\n",
      "\n",
      "\n",
      "\n",
      "*******************************************************************************\n",
      "*                                                                             *\n",
      "*                         integrated values of  :                             *\n",
      "*                         --------------------                                *\n",
      "*                                                                             *\n",
      "*       apparent reflectance  0.2415404  appar. rad.(w/m2/sr/mic)  131.441    *\n",
      "*                   total gaseous transmittance  0.982                        *\n",
      "*                                                                             *\n",
      "*******************************************************************************\n",
      "*                                                                             *\n",
      "*                         coupling aerosol -wv  :                             *\n",
      "*                         --------------------                                *\n",
      "*           wv above aerosol :   0.242     wv mixed with aerosol :   0.242    *\n",
      "*                       wv under aerosol :   0.242                            *\n",
      "*******************************************************************************\n",
      "*                                                                             *\n",
      "*                         integrated values of  :                             *\n",
      "*                         --------------------                                *\n",
      "*                                                                             *\n",
      "*       app. polarized refl.  0.0000    app. pol. rad. (w/m2/sr/mic)    0.000 *\n",
      "*             direction of the plane of polarization  0.00                    *\n",
      "*                   total polarization ratio     0.000                        *\n",
      "*                                                                             *\n",
      "*******************************************************************************\n",
      "*                                                                             *\n",
      "*                         int. normalized  values  of  :                      *\n",
      "*                         ---------------------------                         *\n",
      "*                      % of irradiance at ground level                        *\n",
      "*     % of direct  irr.    % of diffuse irr.    % of enviro. irr              *\n",
      "*               0.505               0.435               0.059                 *\n",
      "*                       reflectance at satellite level                        *\n",
      "*     atm. intrin. ref.   background  ref.  pixel  reflectance                *\n",
      "*               0.000               0.000               0.242                 *\n",
      "*                                                                             *\n",
      "*                         int. absolute values of                             *\n",
      "*                         -----------------------                             *\n",
      "*                      irr. at ground level (w/m2/mic)                        *\n",
      "*     direct solar irr.    atm. diffuse irr.    environment  irr              *\n",
      "*             695.503             599.144              81.803                 *\n",
      "*                      rad at satel. level (w/m2/sr/mic)                      *\n",
      "*     atm. intrin. rad.    background  rad.    pixel  radiance                *\n",
      "*               0.000               0.000             131.441                 *\n",
      "*                                                                             *\n",
      "*                                                                             *\n",
      "*          int. funct filter (in mic)              int. sol. spect (in w/m2)  *\n",
      "*             0.0563513                                 114.482               *\n",
      "*                                                                             *\n",
      "*******************************************************************************\n",
      " \n",
      "\n",
      "\n",
      "\n",
      "\n",
      "*******************************************************************************\n",
      "*                                                                             *\n",
      "*                          integrated values of  :                            *\n",
      "*                          --------------------                               *\n",
      "*                                                                             *\n",
      "*                             downward        upward          total           *\n",
      "*      global gas. trans. :     0.98173        1.00000        0.98173         *\n",
      "*      water   \"     \"    :     1.00000        1.00000        1.00000         *\n",
      "*      ozone   \"     \"    :     0.98173        1.00000        0.98173         *\n",
      "*      co2     \"     \"    :     1.00000        1.00000        1.00000         *\n",
      "*      oxyg    \"     \"    :     1.00000        1.00000        1.00000         *\n",
      "*      no2     \"     \"    :     1.00000        1.00000        1.00000         *\n",
      "*      ch4     \"     \"    :     1.00000        1.00000        1.00000         *\n",
      "*      co      \"     \"    :     1.00000        1.00000        1.00000         *\n",
      "*                                                                             *\n",
      "*                                                                             *\n",
      "*      rayl.  sca. trans. :     0.90771        1.00000        0.90771         *\n",
      "*      aeros. sca.   \"    :     0.85305        1.00000        0.85305         *\n",
      "*      total  sca.   \"    :     0.77155        1.00000        0.77155         *\n",
      "*                                                                             *\n",
      "*                                                                             *\n",
      "*                                                                             *\n",
      "*                             rayleigh       aerosols         total           *\n",
      "*                                                                             *\n",
      "*      spherical albedo   :     0.13138        0.12479        0.19815         *\n",
      "*      optical depth total:     0.17070        0.57134        0.74204         *\n",
      "*      optical depth plane:     0.00000        0.00000        0.00000         *\n",
      "*      reflectance I      :     0.00000        0.00000        0.00000         *\n",
      "*      reflectance Q      :     0.00000        0.00000        0.00000         *\n",
      "*      reflectance U      :     0.00000        0.00000        0.00000         *\n",
      "*      polarized reflect. :     0.00000        0.00000        0.00000         *\n",
      "*      degree of polar.   :         NaN           0.00            NaN         *\n",
      "*      dir. plane polar.  :      -45.00         -45.00         -45.00         *\n",
      "*      phase function I   :     1.26950        0.18868        0.43732         *\n",
      "*      phase function Q   :    -0.20986        0.04802       -0.01130         *\n",
      "*      phase function U   :    -1.21017       -0.04380       -0.31211         *\n",
      "*      primary deg. of pol:    -0.16531        0.25452       -0.02584         *\n",
      "*      sing. scat. albedo :     1.00000        0.89936        0.92251         *\n",
      "*                                                                             *\n",
      "*                                                                             *\n",
      "*******************************************************************************\n",
      "\n"
     ]
    }
   ],
   "source": [
    "print(s.outputs.fulltext)"
   ]
  },
  {
   "cell_type": "markdown",
   "metadata": {},
   "source": [
    "O guardarlos a un archivo como"
   ]
  },
  {
   "cell_type": "code",
   "execution_count": 7,
   "metadata": {
    "collapsed": true
   },
   "outputs": [],
   "source": [
    "s.outputs.write_output_file(\"resultado.txt\")"
   ]
  }
 ],
 "metadata": {
  "kernelspec": {
   "display_name": "Python 3",
   "language": "python",
   "name": "python3"
  },
  "language_info": {
   "codemirror_mode": {
    "name": "ipython",
    "version": 3
   },
   "file_extension": ".py",
   "mimetype": "text/x-python",
   "name": "python",
   "nbconvert_exporter": "python",
   "pygments_lexer": "ipython3",
   "version": "3.5.1"
  }
 },
 "nbformat": 4,
 "nbformat_minor": 0
}
