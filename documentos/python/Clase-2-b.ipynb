{
 "cells": [
  {
   "cell_type": "markdown",
   "metadata": {},
   "source": [
    "Clase 2(b) - Corrección Radiométrica de Imágenes Satelitales\n",
    "===========================================\n",
    "\n",
    "### SoPI II: Herramientas de teledetección cuantitativa"
   ]
  },
  {
   "cell_type": "markdown",
   "metadata": {},
   "source": [
    "En esta clase nos centraremos en la corrección radiométrica de firmas espectrales \n",
    "\n",
    "Se utilizara este notebook de python para ayudar en el procesamiento y la visualización de las mismas.\n",
    "\n",
    "Los notebooks se dividen de la siguiente manera\n",
    "\n",
    "- (a) Ajustar el valor mínimo del histograma a una curva $L_0\\times\\lambda^{-\\gamma}$\n",
    "- **(b)** Calcular los parámetros de corrección con Py6S\n",
    "- (c) Graficar las firmas espectrales con varias correcciones\n"
   ]
  },
  {
   "cell_type": "markdown",
   "metadata": {},
   "source": [
    "### Carga de librerias\n",
    "\n",
    "Recuerde que debe ejecutar **siempre** primero la celda que carga las librerias para ejecutar los procesos.\n",
    "\n",
    "Durante esta clase utilizaremos las librerias\n",
    "\n",
    "- [Py6S](http://www.py6s.rtwilson.com/) para utilizar 6S desde python.\n",
    "\n",
    "Para graficar firmas espectrales con `matplotlib` debemos darle dos arrays con valores. El primero de ellos son las posiciones de `x` para el grafico y el segundo son las posiciones de `y`."
   ]
  },
  {
   "cell_type": "code",
   "execution_count": 1,
   "metadata": {
    "collapsed": true
   },
   "outputs": [],
   "source": [
    "# Cargamos las librerias\n",
    "import Py6S"
   ]
  },
  {
   "cell_type": "markdown",
   "metadata": {},
   "source": [
    "### Calculo de correcciones con 6S\n",
    "\n",
    "Para utilizar el [6S](http://6s.ltdri.org/) desde una interfaz mas comoda, utilizaremos el `Py6S` que nos permitira realizar varias simulaciones sin la necesidaad de correr directamente dicho software.\n",
    "\n",
    "comenzamos creando el objeto `6S`"
   ]
  },
  {
   "cell_type": "code",
   "execution_count": 2,
   "metadata": {
    "collapsed": true
   },
   "outputs": [],
   "source": [
    "s = Py6S.SixS()"
   ]
  },
  {
   "cell_type": "markdown",
   "metadata": {},
   "source": [
    "Luego debemos configurarlo con las opciones atmosfericas de interes. Es decir, definir la atmosfera.\n",
    "\n",
    "En este caso fijaremos:\n",
    "\n",
    "- La cantidad de agua y ozono\n",
    "- El tipo de modelo de aerosoles\n",
    "- La fecha y la hora\n",
    "- La visibilidad"
   ]
  },
  {
   "cell_type": "code",
   "execution_count": 3,
   "metadata": {
    "collapsed": false
   },
   "outputs": [],
   "source": [
    "# Cantidad de vapor de agua y Ozono\n",
    "s.atmos_profile = Py6S.AtmosProfile.UserWaterAndOzone(3.6, 0.9)\n",
    "# Geometria incluyendo fecha y parametros de inclinacion\n",
    "s.altitudes.set_sensor_satellite_level()\n",
    "s.geometry.month = 12\n",
    "s.geometry.day = 1\n",
    "s.geometry.solar_a = 62.64\n",
    "s.geometry.solar_z = 90.0 - 57.3\n",
    "# Modelo de aerosoles\n",
    "s.aero_profile = Py6S.AeroProfile.PredefinedType(Py6S.AeroProfile.Continental)\n",
    "# Visibilidad\n",
    "s.visibility = 0\n",
    "s.aot550 = 0.5"
   ]
  },
  {
   "cell_type": "markdown",
   "metadata": {},
   "source": [
    "Por ultimo, antes de correr el modelo debemos elegir para que longitud de onda o rango de longitudes de onda hacerlo."
   ]
  },
  {
   "cell_type": "code",
   "execution_count": 4,
   "metadata": {
    "collapsed": false
   },
   "outputs": [],
   "source": [
    "# Elegimos la longitud de onda para trabajar\n",
    "s.wavelength = Py6S.Wavelength(Py6S.PredefinedWavelengths.LANDSAT_OLI_B2)"
   ]
  },
  {
   "cell_type": "markdown",
   "metadata": {},
   "source": [
    "Finalmente el comando `s.run()` corre el modelo de simulacion."
   ]
  },
  {
   "cell_type": "code",
   "execution_count": 5,
   "metadata": {
    "collapsed": false
   },
   "outputs": [],
   "source": [
    "s.run()"
   ]
  },
  {
   "cell_type": "markdown",
   "metadata": {},
   "source": [
    "Podemos mostrar el resultado completo a partir de ejecutar "
   ]
  },
  {
   "cell_type": "code",
   "execution_count": 6,
   "metadata": {
    "collapsed": false
   },
   "outputs": [
    {
     "name": "stdout",
     "output_type": "stream",
     "text": [
      "\n",
      "\n",
      "\n",
      "\n",
      "\n",
      "******************************* 6SV version 1.1 *******************************\n",
      "*                                                                             *\n",
      "*                       geometrical conditions identity                       *\n",
      "*                       -------------------------------                       *\n",
      "*                       user defined conditions                               *\n",
      "*                                                                             *\n",
      "*   month: 12 day :   1                                                       *\n",
      "*   solar zenith angle:   32.70 deg  solar azimuthal angle:       62.64 deg   *\n",
      "*   view zenith angle:    23.00 deg  view azimuthal angle:       190.00 deg   *\n",
      "*   scattering angle:    130.28 deg  azimuthal angle difference: 127.36 deg   *\n",
      "*                                                                             *\n",
      "*                       atmospheric model description                         *\n",
      "*                       -----------------------------                         *\n",
      "*           atmospheric model identity :                                      *\n",
      "*             user defined water content : uh2o= 3.600 g/cm2                  *\n",
      "*             user defined ozone content : uo3 = 0.900 cm-atm                 *\n",
      "*           aerosols type identity :                                          *\n",
      "*               Continental aerosol model                                     *\n",
      "*           optical condition identity :                                      *\n",
      "*               visibility :  8.49 km  opt. thick. 550 nm :  0.5000           *\n",
      "*                                                                             *\n",
      "*                       spectral condition                                    *\n",
      "*                       ------------------                                    *\n",
      "*           user s                                                            *\n",
      "*               value of filter function :                                    *\n",
      "*                wl inf= 0.436 mic   wl sup= 0.526 mic                        *\n",
      "*                                                                             *\n",
      "*                       Surface polarization parameters                       *\n",
      "*                       ----------------------------------                    *\n",
      "*                                                                             *\n",
      "*                                                                             *\n",
      "* Surface Polarization Q,U,Rop,Chi    0.00000  0.00000  0.00000     0.00      *\n",
      "*                                                                             *\n",
      "*                                                                             *\n",
      "*                       target type                                           *\n",
      "*                       -----------                                           *\n",
      "*           homogeneous ground                                                *\n",
      "*             constant reflectance over the spectra  0.300                    *\n",
      "*                                                                             *\n",
      "*                       target elevation description                          *\n",
      "*                       ----------------------------                          *\n",
      "*           ground pressure  [mb] 1013.00                                     *\n",
      "*           ground altitude  [km] 0.000                                       *\n",
      "*                                                                             *\n",
      "*******************************************************************************\n",
      "\n",
      "\n",
      "\n",
      "*******************************************************************************\n",
      "*                                                                             *\n",
      "*                         integrated values of  :                             *\n",
      "*                         --------------------                                *\n",
      "*                                                                             *\n",
      "*       apparent reflectance  0.2830528  appar. rad.(w/m2/sr/mic)  154.031    *\n",
      "*                   total gaseous transmittance  0.965                        *\n",
      "*                                                                             *\n",
      "*******************************************************************************\n",
      "*                                                                             *\n",
      "*                         coupling aerosol -wv  :                             *\n",
      "*                         --------------------                                *\n",
      "*           wv above aerosol :   0.283     wv mixed with aerosol :   0.283    *\n",
      "*                       wv under aerosol :   0.283                            *\n",
      "*******************************************************************************\n",
      "*                                                                             *\n",
      "*                         integrated values of  :                             *\n",
      "*                         --------------------                                *\n",
      "*                                                                             *\n",
      "*       app. polarized refl.  0.0211    app. pol. rad. (w/m2/sr/mic)    0.648 *\n",
      "*             direction of the plane of polarization 55.65                    *\n",
      "*                   total polarization ratio     0.074                        *\n",
      "*                                                                             *\n",
      "*******************************************************************************\n",
      "*                                                                             *\n",
      "*                         int. normalized  values  of  :                      *\n",
      "*                         ---------------------------                         *\n",
      "*                      % of irradiance at ground level                        *\n",
      "*     % of direct  irr.    % of diffuse irr.    % of enviro. irr              *\n",
      "*               0.505               0.435               0.059                 *\n",
      "*                       reflectance at satellite level                        *\n",
      "*     atm. intrin. ref.   background  ref.  pixel  reflectance                *\n",
      "*               0.095               0.082               0.106                 *\n",
      "*                                                                             *\n",
      "*                         int. absolute values of                             *\n",
      "*                         -----------------------                             *\n",
      "*                      irr. at ground level (w/m2/mic)                        *\n",
      "*     direct solar irr.    atm. diffuse irr.    environment  irr              *\n",
      "*             695.503             599.144              81.803                 *\n",
      "*                      rad at satel. level (w/m2/sr/mic)                      *\n",
      "*     atm. intrin. rad.    background  rad.    pixel  radiance                *\n",
      "*              51.654              44.606              57.771                 *\n",
      "*                                                                             *\n",
      "*                                                                             *\n",
      "*          int. funct filter (in mic)              int. sol. spect (in w/m2)  *\n",
      "*             0.0563513                                 114.482               *\n",
      "*                                                                             *\n",
      "*******************************************************************************\n",
      " \n",
      "\n",
      "\n",
      "\n",
      "\n",
      "*******************************************************************************\n",
      "*                                                                             *\n",
      "*                          integrated values of  :                            *\n",
      "*                          --------------------                               *\n",
      "*                                                                             *\n",
      "*                             downward        upward          total           *\n",
      "*      global gas. trans. :     0.98173        0.98328        0.96545         *\n",
      "*      water   \"     \"    :     1.00000        1.00000        1.00000         *\n",
      "*      ozone   \"     \"    :     0.98173        0.98328        0.96545         *\n",
      "*      co2     \"     \"    :     1.00000        1.00000        1.00000         *\n",
      "*      oxyg    \"     \"    :     1.00000        1.00000        1.00000         *\n",
      "*      no2     \"     \"    :     1.00000        1.00000        1.00000         *\n",
      "*      ch4     \"     \"    :     1.00000        1.00000        1.00000         *\n",
      "*      co      \"     \"    :     1.00000        1.00000        1.00000         *\n",
      "*                                                                             *\n",
      "*                                                                             *\n",
      "*      rayl.  sca. trans. :     0.90771        0.91492        0.83048         *\n",
      "*      aeros. sca.   \"    :     0.85305        0.87032        0.74243         *\n",
      "*      total  sca.   \"    :     0.77155        0.79223        0.61124         *\n",
      "*                                                                             *\n",
      "*                                                                             *\n",
      "*                                                                             *\n",
      "*                             rayleigh       aerosols         total           *\n",
      "*                                                                             *\n",
      "*      spherical albedo   :     0.13138        0.12479        0.19815         *\n",
      "*      optical depth total:     0.17070        0.57134        0.74204         *\n",
      "*      optical depth plane:     0.17070        0.57134        0.74204         *\n",
      "*      reflectance I      :     0.06079        0.03769        0.09810         *\n",
      "*      reflectance Q      :    -0.00827       -0.00018       -0.00793         *\n",
      "*      reflectance U      :     0.02073        0.00000        0.02034         *\n",
      "*      polarized reflect. :     0.02232        0.00018        0.02183         *\n",
      "*      degree of polar.   :       36.72           0.47          22.25         *\n",
      "*      dir. plane polar.  :       55.88          90.00          55.65         *\n",
      "*      phase function I   :     1.06087        0.16029        0.36746         *\n",
      "*      phase function Q   :    -0.41849        0.00621       -0.09149         *\n",
      "*      phase function U   :    -0.92976       -0.00286       -0.21609         *\n",
      "*      primary deg. of pol:    -0.39448        0.03877       -0.24897         *\n",
      "*      sing. scat. albedo :     1.00000        0.89936        0.92251         *\n",
      "*                                                                             *\n",
      "*                                                                             *\n",
      "*******************************************************************************\n",
      "\n"
     ]
    }
   ],
   "source": [
    "print(s.outputs.fulltext)"
   ]
  },
  {
   "cell_type": "markdown",
   "metadata": {},
   "source": [
    "O guardarlos a un archivo como"
   ]
  },
  {
   "cell_type": "code",
   "execution_count": 7,
   "metadata": {
    "collapsed": false
   },
   "outputs": [],
   "source": [
    "s.outputs.write_output_file(\"resultado.txt\")"
   ]
  }
 ],
 "metadata": {
  "anaconda-cloud": {},
  "kernelspec": {
   "display_name": "Python [Root]",
   "language": "python",
   "name": "Python [Root]"
  },
  "language_info": {
   "codemirror_mode": {
    "name": "ipython",
    "version": 3
   },
   "file_extension": ".py",
   "mimetype": "text/x-python",
   "name": "python",
   "nbconvert_exporter": "python",
   "pygments_lexer": "ipython3",
   "version": "3.5.2"
  }
 },
 "nbformat": 4,
 "nbformat_minor": 0
}
