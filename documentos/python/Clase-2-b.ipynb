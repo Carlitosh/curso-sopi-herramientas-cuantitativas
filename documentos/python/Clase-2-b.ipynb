{
 "cells": [
  {
   "cell_type": "markdown",
   "metadata": {},
   "source": [
    "Clase 2(b) - Corrección Radiométrica de Imágenes Satelitales\n",
    "===========================================\n",
    "\n",
    "### SoPI II: Herramientas de teledetección cuantitativa"
   ]
  },
  {
   "cell_type": "markdown",
   "metadata": {},
   "source": [
    "En esta clase nos centraremos en la corrección radiométrica de firmas espectrales \n",
    "\n",
    "Se utilizara este notebook de python para ayudar en el procesamiento y la visualización de las mismas.\n",
    "\n",
    "Los notebooks se dividen de la siguiente manera\n",
    "\n",
    "- (a) Ajustar el valor mínimo del histograma a una curva $L_0\\times\\lambda^{-\\gamma}$\n",
    "- **(b)** Calcular los parámetros de corrección con Py6S\n",
    "- (c) Graficar las firmas espectrales con varias correcciones\n"
   ]
  },
  {
   "cell_type": "markdown",
   "metadata": {},
   "source": [
    "### Carga de librerias\n",
    "\n",
    "Recuerde que debe ejecutar **siempre** primero la celda que carga las librerias para ejecutar los procesos.\n",
    "\n",
    "Durante esta clase utilizaremos las librerias\n",
    "\n",
    "- [Py6S](http://www.py6s.rtwilson.com/) para utilizar 6S desde python.\n",
    "\n",
    "Para graficar firmas espectrales con `matplotlib` debemos darle dos arrays con valores. El primero de ellos son las posiciones de `x` para el grafico y el segundo son las posiciones de `y`."
   ]
  },
  {
   "cell_type": "code",
   "execution_count": 2,
   "metadata": {
    "collapsed": false
   },
   "outputs": [
    {
     "ename": "ImportError",
     "evalue": "No module named 'Py6S'",
     "output_type": "error",
     "traceback": [
      "\u001b[0;31m---------------------------------------------------------------------------\u001b[0m",
      "\u001b[0;31mImportError\u001b[0m                               Traceback (most recent call last)",
      "\u001b[0;32m<ipython-input-2-f0e5aac823f8>\u001b[0m in \u001b[0;36m<module>\u001b[0;34m()\u001b[0m\n\u001b[1;32m      1\u001b[0m \u001b[0;31m# Cargamos las librerias\u001b[0m\u001b[0;34m\u001b[0m\u001b[0;34m\u001b[0m\u001b[0m\n\u001b[0;32m----> 2\u001b[0;31m \u001b[0;32mimport\u001b[0m \u001b[0mPy6S\u001b[0m\u001b[0;34m\u001b[0m\u001b[0m\n\u001b[0m",
      "\u001b[0;31mImportError\u001b[0m: No module named 'Py6S'"
     ]
    }
   ],
   "source": [
    "# Cargamos las librerias\n",
    "import Py6S"
   ]
  },
  {
   "cell_type": "markdown",
   "metadata": {},
   "source": [
    "### Calculo de correcciones con 6S\n",
    "\n",
    "Para utilizar el [6S](http://6s.ltdri.org/) desde una interfaz mas comoda, utilizaremos el `Py6S` que nos permitira realizar varias simulaciones sin la necesidaad de correr directamente dicho software.\n",
    "\n",
    "comenzamos creando el objeto `6S`"
   ]
  },
  {
   "cell_type": "code",
   "execution_count": null,
   "metadata": {
    "collapsed": true
   },
   "outputs": [],
   "source": [
    "s = Py6S.SixS()"
   ]
  },
  {
   "cell_type": "markdown",
   "metadata": {},
   "source": [
    "Luego debemos configurarlo con las opciones atmosfericas de interes. Es decir, definir la atmosfera.\n",
    "\n",
    "En este caso fijaremos:\n",
    "\n",
    "- La cantidad de agua y ozono\n",
    "- El tipo de modelo de aerosoles\n",
    "- La fecha y la hora\n",
    "- La visibilidad"
   ]
  },
  {
   "cell_type": "code",
   "execution_count": null,
   "metadata": {
    "collapsed": false
   },
   "outputs": [],
   "source": [
    "# Cantidad de vapor de agua y Ozono\n",
    "s.atmos_profile = Py6S.AtmosProfile.MidlatitudeWinter\n",
    "# Geometria incluyendo fecha y parametros de inclinacion\n",
    "s.altitudes.set_sensor_satellite_level()\n",
    "s.altitudes.set_target_sea_level()\n",
    "s.geometry = Py6S.Geometry.User()\n",
    "s.geometry.month = 8\n",
    "s.geometry.day = 19\n",
    "s.geometry.solar_a = 42.17\n",
    "s.geometry.solar_z = 90.0 - 40.94\n",
    "# Modelo de aerosoles\n",
    "s.aero_profile = Py6S.AeroProfile.PredefinedType(Py6S.AeroProfile.Continental)\n",
    "# Visibilidad\n",
    "s.visibility = 20"
   ]
  },
  {
   "cell_type": "markdown",
   "metadata": {},
   "source": [
    "Por ultimo, antes de correr el modelo debemos elegir para que longitud de onda o rango de longitudes de onda hacerlo."
   ]
  },
  {
   "cell_type": "code",
   "execution_count": null,
   "metadata": {
    "collapsed": false
   },
   "outputs": [],
   "source": [
    "# Elegimos la longitud de onda para trabajar\n",
    "s.wavelength = Py6S.Wavelength(Py6S.PredefinedWavelengths.LANDSAT_OLI_B4)"
   ]
  },
  {
   "cell_type": "markdown",
   "metadata": {},
   "source": [
    "Finalmente el comando `s.run()` corre el modelo de simulacion."
   ]
  },
  {
   "cell_type": "code",
   "execution_count": null,
   "metadata": {
    "collapsed": false
   },
   "outputs": [],
   "source": [
    "s.run()"
   ]
  },
  {
   "cell_type": "markdown",
   "metadata": {},
   "source": [
    "Podemos mostrar el resultado completo a partir de ejecutar "
   ]
  },
  {
   "cell_type": "code",
   "execution_count": null,
   "metadata": {
    "collapsed": false
   },
   "outputs": [],
   "source": [
    "print(s.outputs.fulltext)"
   ]
  },
  {
   "cell_type": "markdown",
   "metadata": {},
   "source": [
    "O guardarlos a un archivo como"
   ]
  },
  {
   "cell_type": "code",
   "execution_count": null,
   "metadata": {
    "collapsed": false
   },
   "outputs": [],
   "source": [
    "s.outputs.write_output_file(\"resultado.txt\")"
   ]
  }
 ],
 "metadata": {
  "anaconda-cloud": {},
  "kernelspec": {
   "display_name": "Python [conda root]",
   "language": "python",
   "name": "conda-root-py"
  },
  "language_info": {
   "codemirror_mode": {
    "name": "ipython",
    "version": 3
   },
   "file_extension": ".py",
   "mimetype": "text/x-python",
   "name": "python",
   "nbconvert_exporter": "python",
   "pygments_lexer": "ipython3",
   "version": "3.5.2"
  }
 },
 "nbformat": 4,
 "nbformat_minor": 0
}
