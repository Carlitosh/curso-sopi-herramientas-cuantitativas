{
 "cells": [
  {
   "cell_type": "markdown",
   "metadata": {},
   "source": [
    "Clase 2(b) - Corrección Radiométrica de Imágenes Satelitales\n",
    "===========================================\n",
    "\n",
    "### SoPI II: Herramientas de teledetección cuantitativa"
   ]
  },
  {
   "cell_type": "markdown",
   "metadata": {},
   "source": [
    "En esta clase nos centraremos en la corrección radiométrica de firmas espectrales \n",
    "\n",
    "Se utilizara este notebook de python para ayudar en el procesamiento y la visualización de las mismas.\n",
    "\n",
    "Los notebooks se dividen de la siguiente manera\n",
    "\n",
    "- (a) Ajustar el valor mínimo del histograma a una curva $L_0\\times\\lambda^{-\\gamma}$\n",
    "- **(b)** Calcular los parámetros de corrección con Py6S\n",
    "- (c) Graficar las firmas espectrales con varias correcciones\n"
   ]
  },
  {
   "cell_type": "markdown",
   "metadata": {},
   "source": [
    "### Carga de librerias\n",
    "\n",
    "Recuerde que debe ejecutar **siempre** primero la celda que carga las librerias para ejecutar los procesos.\n",
    "\n",
    "Durante esta clase utilizaremos las librerias\n",
    "\n",
    "- [Py6S](http://www.py6s.rtwilson.com/) para utilizar 6S desde python.\n",
    "\n",
    "Para graficar firmas espectrales con `matplotlib` debemos darle dos arrays con valores. El primero de ellos son las posiciones de `x` para el grafico y el segundo son las posiciones de `y`."
   ]
  },
  {
   "cell_type": "code",
   "execution_count": 6,
   "metadata": {
    "collapsed": true
   },
   "outputs": [],
   "source": [
    "# Cargamos las librerias\n",
    "import Py6S"
   ]
  },
  {
   "cell_type": "markdown",
   "metadata": {},
   "source": [
    "### Calculo de correcciones con 6S\n",
    "\n",
    "Para utilizar el [6S](http://6s.ltdri.org/) desde una interfaz mas comoda, utilizaremos el `Py6S` que nos permitira realizar varias simulaciones sin la necesidaad de correr directamente dicho software.\n",
    "\n",
    "comenzamos creando el objeto `6S`"
   ]
  },
  {
   "cell_type": "code",
   "execution_count": 7,
   "metadata": {
    "collapsed": true
   },
   "outputs": [],
   "source": [
    "s = Py6S.SixS()"
   ]
  },
  {
   "cell_type": "markdown",
   "metadata": {},
   "source": [
    "Luego debemos configurarlo con las opciones atmosfericas de interes. Es decir, definir la atmosfera.\n",
    "\n",
    "En este caso fijaremos:\n",
    "\n",
    "- La cantidad de agua y ozono\n",
    "- El tipo de modelo de aerosoles\n",
    "- La fecha y la hora\n",
    "- La visibilidad"
   ]
  },
  {
   "cell_type": "code",
   "execution_count": 9,
   "metadata": {
    "collapsed": false
   },
   "outputs": [],
   "source": [
    "# Cantidad de vapor de agua y Ozono\n",
    "s.atmos_profile = Py6S.AtmosProfile.MidlatitudeWinter\n",
    "# Geometria incluyendo fecha y parametros de inclinacion\n",
    "s.altitudes.set_sensor_satellite_level()\n",
    "s.altitudes.set_target_sea_level()\n",
    "s.geometry = Py6S.Geometry.User()\n",
    "s.geometry.month = 8\n",
    "s.geometry.day = 19\n",
    "s.geometry.solar_a = 42.17\n",
    "s.geometry.solar_z = 90.0 - 40.94\n",
    "# Modelo de aerosoles\n",
    "s.aero_profile = Py6S.AeroProfile.PredefinedType(Py6S.AeroProfile.Continental)\n",
    "# Visibilidad\n",
    "s.visibility = 20"
   ]
  },
  {
   "cell_type": "markdown",
   "metadata": {},
   "source": [
    "Por ultimo, antes de correr el modelo debemos elegir para que longitud de onda o rango de longitudes de onda hacerlo."
   ]
  },
  {
   "cell_type": "code",
   "execution_count": 37,
   "metadata": {
    "collapsed": false
   },
   "outputs": [],
   "source": [
    "# Elegimos la longitud de onda para trabajar\n",
    "s.wavelength = Py6S.Wavelength(Py6S.PredefinedWavelengths.LANDSAT_OLI_B6)"
   ]
  },
  {
   "cell_type": "markdown",
   "metadata": {},
   "source": [
    "Finalmente el comando `s.run()` corre el modelo de simulacion."
   ]
  },
  {
   "cell_type": "code",
   "execution_count": 38,
   "metadata": {
    "collapsed": false
   },
   "outputs": [],
   "source": [
    "s.run()"
   ]
  },
  {
   "cell_type": "markdown",
   "metadata": {},
   "source": [
    "Podemos mostrar el resultado completo a partir de ejecutar "
   ]
  },
  {
   "cell_type": "code",
   "execution_count": 39,
   "metadata": {
    "collapsed": false
   },
   "outputs": [
    {
     "name": "stdout",
     "output_type": "stream",
     "text": [
      "\n",
      "\n",
      "\n",
      "\n",
      "\n",
      "******************************* 6SV version 1.1 *******************************\n",
      "*                                                                             *\n",
      "*                       geometrical conditions identity                       *\n",
      "*                       -------------------------------                       *\n",
      "*                       user defined conditions                               *\n",
      "*                                                                             *\n",
      "*   month:  8 day :  19                                                       *\n",
      "*   solar zenith angle:   49.06 deg  solar azimuthal angle:       42.17 deg   *\n",
      "*   view zenith angle:     0.00 deg  view azimuthal angle:         0.00 deg   *\n",
      "*   scattering angle:    130.94 deg  azimuthal angle difference:  42.17 deg   *\n",
      "*                                                                             *\n",
      "*                       atmospheric model description                         *\n",
      "*                       -----------------------------                         *\n",
      "*           atmospheric model identity :                                      *\n",
      "*               midlatitude winter  (uh2o=.853g/cm2,uo3=.395cm-atm)           *\n",
      "*           aerosols type identity :                                          *\n",
      "*               Continental aerosol model                                     *\n",
      "*           optical condition identity :                                      *\n",
      "*               visibility :  8.49 km  opt. thick. 550 nm :  0.5000           *\n",
      "*                                                                             *\n",
      "*                       spectral condition                                    *\n",
      "*                       ------------------                                    *\n",
      "*           user s                                                            *\n",
      "*               value of filter function :                                    *\n",
      "*                wl inf= 1.515 mic   wl sup= 1.695 mic                        *\n",
      "*                                                                             *\n",
      "*                       Surface polarization parameters                       *\n",
      "*                       ----------------------------------                    *\n",
      "*                                                                             *\n",
      "*                                                                             *\n",
      "* Surface Polarization Q,U,Rop,Chi    0.00000  0.00000  0.00000     0.00      *\n",
      "*                                                                             *\n",
      "*                                                                             *\n",
      "*                       target type                                           *\n",
      "*                       -----------                                           *\n",
      "*           homogeneous ground                                                *\n",
      "*             constant reflectance over the spectra  0.300                    *\n",
      "*                                                                             *\n",
      "*                       target elevation description                          *\n",
      "*                       ----------------------------                          *\n",
      "*           ground pressure  [mb] 1018.00                                     *\n",
      "*           ground altitude  [km] 0.000                                       *\n",
      "*                                                                             *\n",
      "*******************************************************************************\n",
      "\n",
      "\n",
      "\n",
      "*******************************************************************************\n",
      "*                                                                             *\n",
      "*                         integrated values of  :                             *\n",
      "*                         --------------------                                *\n",
      "*                                                                             *\n",
      "*       apparent reflectance  0.2675020  appar. rad.(w/m2/sr/mic)   13.408    *\n",
      "*                   total gaseous transmittance  0.960                        *\n",
      "*                                                                             *\n",
      "*******************************************************************************\n",
      "*                                                                             *\n",
      "*                         coupling aerosol -wv  :                             *\n",
      "*                         --------------------                                *\n",
      "*           wv above aerosol :   0.268     wv mixed with aerosol :   0.268    *\n",
      "*                       wv under aerosol :   0.268                            *\n",
      "*******************************************************************************\n",
      "*                                                                             *\n",
      "*                         integrated values of  :                             *\n",
      "*                         --------------------                                *\n",
      "*                                                                             *\n",
      "*       app. polarized refl.  0.0016    app. pol. rad. (w/m2/sr/mic)    0.007 *\n",
      "*             direction of the plane of polarization 47.83                    *\n",
      "*                   total polarization ratio     0.006                        *\n",
      "*                                                                             *\n",
      "*******************************************************************************\n",
      "*                                                                             *\n",
      "*                         int. normalized  values  of  :                      *\n",
      "*                         ---------------------------                         *\n",
      "*                      % of irradiance at ground level                        *\n",
      "*     % of direct  irr.    % of diffuse irr.    % of enviro. irr              *\n",
      "*               0.855               0.135               0.010                 *\n",
      "*                       reflectance at satellite level                        *\n",
      "*     atm. intrin. ref.   background  ref.  pixel  reflectance                *\n",
      "*               0.007               0.025               0.235                 *\n",
      "*                                                                             *\n",
      "*                         int. absolute values of                             *\n",
      "*                         -----------------------                             *\n",
      "*                      irr. at ground level (w/m2/mic)                        *\n",
      "*     direct solar irr.    atm. diffuse irr.    environment  irr              *\n",
      "*             123.336              19.542               1.432                 *\n",
      "*                      rad at satel. level (w/m2/sr/mic)                      *\n",
      "*     atm. intrin. rad.    background  rad.    pixel  radiance                *\n",
      "*               0.352               1.262              11.794                 *\n",
      "*                                                                             *\n",
      "*                                                                             *\n",
      "*          int. funct filter (in mic)              int. sol. spect (in w/m2)  *\n",
      "*             0.0834908                                  20.064               *\n",
      "*                                                                             *\n",
      "*******************************************************************************\n",
      " \n",
      "\n",
      "\n",
      "\n",
      "\n",
      "*******************************************************************************\n",
      "*                                                                             *\n",
      "*                          integrated values of  :                            *\n",
      "*                          --------------------                               *\n",
      "*                                                                             *\n",
      "*                             downward        upward          total           *\n",
      "*      global gas. trans. :     0.97297        0.98091        0.95988         *\n",
      "*      water   \"     \"    :     0.99925        0.99951        0.99877         *\n",
      "*      ozone   \"     \"    :     1.00000        1.00000        1.00000         *\n",
      "*      co2     \"     \"    :     0.97815        0.98441        0.96804         *\n",
      "*      oxyg    \"     \"    :     1.00000        1.00000        1.00000         *\n",
      "*      no2     \"     \"    :     1.00000        1.00000        1.00000         *\n",
      "*      ch4     \"     \"    :     0.99552        0.99697        0.99296         *\n",
      "*      co      \"     \"    :     1.00000        1.00000        1.00000         *\n",
      "*                                                                             *\n",
      "*                                                                             *\n",
      "*      rayl.  sca. trans. :     0.99900        0.99934        0.99835         *\n",
      "*      aeros. sca.   \"    :     0.93355        0.96105        0.89718         *\n",
      "*      total  sca.   \"    :     0.93255        0.96035        0.89557         *\n",
      "*                                                                             *\n",
      "*                                                                             *\n",
      "*                                                                             *\n",
      "*                             rayleigh       aerosols         total           *\n",
      "*                                                                             *\n",
      "*      spherical albedo   :     0.00129        0.03211        0.03309         *\n",
      "*      optical depth total:     0.00130        0.14084        0.14214         *\n",
      "*      optical depth plane:     0.00130        0.14084        0.14214         *\n",
      "*      reflectance I      :     0.00053        0.00673        0.00731         *\n",
      "*      reflectance Q      :    -0.00002       -0.00015       -0.00017         *\n",
      "*      reflectance U      :     0.00020        0.00148        0.00169         *\n",
      "*      polarized reflect. :     0.00021        0.00148        0.00170         *\n",
      "*      degree of polar.   :       38.71          22.03          23.26         *\n",
      "*      dir. plane polar.  :       47.83          47.83          47.83         *\n",
      "*      phase function I   :     1.06906        0.14801        0.15644         *\n",
      "*      phase function Q   :    -0.41030       -0.03409       -0.03754         *\n",
      "*      phase function U   :    -0.94233       -0.05828       -0.06637         *\n",
      "*      primary deg. of pol:    -0.38380       -0.23035       -0.23995         *\n",
      "*      sing. scat. albedo :     1.00000        0.79456        0.79644         *\n",
      "*                                                                             *\n",
      "*                                                                             *\n",
      "*******************************************************************************\n",
      "\n"
     ]
    }
   ],
   "source": [
    "print(s.outputs.fulltext)"
   ]
  },
  {
   "cell_type": "markdown",
   "metadata": {},
   "source": [
    "O guardarlos a un archivo como"
   ]
  },
  {
   "cell_type": "code",
   "execution_count": 7,
   "metadata": {
    "collapsed": false
   },
   "outputs": [],
   "source": [
    "s.outputs.write_output_file(\"resultado.txt\")"
   ]
  }
 ],
 "metadata": {
  "anaconda-cloud": {},
  "kernelspec": {
   "display_name": "Python 3",
   "language": "python",
   "name": "python3"
  },
  "language_info": {
   "codemirror_mode": {
    "name": "ipython",
    "version": 3
   },
   "file_extension": ".py",
   "mimetype": "text/x-python",
   "name": "python",
   "nbconvert_exporter": "python",
   "pygments_lexer": "ipython3",
   "version": "3.5.2"
  }
 },
 "nbformat": 4,
 "nbformat_minor": 0
}
