{
 "cells": [
  {
   "cell_type": "markdown",
   "metadata": {},
   "source": [
    "Clase 1(a) - Análisis de Firmas Espectrales\n",
    "===========================================\n",
    "\n",
    "### SoPI II: Herramientas de teledetección cuantitativa"
   ]
  },
  {
   "cell_type": "markdown",
   "metadata": {},
   "source": [
    "En esta clase nos centraremos en el análisis de firmas espectrales. \n",
    "\n",
    "Se utilizara este notebook de python para ayudar en el procesamiento y la visualización de las mismas.\n",
    "\n",
    "Los notebooks se dividen de la siguiente manera\n",
    "\n",
    "- **(a)** - Grafico de valores de reflectancia por banda\n",
    "- (b) - Grafico de firmas espectrales\n",
    "- (c) - Descomposición de firmas especrales"
   ]
  },
  {
   "cell_type": "markdown",
   "metadata": {},
   "source": [
    "### Carga de librerias\n",
    "\n",
    "Recuerde que debe ejecutar **siempre** primero la celda que carga las librerias para ejecutar los procesos.\n",
    "\n",
    "Durante esta clase utilizaremos las librerias\n",
    "\n",
    "- [matplotlib](http://matplotlib.org/) para generación de gráficos.\n",
    "- [numpy](http://www.numpy.org/) para el procesamiento numérico y matricial."
   ]
  },
  {
   "cell_type": "code",
<<<<<<< HEAD
   "execution_count": 1,
=======
   "execution_count": 4,
>>>>>>> 2bde85c0fd1dd782ecd49aa026100b63eb4257eb
   "metadata": {
    "collapsed": true
   },
   "outputs": [],
   "source": [
    "# Cargamos las librerais\n",
    "import numpy as np\n",
    "import matplotlib.pyplot as plt\n",
    "\n",
    "# Fijamos que muestre los graficos dentro de la linea\n",
    "%matplotlib inline"
   ]
  },
  {
   "cell_type": "markdown",
   "metadata": {},
   "source": [
    "### Grafico de firmas espectrales\n",
    "\n",
    "Para graficar firmas espectrales con `matplotlib` debemos darle dos arrays con valores. El primero de ellos son las posiciones de `x` para el grafico y el segundo son las posiciones de `y`."
   ]
  },
  {
   "cell_type": "code",
<<<<<<< HEAD
   "execution_count": 2,
=======
   "execution_count": 5,
>>>>>>> 2bde85c0fd1dd782ecd49aa026100b63eb4257eb
   "metadata": {
    "collapsed": true
   },
   "outputs": [],
   "source": [
    "# Valores de longitud de onda para landsat 8\n",
    "x = [482,561,655,864,1608,2200]\n",
    "# Valores de reflectancia\n",
    "y = [128,329,185,3568,1219,442]"
   ]
  },
  {
   "cell_type": "markdown",
   "metadata": {},
   "source": [
    "Una vez hecho esto podemos graficar los valores con el comando `plt.plot()`. \n",
    "\n",
    "Algunos parametros utiles son\n",
    "\n",
    "- `linestyle` : estilo de linea (`\"-\"`,`\"--\"`,`\"-.\"`,`\"none\"`)\n",
    "- `color` : color (`\"red\"`,`\"green\"`,`\"blue\"`,etc)\n",
    "- `marker` : estilo de punto (`\"o\"`,`\"x\"`,`\"None\"`)"
   ]
  },
  {
   "cell_type": "code",
<<<<<<< HEAD
   "execution_count": 3,
=======
   "execution_count": 6,
>>>>>>> 2bde85c0fd1dd782ecd49aa026100b63eb4257eb
   "metadata": {
    "collapsed": false
   },
   "outputs": [
    {
     "data": {
      "text/plain": [
<<<<<<< HEAD
       "[<matplotlib.lines.Line2D at 0x7f417c3ba898>]"
      ]
     },
     "execution_count": 3,
=======
       "[<matplotlib.lines.Line2D at 0x7fecc02c0a90>]"
      ]
     },
     "execution_count": 6,
>>>>>>> 2bde85c0fd1dd782ecd49aa026100b63eb4257eb
     "metadata": {},
     "output_type": "execute_result"
    },
    {
     "data": {
      "image/png": "iVBORw0KGgoAAAANSUhEUgAAAYcAAAEACAYAAABYq7oeAAAABHNCSVQICAgIfAhkiAAAAAlwSFlz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\n",
      "text/plain": [
<<<<<<< HEAD
       "<matplotlib.figure.Figure at 0x7f417e798ba8>"
=======
       "<matplotlib.figure.Figure at 0x7fecc7418eb8>"
>>>>>>> 2bde85c0fd1dd782ecd49aa026100b63eb4257eb
      ]
     },
     "metadata": {},
     "output_type": "display_data"
    }
   ],
   "source": [
    "plt.plot(x,y,linestyle = \"None\",color=\"red\", marker = \"o\")"
   ]
  },
  {
   "cell_type": "markdown",
   "metadata": {},
   "source": [
    "Pueden hacerse varios gráficos en simultaneo usando repetidas veces el comando `plt.plot()` y finalmente el comando `plt.show()` para mostrarlos."
   ]
  },
  {
   "cell_type": "code",
<<<<<<< HEAD
   "execution_count": 4,
=======
   "execution_count": 7,
>>>>>>> 2bde85c0fd1dd782ecd49aa026100b63eb4257eb
   "metadata": {
    "collapsed": false
   },
   "outputs": [
    {
     "data": {
      "image/png": "iVBORw0KGgoAAAANSUhEUgAAAYcAAAEACAYAAABYq7oeAAAABHNCSVQICAgIfAhkiAAAAAlwSFlz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\n",
      "text/plain": [
<<<<<<< HEAD
       "<matplotlib.figure.Figure at 0x7f417c372e10>"
=======
       "<matplotlib.figure.Figure at 0x7fecc02520f0>"
>>>>>>> 2bde85c0fd1dd782ecd49aa026100b63eb4257eb
      ]
     },
     "metadata": {},
     "output_type": "display_data"
    }
   ],
   "source": [
    "# Cargamos una nueva variable.\n",
    "z = [1500,2000,2500,3000,3500,3750]\n",
    "# Graficamos ambos graficos, uno como linea y el otro como punto\n",
    "plt.plot(x,y,linestyle = \"None\",color=\"red\", marker = \"o\")\n",
    "plt.plot(x,z,linestyle = \"-\",color=\"blue\", marker = \"None\")\n",
    "plt.show()"
   ]
  },
  {
   "cell_type": "markdown",
   "metadata": {},
   "source": [
    "Finalmente, pueden configurarse otros parametros del grafico como limmintes, leyenda, etiquetas, etc.\n",
    "\n",
    "- `plt.xlim(,)` Liminte en el eje X\n",
    "- `plt.ylim(,)` Liminte en el eje Y\n",
    "- `plt.legend(numpoints=1)` Leyenda\n",
    "- `plt.xlabel()` Nombre del eje X \n",
    "- `plt.ylabel()` Nombre del eje Y\n",
    "- `plt.title()` Titulo del grafico\n",
    "\n",
    "Utilizando todo junto obtenemos el grafico detallado abajo. Donde agregando varias variables `y`, `z`, etc y repitiendo la linea `plt.plot()` para cada una podemos poner varias curvas en el mismo grafico."
   ]
  },
  {
   "cell_type": "code",
<<<<<<< HEAD
   "execution_count": 5,
=======
   "execution_count": 8,
>>>>>>> 2bde85c0fd1dd782ecd49aa026100b63eb4257eb
   "metadata": {
    "collapsed": false
   },
   "outputs": [
    {
     "data": {
      "image/png": "iVBORw0KGgoAAAANSUhEUgAAAYkAAAEZCAYAAABiu9n+AAAABHNCSVQICAgIfAhkiAAAAAlwSFlz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\nOCakS+sQYQAAAABJRU5ErkJggg==\n",
      "text/plain": [
<<<<<<< HEAD
       "<matplotlib.figure.Figure at 0x7f417c13f4a8>"
=======
       "<matplotlib.figure.Figure at 0x7fecc02876a0>"
>>>>>>> 2bde85c0fd1dd782ecd49aa026100b63eb4257eb
      ]
     },
     "metadata": {},
     "output_type": "display_data"
    }
   ],
   "source": [
    "# Valores de longitud de onda para landsat 8\n",
    "x = [482,561,655,864,1608,2200]\n",
    "# Valores de reflectancia\n",
    "y = [128,329,185,3568,1219,442]\n",
    "z = [1500,2000,2500,3000,3500,3750]\n",
    "\n",
    "# Grafico\n",
    "plt.plot(x,y,linestyle = \"None\", marker='o', color=\"green\", label=\"Vegetacion\")\n",
    "plt.plot(x,z,linestyle = \"None\", marker='o', color=\"red\", label=\"Suelo\")\n",
    "\n",
    "# Configuraciones de ploteo. \n",
    "# Cambiar bajo su propio riesgo\n",
    "# Pongo el limite en x e y\n",
    "plt.xlim(450,2300)\n",
    "plt.ylim(0,5000)\n",
    "# Incluyo la leyenda\n",
    "plt.legend(numpoints=1)\n",
    "# Pongo nombres a los ejes\n",
    "plt.xlabel(\"Longitud de londa [nm]\")\n",
    "plt.ylabel(\"Relectancia [Arb.]\")\n",
    "# Pongo titulo\n",
    "plt.title(\"Firmas espectrales\")\n",
    "\n",
    "# Muestro el grafico\n",
    "plt.show()"
   ]
  }
 ],
 "metadata": {
  "anaconda-cloud": {},
  "kernelspec": {
   "display_name": "Python [Root]",
   "language": "python",
   "name": "Python [Root]"
  },
  "language_info": {
   "codemirror_mode": {
    "name": "ipython",
    "version": 3
   },
   "file_extension": ".py",
   "mimetype": "text/x-python",
   "name": "python",
   "nbconvert_exporter": "python",
   "pygments_lexer": "ipython3",
   "version": "3.5.2"
  }
 },
 "nbformat": 4,
 "nbformat_minor": 0
}
