{
 "cells": [
  {
   "cell_type": "markdown",
   "metadata": {},
   "source": [
    "Clase 1(a) - Análisis de Firmas Espectrales\n",
    "===========================================\n",
    "\n",
    "### SoPI II: Herramientas de teledetección cuantitativa"
   ]
  },
  {
   "cell_type": "markdown",
   "metadata": {},
   "source": [
    "En esta clase nos centraremos en el análisis de firmas espectrales. \n",
    "\n",
    "Se utilizara este notebook de python para ayudar en el procesamiento y la visualización de las mismas.\n",
    "\n",
    "Los notebooks se dividen de la siguiente manera\n",
    "\n",
    "- **(a)** - Grafico de valores de reflectancia por banda\n",
    "- (b) - Grafico de firmas espectrales\n",
    "- (c) - Calculo de $\\rho_i$ a partir de una firma espectral\n",
    "- (d) - Descomposición de firmas especrales"
   ]
  },
  {
   "cell_type": "markdown",
   "metadata": {},
   "source": [
    "### Carga de librerias\n",
    "\n",
    "Recuerde que debe ejecutar **siempre** primero la celda que carga las librerias para ejecutar los procesos.\n",
    "\n",
    "Durante esta clase utilizaremos las librerias\n",
    "\n",
    "- [matplotlib](http://matplotlib.org/) para generación de gráficos.\n",
    "- [numpy](http://www.numpy.org/) para el procesamiento numérico y matricial."
   ]
  },
  {
   "cell_type": "code",
   "execution_count": null,
   "metadata": {
    "collapsed": true
   },
   "outputs": [],
   "source": [
    "# Cargamos las librerais\n",
    "import numpy as np\n",
    "import matplotlib.pyplot as plt\n",
    "\n",
    "# Fijamos que muestre los graficos dentro de la linea\n",
    "%matplotlib inline"
   ]
  },
  {
   "cell_type": "markdown",
   "metadata": {},
   "source": [
    "### Grafico de firmas espectrales\n",
    "\n",
    "Para graficar firmas espectrales con `matplotlib` debemos darle dos arrays con valores. El primero de ellos son las posiciones de `x` para el grafico y el segundo son las posiciones de `y`."
   ]
  },
  {
   "cell_type": "code",
   "execution_count": null,
   "metadata": {
    "collapsed": true
   },
   "outputs": [],
   "source": [
    "# Valores de longitud de onda para landsat 8\n",
    "x = [482,561,655,864,1608,2200]\n",
    "# Valores de reflectancia\n",
    "y = [128,329,185,3568,1219,442]"
   ]
  },
  {
   "cell_type": "markdown",
   "metadata": {},
   "source": [
    "Una vez hecho esto podemos graficar los valores con el comando `plt.plot()`. \n",
    "\n",
    "Algunos parametros utiles son\n",
    "\n",
    "- `linestyle` : estilo de linea (`\"-\"`,`\"--\"`,`\"-.\"`,`\"none\"`)\n",
    "- `color` : color (`\"red\"`,`\"green\"`,`\"blue\"`,etc)\n",
    "- `marker` : estilo de punto (`\"o\"`,`\"x\"`,`\"None\"`)"
   ]
  },
  {
   "cell_type": "code",
   "execution_count": null,
   "metadata": {
    "collapsed": false
   },
   "outputs": [],
   "source": [
    "plt.plot(x,y,linestyle = \"None\",color=\"red\", marker = \"o\")"
   ]
  },
  {
   "cell_type": "markdown",
   "metadata": {},
   "source": [
    "Pueden hacerse varios gráficos en simultaneo usando repetidas veces el comando `plt.plot()` y finalmente el comando `plt.show()` para mostrarlos."
   ]
  },
  {
   "cell_type": "code",
   "execution_count": null,
   "metadata": {
    "collapsed": false
   },
   "outputs": [],
   "source": [
    "# Cargamos una nueva variable.\n",
    "z = [1500,2000,2500,3000,3500,3750]\n",
    "# Graficamos ambos graficos, uno como linea y el otro como punto\n",
    "plt.plot(x,y,linestyle = \"None\",color=\"red\", marker = \"o\")\n",
    "plt.plot(x,z,linestyle = \"-\",color=\"blue\", marker = \"None\")\n",
    "plt.show()"
   ]
  },
  {
   "cell_type": "markdown",
   "metadata": {},
   "source": [
    "Finalmente, pueden configurarse otros parametros del grafico como limmintes, leyenda, etiquetas, etc.\n",
    "\n",
    "- `plt.xlim(,)` Liminte en el eje X\n",
    "- `plt.ylim(,)` Liminte en el eje Y\n",
    "- `plt.legend(numpoints=1)` Leyenda\n",
    "- `plt.xlabel()` Nombre del eje X \n",
    "- `plt.ylabel()` Nombre del eje Y\n",
    "- `plt.title()` Titulo del grafico\n",
    "\n",
    "Utilizando todo junto obtenemos el grafico detallado abajo. Donde agregando varias variables `y`, `z`, etc y repitiendo la linea `plt.plot()` para cada una podemos poner varias curvas en el mismo grafico."
   ]
  },
  {
   "cell_type": "code",
   "execution_count": null,
   "metadata": {
    "collapsed": false
   },
   "outputs": [],
   "source": [
    "# Valores de longitud de onda para landsat 8\n",
    "x = [482,561,655,864,1608,2200]\n",
    "# Valores de reflectancia\n",
    "y = [128,329,185,3568,1219,442]\n",
    "z = [1500,2000,2500,3000,3500,3750]\n",
    "\n",
    "# Grafico\n",
    "plt.plot(x,y,linestyle = \"None\", marker='o', color=\"green\", label=\"Vegetacion\")\n",
    "plt.plot(x,z,linestyle = \"None\", marker='o', color=\"red\", label=\"Suelo\")\n",
    "\n",
    "# Configuraciones de ploteo. \n",
    "# Cambiar bajo su propio riesgo\n",
    "# Pongo el limite en x e y\n",
    "plt.xlim(450,2300)\n",
    "plt.ylim(0,5000)\n",
    "# Incluyo la leyenda\n",
    "plt.legend(numpoints=1)\n",
    "# Pongo nombres a los ejes\n",
    "plt.xlabel(\"Longitud de londa [nm]\")\n",
    "plt.ylabel(\"Relectancia [Arb.]\")\n",
    "# Pongo titulo\n",
    "plt.title(\"Firmas espectrales\")\n",
    "\n",
    "# Muestro el grafico\n",
    "plt.show()"
   ]
  }
 ],
 "metadata": {
  "kernelspec": {
   "display_name": "Python 3",
   "language": "python",
   "name": "python3"
  },
  "language_info": {
   "codemirror_mode": {
    "name": "ipython",
    "version": 3
   },
   "file_extension": ".py",
   "mimetype": "text/x-python",
   "name": "python",
   "nbconvert_exporter": "python",
   "pygments_lexer": "ipython3",
   "version": "3.5.1"
  }
 },
 "nbformat": 4,
 "nbformat_minor": 0
}
