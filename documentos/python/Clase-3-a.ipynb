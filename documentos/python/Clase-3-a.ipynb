{
 "cells": [
  {
   "cell_type": "markdown",
   "metadata": {},
   "source": [
    "Clase 3(a) - Calculo de índices espectrales\n",
    "===========================================\n",
    "\n",
    "### SoPI II: Herramientas de teledetección cuantitativa"
   ]
  },
  {
   "cell_type": "markdown",
   "metadata": {},
   "source": [
    "En esta clase nos centraremos en el calculo de índices espectrales y la obtención de variables biofísicas a partir de los mismos.\n",
    "\n",
    "Se utilizara este notebook de python para ayudar en el procesamiento.\n",
    "\n",
    "Los notebooks se dividen de la siguiente manera\n",
    "\n",
    "- **(a)** - Estimación de la linea de suelo para una imagen.\n",
    "- (b) - Estimación de variables biofísicas.\n",
    "- (c) - Grafica de la variación temporal de un índice."
   ]
  },
  {
   "cell_type": "markdown",
   "metadata": {},
   "source": [
    "### Carga de librerias\n",
    "\n",
    "Recuerde que debe ejecutar **siempre** primero la celda que carga las librerias para ejecutar los procesos.\n",
    "\n",
    "Durante esta clase utilizaremos las librerias\n",
    "\n",
    "- [matplotlib](http://matplotlib.org/) para generación de gráficos.\n",
    "- [numpy](http://www.numpy.org/) para el procesamiento numérico y matricial.\n",
    "- [scipy](http://www.scipy.org) para realizar los ajustees lineales.\n",
    "- [gdal](http://www.gdal.org) para la apertura de imágenes."
   ]
  },
  {
   "cell_type": "code",
   "execution_count": 1,
   "metadata": {
    "collapsed": false
   },
   "outputs": [
    {
     "ename": "ImportError",
     "evalue": "No module named 'gdal'",
     "output_type": "error",
     "traceback": [
      "\u001b[1;31m---------------------------------------------------------------------------\u001b[0m",
      "\u001b[1;31mImportError\u001b[0m                               Traceback (most recent call last)",
      "\u001b[1;32m<ipython-input-1-e580c2f81788>\u001b[0m in \u001b[0;36m<module>\u001b[1;34m()\u001b[0m\n\u001b[0;32m      3\u001b[0m \u001b[1;32mimport\u001b[0m \u001b[0mmatplotlib\u001b[0m\u001b[1;33m.\u001b[0m\u001b[0mpyplot\u001b[0m \u001b[1;32mas\u001b[0m \u001b[0mplt\u001b[0m\u001b[1;33m\u001b[0m\u001b[0m\n\u001b[0;32m      4\u001b[0m \u001b[1;32mfrom\u001b[0m \u001b[0mscipy\u001b[0m \u001b[1;32mimport\u001b[0m \u001b[0mstats\u001b[0m\u001b[1;33m\u001b[0m\u001b[0m\n\u001b[1;32m----> 5\u001b[1;33m \u001b[1;32mimport\u001b[0m \u001b[0mgdal\u001b[0m\u001b[1;33m\u001b[0m\u001b[0m\n\u001b[0m\u001b[0;32m      6\u001b[0m \u001b[1;32mimport\u001b[0m \u001b[0mrandom\u001b[0m\u001b[1;33m\u001b[0m\u001b[0m\n\u001b[0;32m      7\u001b[0m \u001b[1;33m\u001b[0m\u001b[0m\n",
      "\u001b[1;31mImportError\u001b[0m: No module named 'gdal'"
     ]
    }
   ],
   "source": [
    "# Cargamos las librerais\n",
    "import numpy as np\n",
    "import matplotlib.pyplot as plt\n",
    "from scipy import stats\n",
    "import gdal\n",
    "import random\n",
    "\n",
    "# Fijamos que muestre los graficos dentro de la linea\n",
    "%matplotlib inline"
   ]
  },
  {
   "cell_type": "markdown",
   "metadata": {},
   "source": [
    "Seleccionamos la imagen sobre la cual queremos calcular la linea de tendencia"
   ]
  },
  {
   "cell_type": "code",
   "execution_count": null,
   "metadata": {
    "collapsed": true
   },
   "outputs": [],
   "source": [
    "# Nombre de la imagen\n",
    "imagen_in = \"../../material/imagenes/l8_oli_20130819.tif\""
   ]
  },
  {
   "cell_type": "markdown",
   "metadata": {},
   "source": [
    "A continuación cargamos la imagen y sus propiedades (número de filas, columnas, etc).\n",
    "\n",
    "Luego de esto leemos las bandas del rojo y el infrarrojo cercano como array de numpy y lo convertimos en un array lineal."
   ]
  },
  {
   "cell_type": "code",
   "execution_count": null,
   "metadata": {
    "collapsed": true
   },
   "outputs": [],
   "source": [
    "# cargo la imagen como un handle\n",
    "imagen_ha = gdal.Open(imagen_in)\n",
    "\n",
    "# Leo la cantidad de filas y columnas\n",
    "Nx = imagen_ha.RasterXSize\n",
    "Ny = imagen_ha.RasterYSize\n",
    "N  = imagen_ha.RasterCount\n",
    "\n",
    "\n",
    "# Leo las bandas 3 y 4 a dos arrays\n",
    "red = imagen_ha.GetRasterBand(3).ReadAsArray()\n",
    "nir = imagen_ha.GetRasterBand(4).ReadAsArray()\n",
    "\n",
    "# Convierto los arrays a 1D\n",
    "red.shape = Nx*Ny\n",
    "nir.shape = Nx*Ny"
   ]
  },
  {
   "cell_type": "markdown",
   "metadata": {},
   "source": [
    "Para encontrar la linea de suelo, buscamos ajustar los valores de brillo de la banda nir minimos para cada valor de la banda red.\n",
    "\n",
    "Para esto debemos primero fijar los valores minimos y maximos de brillo para la banda red, ademas del tamaño de la ventana que usaremos para buscar el minimo."
   ]
  },
  {
   "cell_type": "code",
   "execution_count": null,
   "metadata": {
    "collapsed": true
   },
   "outputs": [],
   "source": [
    "lmin = 1000\n",
    "lmax = 3500\n",
    "step = 10"
   ]
  },
  {
   "cell_type": "markdown",
   "metadata": {},
   "source": [
    "Construimos luego dos arrays x e y con los valores encontrados"
   ]
  },
  {
   "cell_type": "code",
   "execution_count": null,
   "metadata": {
    "collapsed": false
   },
   "outputs": [],
   "source": [
    "# Creamos los arrays vacios\n",
    "x = np.array([])\n",
    "y = np.array([])\n",
    "# Recorremos el rango de interes\n",
    "for i in range(lmin,lmax,step):\n",
    "    # Si tenemos valores en el rango\n",
    "    if len(nir[(red>=i) & (red<i+step)]) > 0 :\n",
    "        # Buscamos el minimo\n",
    "        x2 = np.min(nir[(red>=i) & (red<i+step)])\n",
    "        # Calculamos x para el minimo\n",
    "        x1 = np.average(red[(nir==x2) & (red >= i) & (red <i+step)])\n",
    "        # Guardamos el minimo\n",
    "        x = np.append(x,x1)\n",
    "        y = np.append(y,x2)"
   ]
  },
  {
   "cell_type": "markdown",
   "metadata": {},
   "source": [
    "Usando `scipy` ajustamos los valores encontrados anteriormente"
   ]
  },
  {
   "cell_type": "code",
   "execution_count": null,
   "metadata": {
    "collapsed": false
   },
   "outputs": [],
   "source": [
    "# Hacemos una regresion lineal\n",
    "L = stats.linregress(x,y)\n",
    "print(L)"
   ]
  },
  {
   "cell_type": "markdown",
   "metadata": {},
   "source": [
    "Finalmente graficamos el scatter plot de ambas bandas junto con los valores encontrados."
   ]
  },
  {
   "cell_type": "code",
   "execution_count": null,
   "metadata": {
    "collapsed": false
   },
   "outputs": [],
   "source": [
    "# Hago el scatterplot\n",
    "plt.scatter(red,nir,label='Valores de la imagen')\n",
    "# Graficamos los puntos usados para hacer el ajuste\n",
    "plt.scatter(x,y,color=\"green\")\n",
    "\n",
    "# Graficamos la liena de suelo\n",
    "t = np.linspace(0,5000,3)\n",
    "l = L[0]*t+L[1]\n",
    "plt.plot(t,l,color = \"red\", label='Linea de suelo\\n L = '+str(int(1e2*L[0])/1e2)+'\\n b = '+str(int(L[1]))+'\\n r2 = '+str(str(int(1e5*L[2])/1e5)))\n",
    "# Pongo el limite en x e y fijo la relacion de aspecto en 1\n",
    "plt.axis('equal')\n",
    "plt.axis([0, 5000, 0, 5000])\n",
    "# Pongo nombres a los ejes\n",
    "plt.xlabel(\"Red [Arb.]\")\n",
    "plt.ylabel(\"Nir [Arb.]\")\n",
    "# Pongo titulo\n",
    "plt.title(\"Scatterplot NIR-Red\")\n",
    "# Configuracion de la leyenda\n",
    "plt.legend(numpoints=1,loc=4)\n",
    "# Muestro el scatterplot\n",
    "plt.show()"
   ]
  }
 ],
 "metadata": {
  "anaconda-cloud": {},
  "kernelspec": {
   "display_name": "Python [Root]",
   "language": "python",
   "name": "Python [Root]"
  },
  "language_info": {
   "codemirror_mode": {
    "name": "ipython",
    "version": 3
   },
   "file_extension": ".py",
   "mimetype": "text/x-python",
   "name": "python",
   "nbconvert_exporter": "python",
   "pygments_lexer": "ipython3",
   "version": "3.5.2"
  }
 },
 "nbformat": 4,
 "nbformat_minor": 0
}
