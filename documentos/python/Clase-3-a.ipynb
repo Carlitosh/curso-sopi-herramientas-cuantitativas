{
 "cells": [
  {
   "cell_type": "markdown",
   "metadata": {},
   "source": [
    "Clase 3(a) - Calculo de índices espectrales\n",
    "===========================================\n",
    "\n",
    "### SoPI II: Herramientas de teledetección cuantitativa"
   ]
  },
  {
   "cell_type": "markdown",
   "metadata": {},
   "source": [
    "En esta clase nos centraremos en el calculo de índices espectrales y la obtención de variables biofísicas a partir de los mismos.\n",
    "\n",
    "Se utilizara este notebook de python para ayudar en el procesamiento.\n",
    "\n",
    "Los notebooks se dividen de la siguiente manera\n",
    "\n",
    "- *(a)* - Estimación de la linea de suelo para una imagen.\n",
    "- (b) - Grafica de la variación temporal de un índice.\n",
    "- (c) - Descomposición en componentes de tendencia y variación temporal."
   ]
  },
  {
   "cell_type": "markdown",
   "metadata": {},
   "source": [
    "### Carga de librerias\n",
    "\n",
    "Recuerde que debe ejecutar **siempre** primero la celda que carga las librerias para ejecutar los procesos.\n",
    "\n",
    "Durante esta clase utilizaremos las librerias\n",
    "\n",
    "- [matplotlib](http://matplotlib.org/) para generación de gráficos.\n",
    "- [numpy](http://www.numpy.org/) para el procesamiento numérico y matricial.\n",
    "- [scipy](http://www.scipy.org) para realizar los ajustees lineales.\n",
    "- [gdal](http://www.gdal.org) para la apertura de imágenes."
   ]
  },
  {
   "cell_type": "code",
   "execution_count": 8,
   "metadata": {
    "collapsed": false
   },
   "outputs": [],
   "source": [
    "# Cargamos las librerais\n",
    "import numpy as np\n",
    "import matplotlib.pyplot as plt\n",
    "from scipy import stats\n",
    "import gdal\n",
    "\n",
    "# Fijamos que muestre los graficos dentro de la linea\n",
    "%matplotlib inline"
   ]
  },
  {
   "cell_type": "markdown",
   "metadata": {},
   "source": [
    "Seleccionamos la imagen sobre la cual queremos calcular la linea de tendencia"
   ]
  },
  {
   "cell_type": "code",
   "execution_count": 3,
   "metadata": {
    "collapsed": true
   },
   "outputs": [],
   "source": [
    "# Nombre de la imagen\n",
    "imagen_in = \"../../material/imagenes/l8_oli_20130819.tif\""
   ]
  },
  {
   "cell_type": "markdown",
   "metadata": {},
   "source": [
    "A continuación cargamos la imagen y sus propiedades (número de filas, columnas, etc).\n",
    "\n",
    "Luego de esto leemos las bandas del rojo y el infrarrojo cercano como array de numpy y lo convertimos en un array lineal."
   ]
  },
  {
   "cell_type": "code",
   "execution_count": 241,
   "metadata": {
    "collapsed": true
   },
   "outputs": [],
   "source": [
    "# cargo la imagen como un handle\n",
    "imagen_ha = gdal.Open(imagen_in)\n",
    "\n",
    "# Leo la cantidad de filas y columnas\n",
    "Nx = imagen_ha.RasterXSize\n",
    "Ny = imagen_ha.RasterYSize\n",
    "N  = imagen_ha.RasterCount\n",
    "\n",
    "\n",
    "# Leo las bandas 3 y 4 a dos arrays\n",
    "red = imagen_ha.GetRasterBand(3).ReadAsArray()\n",
    "nir = imagen_ha.GetRasterBand(4).ReadAsArray()\n",
    "\n",
    "# Convierto los arrays a 1D\n",
    "red.shape = Nx*Ny\n",
    "nir.shape = Nx*Ny"
   ]
  },
  {
   "cell_type": "markdown",
   "metadata": {},
   "source": [
    "Para encontrar la linea de suelo, buscamos ajustar los valores de brillo de la imagen que se encuentren en el percentil mas bajo.\n",
    "\n",
    "Además, descartaremos los valores que esten por debajo de de cierto valor de brillo de corte para evitar ajustar la imagen por puntos provenientes de cuerpos de agua"
   ]
  },
  {
   "cell_type": "code",
   "execution_count": 341,
   "metadata": {
    "collapsed": false
   },
   "outputs": [],
   "source": [
    "limi = (red>900)&(red<3500)\n",
    "r1=red[limi]\n",
    "n1=nir[limi]\n",
    "ratio = n1/r1"
   ]
  },
  {
   "cell_type": "code",
   "execution_count": null,
   "metadata": {
    "collapsed": false
   },
   "outputs": [
    {
     "data": {
      "text/plain": [
       "[<matplotlib.lines.Line2D at 0x7f808122e4e0>]"
      ]
     },
     "execution_count": 342,
     "metadata": {},
     "output_type": "execute_result"
    }
   ],
   "source": [
    "mask = (ratio < np.percentile(ratio,0.2))&(ratio > np.percentile(ratio,0.07))\n",
    "L = stats.linregress(r1[mask],n1[mask])\n",
    "x = np.linspace(0,4000,10)\n",
    "y = L[0]*x+L[1]\n",
    "plt.scatter(red[(red>1000)],nir[(red>1000)])\n",
    "plt.scatter(r1[mask],n1[mask],color=\"green\")\n",
    "plt.plot(x,y,color=\"red\",linewidth=2)"
   ]
  },
  {
   "cell_type": "code",
   "execution_count": 339,
   "metadata": {
    "collapsed": false
   },
   "outputs": [
    {
     "data": {
      "text/plain": [
       "LinregressResult(slope=0.96922283063186498, intercept=24.790471909625694, rvalue=0.96456921942612384, pvalue=1.7162725127695438e-174, stderr=0.015356991097447537)"
      ]
     },
     "execution_count": 339,
     "metadata": {},
     "output_type": "execute_result"
    }
   ],
   "source": [
    "L"
   ]
  },
  {
   "cell_type": "code",
   "execution_count": null,
   "metadata": {
    "collapsed": true
   },
   "outputs": [],
   "source": []
  },
  {
   "cell_type": "code",
   "execution_count": null,
   "metadata": {
    "collapsed": true
   },
   "outputs": [],
   "source": []
  }
 ],
 "metadata": {
  "kernelspec": {
   "display_name": "Python 3",
   "language": "python",
   "name": "python3"
  },
  "language_info": {
   "codemirror_mode": {
    "name": "ipython",
    "version": 3
   },
   "file_extension": ".py",
   "mimetype": "text/x-python",
   "name": "python",
   "nbconvert_exporter": "python",
   "pygments_lexer": "ipython3",
   "version": "3.5.2"
  }
 },
 "nbformat": 4,
 "nbformat_minor": 0
}
