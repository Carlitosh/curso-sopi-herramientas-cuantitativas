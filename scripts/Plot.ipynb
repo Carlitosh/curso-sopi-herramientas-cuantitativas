{
 "cells": [
  {
   "cell_type": "code",
   "execution_count": 11,
   "metadata": {
    "collapsed": true
   },
   "outputs": [],
   "source": [
    "import numpy as np\n",
    "import matplotlib.pyplot as plt\n",
    "import matplotlib.patches as patches\n",
    "%matplotlib inline"
   ]
  },
  {
   "cell_type": "code",
   "execution_count": 5,
   "metadata": {
    "collapsed": false
   },
   "outputs": [],
   "source": [
    "fig = plt.figure(figsize=(8,4.5))\n",
    "\n",
    "plt.xlim(350,2350)\n",
    "plt.ylim(0,0.3)\n",
    "\n",
    "# Valores de longitud de onda para landsat 8\n",
    "x = np.array([482,561,655,864,1608,2200])\n",
    "# Valores de reflectancia\n",
    "y = np.array([142,280,183,2738,843,325])/1e4\n",
    "plt.plot(x,y, linewidth=2.0, color=\"black\", marker=\"o\", label=\"Vegetación\")\n",
    "\n",
    "# Marcamos las regiones del espectro de interes\n",
    "currentAxis = plt.gca()\n",
    "vis = currentAxis.add_patch(patches.Rectangle((640,0), 350, 3500,alpha=0.1, color=\"red\", label=\"Visible\"))\n",
    "# Marcamos las regiones del espectro de interes\n",
    "currentAxis = plt.gca()\n",
    "nir = currentAxis.add_patch(patches.Rectangle((750,0), 650, 3500,alpha=0.1, color=\"green\", label=\"Infrarrojo cercano\"))\n",
    "# Marcamos las regiones del espectro de interes\n",
    "currentAxis = plt.gca()\n",
    "swir = currentAxis.add_patch(patches.Rectangle((1400,0), 1600, 3500,alpha=0.1, color=\"blue\", label=\"Infrarrojo de onda corta\"))\n",
    "\n",
    "# Configuraciones de ploteo. \n",
    "# Cambiar bajo su propio riesgo\n",
    "# Incluyo la leyenda\n",
    "plt.legend(ncol=1, fancybox=True, shadow=False,numpoints=1,handles=[vis,nir,swir])\n",
    "# Pongo nombres a los ejes\n",
    "plt.xlabel(\"Longitud de londa [nm]\")\n",
    "plt.ylabel(\"Relectancia\")\n",
    "\n",
    "plt.tight_layout()\n",
    "\n",
    "plt.show()"
   ]
  },
  {
   "cell_type": "code",
   "execution_count": 3,
   "metadata": {
    "collapsed": false
   },
   "outputs": [],
   "source": [
    "fig = plt.figure(figsize=(8,4.5))\n",
    "\n",
    "plt.xlim(350,2350)\n",
    "plt.ylim(0,0.7)\n",
    "\n",
    "# Valores de longitud de onda para landsat 8\n",
    "x = np.array([482,561,655,864,1608,2200])\n",
    "# Valores de reflectancia\n",
    "y = np.array([600,800,1000,1300,2200,2000])/1e4\n",
    "plt.plot(x,y, linewidth=2.0, color=\"red\", marker=\"o\", label=\"Suelo A\")\n",
    "y = np.array([600,800,1000,1300,2200,2000])/1e4*2\n",
    "plt.plot(x,y, linewidth=2.0, color=\"green\", marker=\"o\", label=\"Suelo B\")\n",
    "y = np.array([600,800,1000,1300,2200,2000])/1e4*3\n",
    "plt.plot(x,y, linewidth=2.0, color=\"blue\", marker=\"o\", label=\"Suelo C\")\n",
    "\n",
    "# Configuraciones de ploteo. \n",
    "# Cambiar bajo su propio riesgo\n",
    "# Incluyo la leyenda\n",
    "plt.legend(ncol=1, fancybox=True, shadow=False,numpoints=1)\n",
    "# Pongo nombres a los ejes\n",
    "plt.xlabel(\"Longitud de londa [nm]\")\n",
    "plt.ylabel(\"Relectancia\")\n",
    "\n",
    "plt.tight_layout()\n",
    "\n",
    "plt.show()"
   ]
  },
  {
   "cell_type": "code",
   "execution_count": 10,
   "metadata": {
    "collapsed": false
   },
   "outputs": [],
   "source": [
    "fig = plt.figure(figsize=(8,4.5))\n",
    "\n",
    "plt.xlim(350,2350)\n",
    "plt.ylim(0,0.05)\n",
    "\n",
    "# Valores de longitud de onda para landsat 8\n",
    "x = np.array([482,561,655,864,1608,2200])\n",
    "# Valores de reflectancia\n",
    "y = np.array([271,420,242,167,86,65])/1e4\n",
    "vy = np.sqrt(np.array([866,3483,1323,1073,911,639]))/1e4\n",
    "plt.errorbar(x,y, yerr=vy, linewidth=2.0, color=\"red\", marker=\"o\", label=\"Río Iguazú\")\n",
    "y = np.array([195,275,191,152,58,38])/1e4\n",
    "vy = np.sqrt(np.array([1021,1641,1524,6227,1944,956]))/1e4\n",
    "plt.errorbar(x,y,yerr=vy, linewidth=2.0, color=\"green\", marker=\"o\", label=\"Río Paraná\")\n",
    "y = np.array([275,432,246,156,66,40])/1e4\n",
    "vy = np.sqrt(np.array([193,264,773,8748,8044,3728]))/1e4\n",
    "plt.errorbar(x,y,yerr=vy, linewidth=2.0, color=\"blue\", marker=\"o\", label=\"Embalse Urugua-í\")\n",
    "\n",
    "# Configuraciones de ploteo. \n",
    "# Cambiar bajo su propio riesgo\n",
    "# Incluyo la leyenda\n",
    "plt.legend(ncol=1, fancybox=True, shadow=False,numpoints=1)\n",
    "# Pongo nombres a los ejes\n",
    "plt.xlabel(\"Longitud de londa [nm]\")\n",
    "plt.ylabel(\"Relectancia\")\n",
    "\n",
    "plt.tight_layout()\n",
    "\n",
    "plt.show()"
   ]
  },
  {
   "cell_type": "code",
   "execution_count": 3,
   "metadata": {
    "collapsed": false
   },
   "outputs": [
    {
     "data": {
      "image/png": "[encoded data removed]",
      "text/plain": [
       "<matplotlib.figure.Figure at 0x7f114b245898>"
      ]
     },
     "metadata": {},
     "output_type": "display_data"
    }
   ],
   "source": [
    "fig = plt.figure(figsize=(8,4.5))\n",
    "\n",
    "plt.xlim(350,2350)\n",
    "plt.ylim(-5,35)\n",
    "\n",
    "# Valores de longitud de onda para landsat 8\n",
    "x = np.array([482,561,655,864,1608,2200])\n",
    "# Valores de reflectancia\n",
    "#y = (np.array([7500,6600,5900,5400,5095,5050])*2e-5-0.1)/np.sin(41*np.pi/180.0)*np.sin(41*np.pi/180.0)/np.pi*np.array([1925,1826,1574,955,242,82.5])\n",
    "#plt.plot(x,y, linestyle = \"None\", color=\"blue\", marker=\"o\", label=\"Valores mínimos\")\n",
    "y = (np.array([0.071,0.038,0.020,0.006,0.0005,0.0002]))*np.sin(41*np.pi/180.0)/np.pi*np.array([1925,1826,1574,955,242,82.5])\n",
    "plt.plot(x,y, linestyle = \"None\", color=\"red\", marker=\"o\", label=\"Valores simulados\")\n",
    "# Configuraciones de ploteo. \n",
    "# Cambiar bajo su propio riesgo\n",
    "# Incluyo la leyenda\n",
    "plt.legend(ncol=1, fancybox=True, shadow=False,numpoints=1)\n",
    "# Pongo nombres a los ejes\n",
    "plt.xlabel(\"Longitud de londa [nm]\")\n",
    "plt.ylabel(\"Irradiancia espectral $[W/m^2sr\\mu m]$\")\n",
    "\n",
    "plt.tight_layout()\n",
    "\n",
    "plt.show()"
   ]
  },
  {
   "cell_type": "code",
   "execution_count": 2,
   "metadata": {
    "collapsed": false
   },
   "outputs": [
    {
     "data": {
      "image/png": "[encoded data removed]",
      "text/plain": [
       "<matplotlib.figure.Figure at 0x7f114bc7a2b0>"
      ]
     },
     "metadata": {},
     "output_type": "display_data"
    }
   ],
   "source": [
    "fig = plt.figure(figsize=(8,4.5))\n",
    "\n",
    "plt.xlim(350,2350)\n",
    "plt.ylim(0,0.1)\n",
    "\n",
    "# Valores de longitud de onda para landsat 8\n",
    "x = np.array([482,561,655,864,1608,2200])\n",
    "# Valores de reflectancia\n",
    "y = np.array([0.071,0.038,0.020,0.006,0.0005,0.0002])\n",
    "plt.plot(x,y, linewidth=2.0, color=\"black\", marker=\"o\", label=\"Vegetación\")\n",
    "\n",
    "# Marcamos las regiones del espectro de interes\n",
    "currentAxis = plt.gca()\n",
    "vis = currentAxis.add_patch(patches.Rectangle((400,0), 350, 3500,alpha=0.1, color=\"red\", label=\"Visible\"))\n",
    "# Marcamos las regiones del espectro de interes\n",
    "currentAxis = plt.gca()\n",
    "nir = currentAxis.add_patch(patches.Rectangle((750,0), 650, 3500,alpha=0.1, color=\"green\", label=\"Infrarrojo cercano\"))\n",
    "# Marcamos las regiones del espectro de interes\n",
    "currentAxis = plt.gca()\n",
    "swir = currentAxis.add_patch(patches.Rectangle((1400,0), 1600, 3500,alpha=0.1, color=\"blue\", label=\"Infrarrojo de onda corta\"))\n",
    "\n",
    "# Configuraciones de ploteo. \n",
    "# Cambiar bajo su propio riesgo\n",
    "# Incluyo la leyenda\n",
    "plt.legend(ncol=1, fancybox=True, shadow=False,numpoints=1,handles=[vis,nir,swir])\n",
    "# Pongo nombres a los ejes\n",
    "plt.xlabel(\"Longitud de londa [nm]\")\n",
    "plt.ylabel(\"Relectancia\")\n",
    "\n",
    "plt.tight_layout()\n",
    "\n",
    "plt.show()"
   ]
  },
  {
   "cell_type": "code",
   "execution_count": 40,
   "metadata": {
    "collapsed": false
   },
   "outputs": [],
   "source": [
    "veg = np.array([np.random.normal(loc=0.05, scale=0.06,size = 100),\n",
    "                np.random.normal(loc=0.40, scale=0.06,size = 100)])\n",
    "ag = np.array([np.random.normal(loc=0.05, scale=0.02,size = 100),\n",
    "                np.random.normal(loc=0.02, scale=0.02,size = 100)])\n",
    "soil = np.array([np.random.normal(loc=0.2, scale=0.04,size = 100),\n",
    "                np.random.normal(loc=0.2, scale=0.04,size = 100)])"
   ]
  },
  {
   "cell_type": "code",
   "execution_count": 86,
   "metadata": {
    "collapsed": false
   },
   "outputs": [
    {
     "name": "stderr",
     "output_type": "stream",
     "text": [
      "/home/fnemina/bin/anaconda3/lib/python3.5/site-packages/matplotlib/axes/_axes.py:519: UserWarning: No labelled objects found. Use label='...' kwarg on individual plots.\n",
      "  warnings.warn(\"No labelled objects found. \"\n"
     ]
    },
    {
     "data": {
      "text/plain": [
       "0.11180339887498947"
      ]
     },
     "execution_count": 86,
     "metadata": {},
     "output_type": "execute_result"
    }
   ],
   "source": [
    "\n",
    "np.sqrt((0.15-0.2)**2+(0.3-0.2)**2)"
   ]
  },
  {
   "cell_type": "code",
   "execution_count": 92,
   "metadata": {
    "collapsed": false
   },
   "outputs": [],
   "source": [
    "\n",
    "plt.xlim(0,0.4)\n",
    "plt.ylim(0,0.6)\n",
    "plt.scatter(0.15,0.3,s=30,color='black',marker='s')\n",
    "plt.scatter(0.05,0.40,s=30,color='green',marker='o')\n",
    "plt.scatter(0.05,0.02,s=30,color='blue',marker='o')\n",
    "plt.scatter(0.20,0.2,s=30,color='red',marker='o')\n",
    "plt.scatter(veg[0],veg[1],color='green',label = 'Vegetación',alpha=0.2);\n",
    "plt.scatter(ag[0],ag[1],color='blue',label = 'Agua',alpha=0.2);\n",
    "plt.scatter(soil[0],soil[1],color='red',label = 'Suelo',alpha=0.2);\n",
    "\n",
    "# Incluyo la leyenda\n",
    "plt.legend(numpoints=1, ncol=1, fancybox=True, shadow=False)\n",
    "\n",
    "\n",
    "\n",
    "# Pongo nombres a los ejes\n",
    "plt.xlabel(\"Rojo\")\n",
    "plt.ylabel(\"Infrarrojo cercano\")\n",
    "plt.show()"
   ]
  },
  {
   "cell_type": "code",
   "execution_count": 135,
   "metadata": {
    "collapsed": false
   },
   "outputs": [],
   "source": [
    "from matplotlib import colors\n",
    "fig = plt.figure()\n",
    "ax = fig.add_subplot(111)\n",
    "m = np.array([[2,2,2,2,2,3,3],\n",
    "     [2,2,2,3,3,3,3],\n",
    "     [2,2,2,3,1,3,3],\n",
    "     [2,2,2,2,1,3,1],\n",
    "     [2,2,2,1,1,1,1],\n",
    "     [2,2,2,2,1,1,1],\n",
    "     [2,2,2,2,2,2,2]])\n",
    "cmap = colors.ListedColormap([ '#33a02c','#1f78b4' ,'#e31a1c'])\n",
    "cax = ax.matshow(m,cmap=cmap)\n",
    "\n",
    "ax.set_xticklabels(['','-3','-2','-1','0','1','2','3'])\n",
    "ax.set_yticklabels(['','-3','-2','-1','0','1','2','3'])\n",
    "plt.tight_layout()\n",
    "plt.show()"
   ]
  },
  {
   "cell_type": "code",
   "execution_count": 142,
   "metadata": {
    "collapsed": false
   },
   "outputs": [
    {
     "data": {
      "text/plain": [
       "array([[ 0.48648649,  0.21621622],\n",
       "       [ 0.02702703,  0.27027027]])"
      ]
     },
     "execution_count": 142,
     "metadata": {},
     "output_type": "execute_result"
    }
   ],
   "source": [
    "np.array([[90,40],[5,50]])"
   ]
  },
  {
   "cell_type": "code",
   "execution_count": 4,
   "metadata": {
    "collapsed": true
   },
   "outputs": [],
   "source": [
    "import pandas as pd"
   ]
  },
  {
   "cell_type": "code",
   "execution_count": 7,
   "metadata": {
    "collapsed": false
   },
   "outputs": [],
   "source": [
    "df = pd.read_csv(\"/home/fnemina/sample.csv\")"
   ]
  },
  {
   "cell_type": "code",
   "execution_count": 6,
   "metadata": {
    "collapsed": true
   },
   "outputs": [],
   "source": [
    "from scipy import stats"
   ]
  },
  {
   "cell_type": "code",
   "execution_count": 8,
   "metadata": {
    "collapsed": false
   },
   "outputs": [
    {
     "data": {
      "text/plain": [
       "LinregressResult(slope=0.0008909224732247164, intercept=0.56633272559518488, rvalue=0.7864627295405513, pvalue=9.5692743158365365e-14, stderr=9.187166655284287e-05)"
      ]
     },
     "execution_count": 8,
     "metadata": {},
     "output_type": "execute_result"
    }
   ],
   "source": [
    "stats.linregress(df.NDVI, df.LAI)"
   ]
  },
  {
   "cell_type": "code",
   "execution_count": 9,
   "metadata": {
    "collapsed": false
   },
   "outputs": [
    {
     "data": {
      "text/plain": [
       "LinregressResult(slope=0.00034618081862360637, intercept=4.5845316475427094, rvalue=0.66418435936530229, pvalue=7.2291885417945804e-09, stderr=5.1162474035746748e-05)"
      ]
     },
     "execution_count": 9,
     "metadata": {},
     "output_type": "execute_result"
    }
   ],
   "source": [
    "stats.linregress(df.EVI, df.LAI)"
   ]
  },
  {
   "cell_type": "code",
   "execution_count": 16,
   "metadata": {
    "collapsed": false
   },
   "outputs": [
    {
     "data": {
      "text/plain": [
       "<matplotlib.axes._subplots.AxesSubplot at 0x7f113a5abeb8>"
      ]
     },
     "execution_count": 16,
     "metadata": {},
     "output_type": "execute_result"
    },
    {
     "data": {
      "image/png": "[encoded data removed]",
      "text/plain": [
       "<matplotlib.figure.Figure at 0x7f113a567da0>"
      ]
     },
     "metadata": {},
     "output_type": "display_data"
    }
   ],
   "source": [
    "df.plot(x=\"NDVI\",y=\"LAI\", kind=\"scatter\")"
   ]
  },
  {
   "cell_type": "code",
   "execution_count": 17,
   "metadata": {
    "collapsed": false
   },
   "outputs": [
    {
     "data": {
      "text/plain": [
       "<matplotlib.axes._subplots.AxesSubplot at 0x7f114b6ddb70>"
      ]
     },
     "execution_count": 17,
     "metadata": {},
     "output_type": "execute_result"
    },
    {
     "data": {
      "image/png": "[encoded data removed]",
      "text/plain": [
       "<matplotlib.figure.Figure at 0x7f113a4df358>"
      ]
     },
     "metadata": {},
     "output_type": "display_data"
    }
   ],
   "source": [
    "df.plot(x=\"EVI\",y=\"LAI\", kind=\"scatter\")"
   ]
  }
 ],
 "metadata": {
  "anaconda-cloud": {},
  "kernelspec": {
   "display_name": "Python [conda root]",
   "language": "python",
   "name": "conda-root-py"
  },
  "language_info": {
   "codemirror_mode": {
    "name": "ipython",
    "version": 3
   },
   "file_extension": ".py",
   "mimetype": "text/x-python",
   "name": "python",
   "nbconvert_exporter": "python",
   "pygments_lexer": "ipython3",
   "version": "3.5.2"
  }
 },
 "nbformat": 4,
 "nbformat_minor": 0
}
