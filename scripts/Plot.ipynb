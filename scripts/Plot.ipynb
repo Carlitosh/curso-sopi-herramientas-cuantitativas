{
 "cells": [
  {
   "cell_type": "code",
   "execution_count": 1,
   "metadata": {
    "collapsed": true
   },
   "outputs": [],
   "source": [
    "import numpy as np\n",
    "import matplotlib.pyplot as plt\n",
    "import matplotlib.patches as patches"
   ]
  },
  {
   "cell_type": "code",
   "execution_count": 5,
   "metadata": {
    "collapsed": false
   },
   "outputs": [],
   "source": [
    "fig = plt.figure(figsize=(8,4.5))\n",
    "\n",
    "plt.xlim(350,2350)\n",
    "plt.ylim(0,0.3)\n",
    "\n",
    "# Valores de longitud de onda para landsat 8\n",
    "x = np.array([482,561,655,864,1608,2200])\n",
    "# Valores de reflectancia\n",
    "y = np.array([142,280,183,2738,843,325])/1e4\n",
    "plt.plot(x,y, linewidth=2.0, color=\"black\", marker=\"o\", label=\"Vegetación\")\n",
    "\n",
    "# Marcamos las regiones del espectro de interes\n",
    "currentAxis = plt.gca()\n",
    "vis = currentAxis.add_patch(patches.Rectangle((640,0), 350, 3500,alpha=0.1, color=\"red\", label=\"Visible\"))\n",
    "# Marcamos las regiones del espectro de interes\n",
    "currentAxis = plt.gca()\n",
    "nir = currentAxis.add_patch(patches.Rectangle((750,0), 650, 3500,alpha=0.1, color=\"green\", label=\"Infrarrojo cercano\"))\n",
    "# Marcamos las regiones del espectro de interes\n",
    "currentAxis = plt.gca()\n",
    "swir = currentAxis.add_patch(patches.Rectangle((1400,0), 1600, 3500,alpha=0.1, color=\"blue\", label=\"Infrarrojo de onda corta\"))\n",
    "\n",
    "# Configuraciones de ploteo. \n",
    "# Cambiar bajo su propio riesgo\n",
    "# Incluyo la leyenda\n",
    "plt.legend(ncol=1, fancybox=True, shadow=False,numpoints=1,handles=[vis,nir,swir])\n",
    "# Pongo nombres a los ejes\n",
    "plt.xlabel(\"Longitud de londa [nm]\")\n",
    "plt.ylabel(\"Relectancia\")\n",
    "\n",
    "plt.tight_layout()\n",
    "\n",
    "plt.show()"
   ]
  },
  {
   "cell_type": "code",
   "execution_count": 3,
   "metadata": {
    "collapsed": false
   },
   "outputs": [],
   "source": [
    "fig = plt.figure(figsize=(8,4.5))\n",
    "\n",
    "plt.xlim(350,2350)\n",
    "plt.ylim(0,0.7)\n",
    "\n",
    "# Valores de longitud de onda para landsat 8\n",
    "x = np.array([482,561,655,864,1608,2200])\n",
    "# Valores de reflectancia\n",
    "y = np.array([600,800,1000,1300,2200,2000])/1e4\n",
    "plt.plot(x,y, linewidth=2.0, color=\"red\", marker=\"o\", label=\"Suelo A\")\n",
    "y = np.array([600,800,1000,1300,2200,2000])/1e4*2\n",
    "plt.plot(x,y, linewidth=2.0, color=\"green\", marker=\"o\", label=\"Suelo B\")\n",
    "y = np.array([600,800,1000,1300,2200,2000])/1e4*3\n",
    "plt.plot(x,y, linewidth=2.0, color=\"blue\", marker=\"o\", label=\"Suelo C\")\n",
    "\n",
    "# Configuraciones de ploteo. \n",
    "# Cambiar bajo su propio riesgo\n",
    "# Incluyo la leyenda\n",
    "plt.legend(ncol=1, fancybox=True, shadow=False,numpoints=1)\n",
    "# Pongo nombres a los ejes\n",
    "plt.xlabel(\"Longitud de londa [nm]\")\n",
    "plt.ylabel(\"Relectancia\")\n",
    "\n",
    "plt.tight_layout()\n",
    "\n",
    "plt.show()"
   ]
  },
  {
   "cell_type": "code",
   "execution_count": 10,
   "metadata": {
    "collapsed": false
   },
   "outputs": [],
   "source": [
    "fig = plt.figure(figsize=(8,4.5))\n",
    "\n",
    "plt.xlim(350,2350)\n",
    "plt.ylim(0,0.05)\n",
    "\n",
    "# Valores de longitud de onda para landsat 8\n",
    "x = np.array([482,561,655,864,1608,2200])\n",
    "# Valores de reflectancia\n",
    "y = np.array([271,420,242,167,86,65])/1e4\n",
    "vy = np.sqrt(np.array([866,3483,1323,1073,911,639]))/1e4\n",
    "plt.errorbar(x,y, yerr=vy, linewidth=2.0, color=\"red\", marker=\"o\", label=\"Río Iguazú\")\n",
    "y = np.array([195,275,191,152,58,38])/1e4\n",
    "vy = np.sqrt(np.array([1021,1641,1524,6227,1944,956]))/1e4\n",
    "plt.errorbar(x,y,yerr=vy, linewidth=2.0, color=\"green\", marker=\"o\", label=\"Río Paraná\")\n",
    "y = np.array([275,432,246,156,66,40])/1e4\n",
    "vy = np.sqrt(np.array([193,264,773,8748,8044,3728]))/1e4\n",
    "plt.errorbar(x,y,yerr=vy, linewidth=2.0, color=\"blue\", marker=\"o\", label=\"Embalse Urugua-í\")\n",
    "\n",
    "# Configuraciones de ploteo. \n",
    "# Cambiar bajo su propio riesgo\n",
    "# Incluyo la leyenda\n",
    "plt.legend(ncol=1, fancybox=True, shadow=False,numpoints=1)\n",
    "# Pongo nombres a los ejes\n",
    "plt.xlabel(\"Longitud de londa [nm]\")\n",
    "plt.ylabel(\"Relectancia\")\n",
    "\n",
    "plt.tight_layout()\n",
    "\n",
    "plt.show()"
   ]
  },
  {
   "cell_type": "code",
   "execution_count": 57,
   "metadata": {
    "collapsed": false
   },
   "outputs": [],
   "source": [
    "fig = plt.figure(figsize=(8,4.5))\n",
    "\n",
    "plt.xlim(350,2350)\n",
    "plt.ylim(-5,35)\n",
    "\n",
    "# Valores de longitud de onda para landsat 8\n",
    "x = np.array([482,561,655,864,1608,2200])\n",
    "# Valores de reflectancia\n",
    "#y = (np.array([7500,6600,5900,5400,5095,5050])*2e-5-0.1)/np.sin(41*np.pi/180.0)*np.sin(41*np.pi/180.0)/np.pi*np.array([1925,1826,1574,955,242,82.5])\n",
    "#plt.plot(x,y, linestyle = \"None\", color=\"blue\", marker=\"o\", label=\"Valores mínimos\")\n",
    "y = (np.array([0.071,0.038,0.020,0.006,0.0005,0.0002]))*np.sin(41*np.pi/180.0)/np.pi*np.array([1925,1826,1574,955,242,82.5])\n",
    "plt.plot(x,y, linestyle = \"None\", color=\"red\", marker=\"o\", label=\"Valores simulados\")\n",
    "# Configuraciones de ploteo. \n",
    "# Cambiar bajo su propio riesgo\n",
    "# Incluyo la leyenda\n",
    "plt.legend(ncol=1, fancybox=True, shadow=False,numpoints=1)\n",
    "# Pongo nombres a los ejes\n",
    "plt.xlabel(\"Longitud de londa [nm]\")\n",
    "plt.ylabel(\"Irradiancia espectral $[W/m^2sr\\mu m]$\")\n",
    "\n",
    "plt.tight_layout()\n",
    "\n",
    "plt.show()"
   ]
  },
  {
   "cell_type": "code",
   "execution_count": 4,
   "metadata": {
    "collapsed": false
   },
   "outputs": [],
   "source": [
    "fig = plt.figure(figsize=(8,4.5))\n",
    "\n",
    "plt.xlim(350,2350)\n",
    "plt.ylim(0,0.1)\n",
    "\n",
    "# Valores de longitud de onda para landsat 8\n",
    "x = np.array([482,561,655,864,1608,2200])\n",
    "# Valores de reflectancia\n",
    "y = np.array([0.071,0.038,0.020,0.006,0.0005,0.0002])\n",
    "plt.plot(x,y, linewidth=2.0, color=\"black\", marker=\"o\", label=\"Vegetación\")\n",
    "\n",
    "# Marcamos las regiones del espectro de interes\n",
    "currentAxis = plt.gca()\n",
    "vis = currentAxis.add_patch(patches.Rectangle((400,0), 350, 3500,alpha=0.1, color=\"red\", label=\"Visible\"))\n",
    "# Marcamos las regiones del espectro de interes\n",
    "currentAxis = plt.gca()\n",
    "nir = currentAxis.add_patch(patches.Rectangle((750,0), 650, 3500,alpha=0.1, color=\"green\", label=\"Infrarrojo cercano\"))\n",
    "# Marcamos las regiones del espectro de interes\n",
    "currentAxis = plt.gca()\n",
    "swir = currentAxis.add_patch(patches.Rectangle((1400,0), 1600, 3500,alpha=0.1, color=\"blue\", label=\"Infrarrojo de onda corta\"))\n",
    "\n",
    "# Configuraciones de ploteo. \n",
    "# Cambiar bajo su propio riesgo\n",
    "# Incluyo la leyenda\n",
    "plt.legend(ncol=1, fancybox=True, shadow=False,numpoints=1,handles=[vis,nir,swir])\n",
    "# Pongo nombres a los ejes\n",
    "plt.xlabel(\"Longitud de londa [nm]\")\n",
    "plt.ylabel(\"Relectancia\")\n",
    "\n",
    "plt.tight_layout()\n",
    "\n",
    "plt.show()"
   ]
  }
 ],
 "metadata": {
  "kernelspec": {
   "display_name": "Python 3",
   "language": "python",
   "name": "python3"
  },
  "language_info": {
   "codemirror_mode": {
    "name": "ipython",
    "version": 3
   },
   "file_extension": ".py",
   "mimetype": "text/x-python",
   "name": "python",
   "nbconvert_exporter": "python",
   "pygments_lexer": "ipython3",
   "version": "3.5.2"
  }
 },
 "nbformat": 4,
 "nbformat_minor": 0
}
